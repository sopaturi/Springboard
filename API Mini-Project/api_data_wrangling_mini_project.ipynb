{
 "cells": [
  {
   "cell_type": "markdown",
   "metadata": {},
   "source": [
    "This exercise will require you to pull some data from the Qunadl API. Qaundl is currently the most widely used aggregator of financial market data."
   ]
  },
  {
   "cell_type": "markdown",
   "metadata": {},
   "source": [
    "As a first step, you will need to register a free account on the http://www.quandl.com website."
   ]
  },
  {
   "cell_type": "markdown",
   "metadata": {},
   "source": [
    "After you register, you will be provided with a unique API key, that you should store:"
   ]
  },
  {
   "cell_type": "code",
   "execution_count": 22,
   "metadata": {},
   "outputs": [],
   "source": [
    "from key import key\n",
    "# Store the API key as a string - according to PEP8, constants are always named in all upper case\n",
    "API_KEY = key"
   ]
  },
  {
   "cell_type": "markdown",
   "metadata": {},
   "source": [
    "Qaundl has a large number of data sources, but, unfortunately, most of them require a Premium subscription. Still, there are also a good number of free datasets."
   ]
  },
  {
   "cell_type": "markdown",
   "metadata": {},
   "source": [
    "For this mini project, we will focus on equities data from the Frankfurt Stock Exhange (FSE), which is available for free. We'll try and analyze the stock prices of a company called Carl Zeiss Meditec, which manufactures tools for eye examinations, as well as medical lasers for laser eye surgery: https://www.zeiss.com/meditec/int/home.html. The company is listed under the stock ticker AFX_X."
   ]
  },
  {
   "cell_type": "markdown",
   "metadata": {},
   "source": [
    "You can find the detailed Quandl API instructions here: https://docs.quandl.com/docs/time-series"
   ]
  },
  {
   "cell_type": "markdown",
   "metadata": {},
   "source": [
    "While there is a dedicated Python package for connecting to the Quandl API, we would prefer that you use the *requests* package, which can be easily downloaded using *pip* or *conda*. You can find the documentation for the package here: http://docs.python-requests.org/en/master/ "
   ]
  },
  {
   "cell_type": "markdown",
   "metadata": {},
   "source": [
    "Finally, apart from the *requests* package, you are encouraged to not use any third party Python packages, such as *pandas*, and instead focus on what's available in the Python Standard Library (the *collections* module might come in handy: https://pymotw.com/3/collections/).\n",
    "Also, since you won't have access to DataFrames, you are encouraged to us Python's native data structures - preferably dictionaries, though some questions can also be answered using lists.\n",
    "You can read more on these data structures here: https://docs.python.org/3/tutorial/datastructures.html"
   ]
  },
  {
   "cell_type": "markdown",
   "metadata": {},
   "source": [
    "Keep in mind that the JSON responses you will be getting from the API map almost one-to-one to Python's dictionaries. Unfortunately, they can be very nested, so make sure you read up on indexing dictionaries in the documentation provided above."
   ]
  },
  {
   "cell_type": "code",
   "execution_count": 23,
   "metadata": {},
   "outputs": [],
   "source": [
    "# First, import the relevant modules\n",
    "\n",
    "import requests\n",
    "import collections\n",
    "import json\n",
    "from key import key"
   ]
  },
  {
   "cell_type": "code",
   "execution_count": 24,
   "metadata": {},
   "outputs": [
    {
     "data": {
      "text/plain": [
       "{'dataset': {'id': 10095370,\n",
       "  'dataset_code': 'AFX_X',\n",
       "  'database_code': 'FSE',\n",
       "  'name': 'Carl Zeiss Meditec (AFX_X)',\n",
       "  'description': 'Stock Prices for Carl Zeiss Meditec (AFX) from the Frankfurt Stock Exchange.<br><br>Trading System: Xetra<br><br>ISIN: DE0005313704',\n",
       "  'refreshed_at': '2018-08-13T22:28:19.420Z',\n",
       "  'newest_available_date': '2018-08-13',\n",
       "  'oldest_available_date': '2000-06-07',\n",
       "  'column_names': ['Date',\n",
       "   'Open',\n",
       "   'High',\n",
       "   'Low',\n",
       "   'Close',\n",
       "   'Change',\n",
       "   'Traded Volume',\n",
       "   'Turnover',\n",
       "   'Last Price of the Day',\n",
       "   'Daily Traded Units',\n",
       "   'Daily Turnover'],\n",
       "  'frequency': 'daily',\n",
       "  'type': 'Time Series',\n",
       "  'premium': False,\n",
       "  'limit': None,\n",
       "  'transform': None,\n",
       "  'column_index': None,\n",
       "  'start_date': '2018-08-09',\n",
       "  'end_date': '2018-08-09',\n",
       "  'data': [['2018-08-09',\n",
       "    None,\n",
       "    69.35,\n",
       "    68.65,\n",
       "    69.35,\n",
       "    None,\n",
       "    58850.0,\n",
       "    4068455.0,\n",
       "    None,\n",
       "    None,\n",
       "    None]],\n",
       "  'collapse': None,\n",
       "  'order': None,\n",
       "  'database_id': 6129}}"
      ]
     },
     "execution_count": 24,
     "metadata": {},
     "output_type": "execute_result"
    }
   ],
   "source": [
    "# Now, call the Quandl API and pull out a small sample of the data (only one day) to get a glimpse\n",
    "# into the JSON structure that will be returned\n",
    "\n",
    "r = requests.get('https://www.quandl.com/api/v3/datasets/FSE/AFX_X?start_date=2018-08-09&end_date=2018-08-09&api_key=' + key)\n",
    "r.headers['content-type']\n",
    "r.json()"
   ]
  },
  {
   "cell_type": "code",
   "execution_count": 4,
   "metadata": {},
   "outputs": [],
   "source": [
    "# Inspect the JSON structure of the object you created, and take note of how nested it is,\n",
    "# as well as the overall structure"
   ]
  },
  {
   "cell_type": "markdown",
   "metadata": {},
   "source": [
    "These are your tasks for this mini project:\n",
    "\n",
    "1. Collect data from the Franfurt Stock Exchange, for the ticker AFX_X, for the whole year 2017 (keep in mind that the date format is YYYY-MM-DD).\n",
    "2. Convert the returned JSON object into a Python dictionary.\n",
    "3. Calculate what the highest and lowest opening prices were for the stock in this period.\n",
    "4. What was the largest change in any one day (based on High and Low price)?\n",
    "5. What was the largest change between any two days (based on Closing Price)?\n",
    "6. What was the average daily trading volume during this year?\n",
    "7. (Optional) What was the median trading volume during this year. (Note: you may need to implement your own function for calculating the median.)"
   ]
  },
  {
   "cell_type": "code",
   "execution_count": 18,
   "metadata": {},
   "outputs": [
    {
     "name": "stdout",
     "output_type": "stream",
     "text": [
      "application/json; charset=utf-8\n"
     ]
    }
   ],
   "source": [
    "#Question 1\n",
    "r = requests.get('https://www.quandl.com/api/v3/datasets/FSE/AFX_X?start_date=2017-01-01&end_date=2017-12-31&api_key=**REMOVED**')\n",
    "r.headers['content-type']  #Type of data format queried for.  In this case, json. \n",
    "json_string=r.text  #Convert object to text so that it can be converted to a dictionary."
   ]
  },
  {
   "cell_type": "code",
   "execution_count": 21,
   "metadata": {},
   "outputs": [],
   "source": [
    "#Question 2\n",
    "dictionary=json.loads(json_string) #Convert string to dictionary\n"
   ]
  },
  {
   "cell_type": "code",
   "execution_count": 13,
   "metadata": {},
   "outputs": [
    {
     "name": "stdout",
     "output_type": "stream",
     "text": [
      "The maximum opening price is : 53.11\n",
      "The minimum opening price is : 34.0\n"
     ]
    }
   ],
   "source": [
    "#Question 3\n",
    "yearly=dictionary['dataset']['data']  #Finding nested dictionary with the entry 'data'\n",
    "open=[]\n",
    "for i in yearly:\n",
    "    if i[1] != None:    #Find the open price everyday of the year\n",
    "         open.append((i[1])) #Append the open price to a list\n",
    "    else:\n",
    "         pass\n",
    "\n",
    "print('The maximum opening price is : ' + str(max(open)))  #Max of list\n",
    "print('The minimum opening price is : ' + str(min(open)))  #Min of list"
   ]
  },
  {
   "cell_type": "code",
   "execution_count": 8,
   "metadata": {},
   "outputs": [
    {
     "name": "stdout",
     "output_type": "stream",
     "text": [
      "The maximum change in a day was: 2.8100000000000023\n"
     ]
    }
   ],
   "source": [
    "#Question 4\n",
    "yearly=dictionary['dataset']['data'] #Finding nested dictionary with the entry 'data'\n",
    "change_list=[]\n",
    "for i in yearly:\n",
    "    if (i[2] != None) & (i[3] != None): #Find the change in price everyday of year\n",
    "        change=i[2]-i[3]\n",
    "        change_list.append(change) #Append the open price to a list\n",
    "    else:\n",
    "         pass\n",
    "      \n",
    "print('The maximum change in a day was: ' + str(max(change_list))) #Max of list\n"
   ]
  },
  {
   "cell_type": "code",
   "execution_count": 14,
   "metadata": {},
   "outputs": [
    {
     "name": "stdout",
     "output_type": "stream",
     "text": [
      "The maximum change over any two days based on closing price was: 19.03\n"
     ]
    }
   ],
   "source": [
    "#Question 5\n",
    "yearly=dictionary['dataset']['data']  #Finding nested dictionary with the entry 'data'\n",
    "close=[]\n",
    "for i in yearly:\n",
    "    if (i[4] != None):  #Find the closing price everyday of year\n",
    "        closing=i[4]\n",
    "        close.append(closing) #Append the closing price to a list\n",
    "    else:\n",
    "         pass\n",
    "\n",
    "\n",
    "      \n",
    "print('The maximum change over any two days based on closing price was: ' + str(max(close)-min(close))) #change in max vs. min closing price\n",
    "\n",
    "         \n",
    "        \n"
   ]
  },
  {
   "cell_type": "code",
   "execution_count": 15,
   "metadata": {},
   "outputs": [
    {
     "name": "stdout",
     "output_type": "stream",
     "text": [
      "The average trading volume during the year was: 89124.33725490196\n"
     ]
    }
   ],
   "source": [
    "#Question 6\n",
    "yearly=dictionary['dataset']['data'] #Finding nested dictionary with the entry 'data'\n",
    "daily_volume=[]\n",
    "for i in yearly:\n",
    "    if (i[6] != None):  #Find the daily trading volume everyday of year\n",
    "        volume=i[6]\n",
    "        daily_volume.append(volume) #Append the trading volume to a list\n",
    "    else:\n",
    "         pass\n",
    "\n",
    "      \n",
    "print('The average trading volume during the year was: ' + str(sum(daily_volume)/len(daily_volume))) #Mean of trading volume in year"
   ]
  },
  {
   "cell_type": "code",
   "execution_count": 20,
   "metadata": {},
   "outputs": [
    {
     "name": "stdout",
     "output_type": "stream",
     "text": [
      "The median trading volume during the year was: 76286.0\n"
     ]
    }
   ],
   "source": [
    "#Question 7\n",
    "yearly=dictionary['dataset']['data']  #Finding nested dictionary with the entry 'data'\n",
    "daily_volume=[]\n",
    "for i in yearly:\n",
    "    if (i[6] != None):  #Find the daily trading volume everyday of year\n",
    "        volume=i[6]\n",
    "        daily_volume.append(volume)  #Append the trading volume to a list\n",
    "    else:\n",
    "         pass\n",
    "\n",
    "daily_volume.sort()\n",
    "\n",
    "def median(daily_volume):  #Function for median of trading volume\n",
    "    if len(daily_volume)/2 == 0: #If there are an even number of daily trading volume data\n",
    "        daily_volume.sort() #Sort data, ascending\n",
    "        median1=((daily_volume[(len(daily_volume)/2)-1]+daily_volume[(len(daily_volume)/2)]))/2 #formula for median\n",
    "        return median1\n",
    "    else:\n",
    "        daily_volume.sort() #Sort data, ascending\n",
    "        median2=daily_volume[(round(len(daily_volume)/2))-1] #formula for median\n",
    "        return median2\n",
    "print('The median trading volume during the year was: ' + str(median(daily_volume)))"
   ]
  },
  {
   "cell_type": "code",
   "execution_count": null,
   "metadata": {},
   "outputs": [],
   "source": []
  },
  {
   "cell_type": "code",
   "execution_count": null,
   "metadata": {},
   "outputs": [],
   "source": []
  },
  {
   "cell_type": "code",
   "execution_count": null,
   "metadata": {},
   "outputs": [],
   "source": []
  },
  {
   "cell_type": "code",
   "execution_count": null,
   "metadata": {},
   "outputs": [],
   "source": []
  }
 ],
 "metadata": {
  "kernelspec": {
   "display_name": "Python 3",
   "language": "python",
   "name": "python3"
  },
  "language_info": {
   "codemirror_mode": {
    "name": "ipython",
    "version": 3
   },
   "file_extension": ".py",
   "mimetype": "text/x-python",
   "name": "python",
   "nbconvert_exporter": "python",
   "pygments_lexer": "ipython3",
   "version": "3.6.5"
  }
 },
 "nbformat": 4,
 "nbformat_minor": 2
}
