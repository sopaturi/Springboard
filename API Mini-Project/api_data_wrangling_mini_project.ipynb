{
 "cells": [
  {
   "cell_type": "markdown",
   "metadata": {},
   "source": [
    "This exercise will require you to pull some data from the Qunadl API. Qaundl is currently the most widely used aggregator of financial market data."
   ]
  },
  {
   "cell_type": "markdown",
   "metadata": {},
   "source": [
    "As a first step, you will need to register a free account on the http://www.quandl.com website."
   ]
  },
  {
   "cell_type": "markdown",
   "metadata": {},
   "source": [
    "After you register, you will be provided with a unique API key, that you should store:"
   ]
  },
  {
   "cell_type": "code",
   "execution_count": 170,
   "metadata": {},
   "outputs": [],
   "source": [
    "from key import key\n",
    "# Store the API key as a string - according to PEP8, constants are always named in all upper case\n",
    "API_KEY = key"
   ]
  },
  {
   "cell_type": "markdown",
   "metadata": {},
   "source": [
    "Qaundl has a large number of data sources, but, unfortunately, most of them require a Premium subscription. Still, there are also a good number of free datasets."
   ]
  },
  {
   "cell_type": "markdown",
   "metadata": {},
   "source": [
    "For this mini project, we will focus on equities data from the Frankfurt Stock Exhange (FSE), which is available for free. We'll try and analyze the stock prices of a company called Carl Zeiss Meditec, which manufactures tools for eye examinations, as well as medical lasers for laser eye surgery: https://www.zeiss.com/meditec/int/home.html. The company is listed under the stock ticker AFX_X."
   ]
  },
  {
   "cell_type": "markdown",
   "metadata": {},
   "source": [
    "You can find the detailed Quandl API instructions here: https://docs.quandl.com/docs/time-series"
   ]
  },
  {
   "cell_type": "markdown",
   "metadata": {},
   "source": [
    "While there is a dedicated Python package for connecting to the Quandl API, we would prefer that you use the *requests* package, which can be easily downloaded using *pip* or *conda*. You can find the documentation for the package here: http://docs.python-requests.org/en/master/ "
   ]
  },
  {
   "cell_type": "markdown",
   "metadata": {},
   "source": [
    "Finally, apart from the *requests* package, you are encouraged to not use any third party Python packages, such as *pandas*, and instead focus on what's available in the Python Standard Library (the *collections* module might come in handy: https://pymotw.com/3/collections/).\n",
    "Also, since you won't have access to DataFrames, you are encouraged to us Python's native data structures - preferably dictionaries, though some questions can also be answered using lists.\n",
    "You can read more on these data structures here: https://docs.python.org/3/tutorial/datastructures.html"
   ]
  },
  {
   "cell_type": "markdown",
   "metadata": {},
   "source": [
    "Keep in mind that the JSON responses you will be getting from the API map almost one-to-one to Python's dictionaries. Unfortunately, they can be very nested, so make sure you read up on indexing dictionaries in the documentation provided above."
   ]
  },
  {
   "cell_type": "code",
   "execution_count": 89,
   "metadata": {},
   "outputs": [],
   "source": [
    "# First, import the relevant modules\n",
    "\n",
    "import requests\n",
    "import collections\n",
    "import json\n",
    "from key import key"
   ]
  },
  {
   "cell_type": "code",
   "execution_count": 90,
   "metadata": {},
   "outputs": [
    {
     "data": {
      "text/plain": [
       "{'dataset': {'id': 10095370,\n",
       "  'dataset_code': 'AFX_X',\n",
       "  'database_code': 'FSE',\n",
       "  'name': 'Carl Zeiss Meditec (AFX_X)',\n",
       "  'description': 'Stock Prices for Carl Zeiss Meditec (AFX) from the Frankfurt Stock Exchange.<br><br>Trading System: Xetra<br><br>ISIN: DE0005313704',\n",
       "  'refreshed_at': '2018-08-15T22:35:37.579Z',\n",
       "  'newest_available_date': '2018-08-15',\n",
       "  'oldest_available_date': '2000-06-07',\n",
       "  'column_names': ['Date',\n",
       "   'Open',\n",
       "   'High',\n",
       "   'Low',\n",
       "   'Close',\n",
       "   'Change',\n",
       "   'Traded Volume',\n",
       "   'Turnover',\n",
       "   'Last Price of the Day',\n",
       "   'Daily Traded Units',\n",
       "   'Daily Turnover'],\n",
       "  'frequency': 'daily',\n",
       "  'type': 'Time Series',\n",
       "  'premium': False,\n",
       "  'limit': None,\n",
       "  'transform': None,\n",
       "  'column_index': None,\n",
       "  'start_date': '2018-08-09',\n",
       "  'end_date': '2018-08-09',\n",
       "  'data': [['2018-08-09',\n",
       "    None,\n",
       "    69.35,\n",
       "    68.65,\n",
       "    69.35,\n",
       "    None,\n",
       "    58850.0,\n",
       "    4068455.0,\n",
       "    None,\n",
       "    None,\n",
       "    None]],\n",
       "  'collapse': None,\n",
       "  'order': None,\n",
       "  'database_id': 6129}}"
      ]
     },
     "execution_count": 90,
     "metadata": {},
     "output_type": "execute_result"
    }
   ],
   "source": [
    "# Now, call the Quandl API and pull out a small sample of the data (only one day) to get a glimpse\n",
    "# into the JSON structure that will be returned\n",
    "\n",
    "r = requests.get('https://www.quandl.com/api/v3/datasets/FSE/AFX_X?start_date=2018-08-09&end_date=2018-08-09&api_key=' + key)\n",
    "r.headers['content-type']\n",
    "r.json()"
   ]
  },
  {
   "cell_type": "code",
   "execution_count": 91,
   "metadata": {},
   "outputs": [],
   "source": [
    "# Inspect the JSON structure of the object you created, and take note of how nested it is,\n",
    "# as well as the overall structure"
   ]
  },
  {
   "cell_type": "markdown",
   "metadata": {},
   "source": [
    "These are your tasks for this mini project:\n",
    "\n",
    "1. Collect data from the Franfurt Stock Exchange, for the ticker AFX_X, for the whole year 2017 (keep in mind that the date format is YYYY-MM-DD).\n",
    "2. Convert the returned JSON object into a Python dictionary.\n",
    "3. Calculate what the highest and lowest opening prices were for the stock in this period.\n",
    "4. What was the largest change in any one day (based on High and Low price)?\n",
    "5. What was the largest change between any two days (based on Closing Price)?\n",
    "6. What was the average daily trading volume during this year?\n",
    "7. (Optional) What was the median trading volume during this year. (Note: you may need to implement your own function for calculating the median.)"
   ]
  },
  {
   "cell_type": "code",
   "execution_count": 92,
   "metadata": {},
   "outputs": [],
   "source": [
    "#Question 1\n",
    "r = requests.get('https://www.quandl.com/api/v3/datasets/FSE/AFX_X?start_date=2017-01-01&end_date=2017-12-31&api_key=a2rusGHVqV67tgCdY38x')\n",
    "r.headers['content-type']  #Type of data format queried for.  In this case, json. \n",
    "json_string=r.text  #Convert object to text so that it can be converted to a dictionary."
   ]
  },
  {
   "cell_type": "code",
   "execution_count": 171,
   "metadata": {},
   "outputs": [],
   "source": [
    "#Question 2\n",
    "dictionary=json.loads(json_string) #Convert string to dictionary"
   ]
  },
  {
   "cell_type": "code",
   "execution_count": 94,
   "metadata": {},
   "outputs": [
    {
     "name": "stdout",
     "output_type": "stream",
     "text": [
      "The maximum opening price is : 53.11\n",
      "The minimum opening price is : 34.0\n"
     ]
    }
   ],
   "source": [
    "#Question 3\n",
    "yearly=dictionary['dataset']['data']  #Finding nested dictionary with the entry 'data'\n",
    "open=[]\n",
    "for i in yearly:\n",
    "    if i[1] != None:    #Find the open price everyday of the year\n",
    "         open.append((i[1])) #Append the open price to a list\n",
    "    else:\n",
    "         pass\n",
    "\n",
    "print('The maximum opening price is : ' + str(max(open)))  #Max of list\n",
    "print('The minimum opening price is : ' + str(min(open)))  #Min of list"
   ]
  },
  {
   "cell_type": "code",
   "execution_count": 95,
   "metadata": {},
   "outputs": [
    {
     "name": "stdout",
     "output_type": "stream",
     "text": [
      "The maximum change in a day was: 2.8100000000000023\n"
     ]
    }
   ],
   "source": [
    "#Question 4\n",
    "yearly=dictionary['dataset']['data'] #Finding nested dictionary with the entry 'data'\n",
    "change_list=[]\n",
    "for i in yearly:\n",
    "    if (i[2] != None) & (i[3] != None): #Find the change in price everyday of year\n",
    "        change=i[2]-i[3]\n",
    "        change_list.append(change) #Append the open price to a list\n",
    "    else:\n",
    "         pass\n",
    "      \n",
    "print('The maximum change in a day was: ' + str(max(change_list))) #Max of list\n"
   ]
  },
  {
   "cell_type": "code",
   "execution_count": 172,
   "metadata": {},
   "outputs": [
    {
     "name": "stdout",
     "output_type": "stream",
     "text": [
      "The difference in closing price between two consecutive days was: 2.559999999999995\n"
     ]
    }
   ],
   "source": [
    "#Question 5\n",
    "yearly=dictionary['dataset']['data']  #Finding nested dictionary with the entry 'data'\n",
    "\n",
    "close=[]\n",
    "closer=[]\n",
    "closer1=[]\n",
    "closer2=[]\n",
    "difference=[]\n",
    "for i in yearly:\n",
    "    closer.append(i[0])   #Extract the dates from dictionary and add to list\n",
    "    for i in closer:\n",
    "        for char in str(i):\n",
    "            if char in '-':\n",
    "                i=i.replace(char, '')  #Remove dashes in date string\n",
    "    closer1.append((int(i)))    #Add reformated dates to a list\n",
    "\n",
    "for j in range(len(closer1)-1):    #Make a list of only consecutive dates\n",
    "    if ((j+1)<(len(closer1))) & ((int(closer1[j])) > (int(closer1[j+1])+50)) & (int(str(closer1[j])[7])==1):\n",
    "        closer2.append([(closer1[j]), (closer1[j+1])])\n",
    "    if (int(closer1[j])-1) == (int(closer1[j+1])):\n",
    "        closer2.append([closer1[j], closer1[j+1]]),\n",
    "        \n",
    "for i in closer2:\n",
    "    for j in i:\n",
    "        if (j in closer1):\n",
    "            for k in yearly:\n",
    "                for char in k[0]:\n",
    "                    if char in '-':\n",
    "                        k[0]=k[0].replace(char, '')\n",
    "                if (k[4] != None) & (j == int(k[0])):\n",
    "                    closing=k[4]  #Find the closing date for each date in consecutive date list\n",
    "                    close.append(closing)\n",
    "                else:\n",
    "                    pass\n",
    "\n",
    "for i in range(len(close)-1):\n",
    "    j=close[i]-close[i+1] #Find the difference between closing dates\n",
    "    difference.append(j)\n",
    "\n",
    "lst = [v for i, v in enumerate(difference) if i % 2 == 0]  #Remove closing date differences that are not on consecutive days\n",
    "\n",
    "if abs(min(lst)) > abs(max(lst)):\n",
    "    print('The difference in closing price between two consecutive days was: ' + str(abs(min(lst)))) \n"
   ]
  },
  {
   "cell_type": "code",
   "execution_count": 175,
   "metadata": {},
   "outputs": [
    {
     "name": "stdout",
     "output_type": "stream",
     "text": [
      "['20171229', '20171228', '20171227', '20171222', '20171221', '20171220', '20171219', '20171218', '20171215', '20171214', '20171213', '20171212', '20171211', '20171208', '20171207', '20171206', '20171205', '20171204', '20171201', '20171130', '20171129', '20171128', '20171127', '20171124', '20171123', '20171122', '20171121', '20171120', '20171117', '20171116', '20171115', '20171114', '20171113', '20171110', '20171109', '20171108', '20171107', '20171106', '20171103', '20171102', '20171101', '20171030', '20171027', '20171026', '20171025', '20171024', '20171023', '20171020', '20171019', '20171018', '20171017', '20171016', '20171013', '20171012', '20171011', '20171010', '20171009', '20171006', '20171005', '20171004', '20171002', '20170929', '20170928', '20170927', '20170926', '20170925', '20170922', '20170921', '20170920', '20170919', '20170918', '20170915', '20170914', '20170913', '20170912', '20170911', '20170908', '20170907', '20170906', '20170905', '20170904', '20170901', '20170831', '20170830', '20170829', '20170828', '20170825', '20170824', '20170823', '20170822', '20170821', '20170818', '20170817', '20170816', '20170815', '20170814', '20170811', '20170810', '20170809', '20170808', '20170807', '20170804', '20170803', '20170802', '20170801', '20170731', '20170728', '20170727', '20170726', '20170725', '20170724', '20170721', '20170720', '20170719', '20170718', '20170717', '20170714', '20170713', '20170712', '20170711', '20170710', '20170707', '20170706', '20170705', '20170704', '20170703', '20170630', '20170629', '20170628', '20170627', '20170626', '20170623', '20170622', '20170621', '20170620', '20170619', '20170616', '20170615', '20170614', '20170613', '20170612', '20170609', '20170608', '20170607', '20170606', '20170602', '20170601', '20170531', '20170530', '20170529', '20170526', '20170525', '20170524', '20170523', '20170522', '20170519', '20170518', '20170517', '20170516', '20170515', '20170512', '20170511', '20170510', '20170509', '20170508', '20170505', '20170504', '20170503', '20170502', '20170501', '20170428', '20170427', '20170426', '20170425', '20170424', '20170421', '20170420', '20170419', '20170418', '20170417', '20170414', '20170413', '20170412', '20170411', '20170410', '20170407', '20170406', '20170405', '20170404', '20170403', '20170331', '20170330', '20170329', '20170328', '20170327', '20170324', '20170323', '20170322', '20170321', '20170320', '20170317', '20170316', '20170315', '20170314', '20170313', '20170310', '20170309', '20170308', '20170307', '20170306', '20170303', '20170302', '20170301', '20170228', '20170227', '20170224', '20170223', '20170222', '20170221', '20170220', '20170217', '20170216', '20170215', '20170214', '20170213', '20170210', '20170209', '20170208', '20170207', '20170206', '20170203', '20170202', '20170201', '20170131', '20170130', '20170127', '20170126', '20170125', '20170124', '20170123', '20170120', '20170119', '20170118', '20170117', '20170116', '20170113', '20170112', '20170111', '20170110', '20170109', '20170106', '20170105', '20170104', '20170103', '20170102']\n",
      "[51.76, 51.6, 51.82, 51.32, 51.4, 51.27, 51.66, 52.62, 52.01, 52.67, 53.09, 52.43, 52.14, 52.12, 51.47, 50.89, 51.25, 51.14, 49.86, 49.7, 48.75, 49.25, 49.2, 49.11, 49.2, 48.8, 48.39, 47.04, 46.84, 47.03, 47.05, 48.0, 48.34, 48.34, 47.21, 47.47, 46.26, 45.99, 45.97, 45.27, 46.04, 45.76, 46.41, 45.41, 45.0, 44.85, 45.0, 44.87, 45.0, 45.77, 45.96, 45.55, 45.4, 45.43, 45.29, 45.84, 45.74, 46.0, 46.05, 46.11, 44.98, 44.17, 43.56, 42.04, 42.37, 42.07, 42.06, 41.46, 41.99, 42.44, 42.27, 42.42, 42.52, 42.45, 42.73, 42.85, 42.67, 42.77, 42.55, 42.62, 42.6, 42.41, 41.9, 41.94, 41.85, 41.91, 42.14, 42.69, 42.71, 42.71, 42.26, 42.41, 42.5, 42.05, 42.28, 42.3, 41.94, 41.68, 41.81, 44.37, 44.96, 45.07, 44.97, 45.56, 45.45, 45.3, 44.97, 45.25, 45.16, 44.82, 44.61, 45.44, 45.66, 45.57, 45.0, 45.6, 45.53, 44.95, 44.95, 44.2, 44.7, 44.53, 44.62, 45.19, 44.8, 45.75, 45.44, 45.2, 45.68, 46.83, 47.21, 46.99, 47.29, 46.99, 47.37, 46.64, 46.63, 45.67, 46.33, 46.32, 46.31, 47.44, 46.27, 47.43, 47.43, 46.99, 46.52, 45.86, 46.02, 45.32, 45.3, 44.78, 44.53, 43.9, 43.84, 44.12, 43.98, 44.19, 45.31, 45.14, 44.99, 45.0, 43.28, 43.3, 42.24, 42.75, 42.5, 41.9, 42.15, 41.72, 41.72, 42.16, 41.5, 41.89, 41.81, 41.32, 41.93, 42.61, 42.0, 42.2, 42.2, 42.2, 42.2, 41.75, 41.68, 41.42, 41.05, 41.1, 40.81, 39.64, 39.98, 39.75, 40.01, 39.22, 38.85, 38.94, 38.96, 38.94, 40.98, 41.97, 41.34, 41.46, 41.25, 41.3, 41.3, 41.4, 41.4, 41.68, 41.42, 41.4, 41.18, 41.17, 41.2, 40.84, 40.39, 39.74, 39.79, 39.7, 39.45, 38.98, 39.02, 38.71, 38.72, 38.37, 38.53, 37.06, 36.25, 36.05, 35.89, 35.64, 36.1, 36.07, 35.94, 34.56, 35.15, 35.3, 34.89, 34.83, 34.22, 34.06, 34.17, 34.5, 34.9, 34.99, 35.07, 34.85, 34.9, 35.42, 34.91, 34.67, 35.04, 35.06, 35.19, 35.48, 35.8]\n"
     ]
    }
   ],
   "source": [
    "dates=[i[0] for i in yearly]\n",
    "print(dates)\n",
    "closing_prices=[i[4] for i in yearly]\n",
    "print(closing_prices)\n",
    "next_day=closing_prices[1:]\n",
    "#for i in range(len(next_day)-1):\n",
    "  p\n"
   ]
  },
  {
   "cell_type": "code",
   "execution_count": 169,
   "metadata": {},
   "outputs": [
    {
     "name": "stdout",
     "output_type": "stream",
     "text": [
      "The average trading volume during the year was: 89124.33725490196\n"
     ]
    }
   ],
   "source": [
    "#Question 6\n",
    "yearly=dictionary['dataset']['data'] #Finding nested dictionary with the entry 'data'\n",
    "daily_volume=[]\n",
    "for i in yearly:\n",
    "    if (i[6] != None):  #Find the daily trading volume everyday of year\n",
    "        volume=i[6]\n",
    "        daily_volume.append(volume) #Append the trading volume to a list\n",
    "    else:\n",
    "         pass\n",
    "\n",
    "      \n",
    "print('The average trading volume during the year was: ' + str(sum(daily_volume)/len(daily_volume))) #Mean of trading volume in year"
   ]
  },
  {
   "cell_type": "code",
   "execution_count": 124,
   "metadata": {},
   "outputs": [
    {
     "name": "stdout",
     "output_type": "stream",
     "text": [
      "The median trading volume during the year was: 76286.0\n"
     ]
    }
   ],
   "source": [
    "#Question 7\n",
    "yearly=dictionary['dataset']['data']  #Finding nested dictionary with the entry 'data'\n",
    "daily_volume=[]\n",
    "for i in yearly:\n",
    "    if (i[6] != None):  #Find the daily trading volume everyday of year\n",
    "        volume=i[6]\n",
    "        daily_volume.append(volume)  #Append the trading volume to a list\n",
    "    else:\n",
    "         pass\n",
    "\n",
    "daily_volume.sort()\n",
    "\n",
    "def median(daily_volume):  #Function for median of trading volume\n",
    "    if len(daily_volume)/2 == 0: #If there are an even number of daily trading volume data\n",
    "        daily_volume.sort() #Sort data, ascending\n",
    "        median1=((daily_volume[(len(daily_volume)/2)-1]+daily_volume[(len(daily_volume)/2)]))/2 #formula for median\n",
    "        return median1\n",
    "    else:\n",
    "        daily_volume.sort() #Sort data, ascending\n",
    "        median2=daily_volume[(round(len(daily_volume)/2))-1] #formula for median\n",
    "        return median2\n",
    "print('The median trading volume during the year was: ' + str(median(daily_volume)))"
   ]
  },
  {
   "cell_type": "code",
   "execution_count": null,
   "metadata": {},
   "outputs": [],
   "source": []
  },
  {
   "cell_type": "code",
   "execution_count": null,
   "metadata": {},
   "outputs": [],
   "source": []
  },
  {
   "cell_type": "code",
   "execution_count": null,
   "metadata": {},
   "outputs": [],
   "source": []
  }
 ],
 "metadata": {
  "kernelspec": {
   "display_name": "Python 3",
   "language": "python",
   "name": "python3"
  },
  "language_info": {
   "codemirror_mode": {
    "name": "ipython",
    "version": 3
   },
   "file_extension": ".py",
   "mimetype": "text/x-python",
   "name": "python",
   "nbconvert_exporter": "python",
   "pygments_lexer": "ipython3",
   "version": "3.6.5"
  }
 },
 "nbformat": 4,
 "nbformat_minor": 2
}
