{
 "cells": [
  {
   "cell_type": "markdown",
   "metadata": {},
   "source": [
    "# Identifying Factors for User Adoption"
   ]
  },
  {
   "cell_type": "markdown",
   "metadata": {},
   "source": [
    "The dataset is stored in two csv files, one for 12,000 users who signed up for the product in the last two years.  The fields in this table include:\n",
    "- name: the user's name\n",
    "- object_id: the user's id\n",
    "- email: email address\n",
    "- creation_source: how their account was created. This takes on one of 5 values:\n",
    "- PERSONAL_PROJECTS: invited to join another user's personal workspace\n",
    "- GUEST_INVITE: invited to an organization as a guest (limited permissions)\n",
    "- ORG_INVITE: invited to an organization (as a full member)\n",
    "- SIGNUP: signed up via the website\n",
    "- SIGNUP_GOOGLE_AUTH: signed up using Google Authentication (using a Google email account for their login id)\n",
    "- creation_time: when they created their account\n",
    "- last_session_creation_time: unix timestamp of last login\n",
    "- opted_in_to_mailing_list: whether they have opted into receiving marketing emails\n",
    "- enabled_for_marketing_drip: whether they are on the regular marketing email drip\n",
    "- org_id: the organization (group of users) they belong to\n",
    "- invited_by_user_id: which user invited them to join (if applicable).\n",
    "\n",
    "The second dataset is a usage summary table that has a row for each day that a user logged into the product.  \n",
    "\n",
    "An adopted user is a user who has logged into the product on three separate days in at least one seven-day period.\n",
    "\n",
    "The goal is to identify which features predict a future adopted user."
   ]
  },
  {
   "cell_type": "markdown",
   "metadata": {},
   "source": [
    "### Create a Pandas DataFrames \n",
    "\n",
    "The csv files are read into Pandas DataFrames."
   ]
  },
  {
   "cell_type": "code",
   "execution_count": 1,
   "metadata": {},
   "outputs": [],
   "source": [
    "import pandas as pd\n",
    "\n",
    "users=pd.read_csv('takehome_users.csv', encoding='latin-1')\n",
    "engagement=pd.read_csv('takehome_user_engagement.csv', encoding='latin-1')"
   ]
  },
  {
   "cell_type": "code",
   "execution_count": 2,
   "metadata": {},
   "outputs": [
    {
     "data": {
      "text/html": [
       "<div>\n",
       "<style scoped>\n",
       "    .dataframe tbody tr th:only-of-type {\n",
       "        vertical-align: middle;\n",
       "    }\n",
       "\n",
       "    .dataframe tbody tr th {\n",
       "        vertical-align: top;\n",
       "    }\n",
       "\n",
       "    .dataframe thead th {\n",
       "        text-align: right;\n",
       "    }\n",
       "</style>\n",
       "<table border=\"1\" class=\"dataframe\">\n",
       "  <thead>\n",
       "    <tr style=\"text-align: right;\">\n",
       "      <th></th>\n",
       "      <th>object_id</th>\n",
       "      <th>creation_time</th>\n",
       "      <th>name</th>\n",
       "      <th>email</th>\n",
       "      <th>creation_source</th>\n",
       "      <th>last_session_creation_time</th>\n",
       "      <th>opted_in_to_mailing_list</th>\n",
       "      <th>enabled_for_marketing_drip</th>\n",
       "      <th>org_id</th>\n",
       "      <th>invited_by_user_id</th>\n",
       "    </tr>\n",
       "  </thead>\n",
       "  <tbody>\n",
       "    <tr>\n",
       "      <th>0</th>\n",
       "      <td>1</td>\n",
       "      <td>2014-04-22 03:53:30</td>\n",
       "      <td>Clausen August</td>\n",
       "      <td>AugustCClausen@yahoo.com</td>\n",
       "      <td>GUEST_INVITE</td>\n",
       "      <td>1.398139e+09</td>\n",
       "      <td>1</td>\n",
       "      <td>0</td>\n",
       "      <td>11</td>\n",
       "      <td>10803.0</td>\n",
       "    </tr>\n",
       "    <tr>\n",
       "      <th>1</th>\n",
       "      <td>2</td>\n",
       "      <td>2013-11-15 03:45:04</td>\n",
       "      <td>Poole Matthew</td>\n",
       "      <td>MatthewPoole@gustr.com</td>\n",
       "      <td>ORG_INVITE</td>\n",
       "      <td>1.396238e+09</td>\n",
       "      <td>0</td>\n",
       "      <td>0</td>\n",
       "      <td>1</td>\n",
       "      <td>316.0</td>\n",
       "    </tr>\n",
       "    <tr>\n",
       "      <th>2</th>\n",
       "      <td>3</td>\n",
       "      <td>2013-03-19 23:14:52</td>\n",
       "      <td>Bottrill Mitchell</td>\n",
       "      <td>MitchellBottrill@gustr.com</td>\n",
       "      <td>ORG_INVITE</td>\n",
       "      <td>1.363735e+09</td>\n",
       "      <td>0</td>\n",
       "      <td>0</td>\n",
       "      <td>94</td>\n",
       "      <td>1525.0</td>\n",
       "    </tr>\n",
       "    <tr>\n",
       "      <th>3</th>\n",
       "      <td>4</td>\n",
       "      <td>2013-05-21 08:09:28</td>\n",
       "      <td>Clausen Nicklas</td>\n",
       "      <td>NicklasSClausen@yahoo.com</td>\n",
       "      <td>GUEST_INVITE</td>\n",
       "      <td>1.369210e+09</td>\n",
       "      <td>0</td>\n",
       "      <td>0</td>\n",
       "      <td>1</td>\n",
       "      <td>5151.0</td>\n",
       "    </tr>\n",
       "    <tr>\n",
       "      <th>4</th>\n",
       "      <td>5</td>\n",
       "      <td>2013-01-17 10:14:20</td>\n",
       "      <td>Raw Grace</td>\n",
       "      <td>GraceRaw@yahoo.com</td>\n",
       "      <td>GUEST_INVITE</td>\n",
       "      <td>1.358850e+09</td>\n",
       "      <td>0</td>\n",
       "      <td>0</td>\n",
       "      <td>193</td>\n",
       "      <td>5240.0</td>\n",
       "    </tr>\n",
       "  </tbody>\n",
       "</table>\n",
       "</div>"
      ],
      "text/plain": [
       "   object_id        creation_time               name  \\\n",
       "0          1  2014-04-22 03:53:30     Clausen August   \n",
       "1          2  2013-11-15 03:45:04      Poole Matthew   \n",
       "2          3  2013-03-19 23:14:52  Bottrill Mitchell   \n",
       "3          4  2013-05-21 08:09:28    Clausen Nicklas   \n",
       "4          5  2013-01-17 10:14:20          Raw Grace   \n",
       "\n",
       "                        email creation_source  last_session_creation_time  \\\n",
       "0    AugustCClausen@yahoo.com    GUEST_INVITE                1.398139e+09   \n",
       "1      MatthewPoole@gustr.com      ORG_INVITE                1.396238e+09   \n",
       "2  MitchellBottrill@gustr.com      ORG_INVITE                1.363735e+09   \n",
       "3   NicklasSClausen@yahoo.com    GUEST_INVITE                1.369210e+09   \n",
       "4          GraceRaw@yahoo.com    GUEST_INVITE                1.358850e+09   \n",
       "\n",
       "   opted_in_to_mailing_list  enabled_for_marketing_drip  org_id  \\\n",
       "0                         1                           0      11   \n",
       "1                         0                           0       1   \n",
       "2                         0                           0      94   \n",
       "3                         0                           0       1   \n",
       "4                         0                           0     193   \n",
       "\n",
       "   invited_by_user_id  \n",
       "0             10803.0  \n",
       "1               316.0  \n",
       "2              1525.0  \n",
       "3              5151.0  \n",
       "4              5240.0  "
      ]
     },
     "execution_count": 2,
     "metadata": {},
     "output_type": "execute_result"
    }
   ],
   "source": [
    "users.head(5)"
   ]
  },
  {
   "cell_type": "code",
   "execution_count": 3,
   "metadata": {},
   "outputs": [
    {
     "data": {
      "text/html": [
       "<div>\n",
       "<style scoped>\n",
       "    .dataframe tbody tr th:only-of-type {\n",
       "        vertical-align: middle;\n",
       "    }\n",
       "\n",
       "    .dataframe tbody tr th {\n",
       "        vertical-align: top;\n",
       "    }\n",
       "\n",
       "    .dataframe thead th {\n",
       "        text-align: right;\n",
       "    }\n",
       "</style>\n",
       "<table border=\"1\" class=\"dataframe\">\n",
       "  <thead>\n",
       "    <tr style=\"text-align: right;\">\n",
       "      <th></th>\n",
       "      <th>time_stamp</th>\n",
       "      <th>user_id</th>\n",
       "      <th>visited</th>\n",
       "    </tr>\n",
       "  </thead>\n",
       "  <tbody>\n",
       "    <tr>\n",
       "      <th>0</th>\n",
       "      <td>2014-04-22 03:53:30</td>\n",
       "      <td>1</td>\n",
       "      <td>1</td>\n",
       "    </tr>\n",
       "    <tr>\n",
       "      <th>1</th>\n",
       "      <td>2013-11-15 03:45:04</td>\n",
       "      <td>2</td>\n",
       "      <td>1</td>\n",
       "    </tr>\n",
       "    <tr>\n",
       "      <th>2</th>\n",
       "      <td>2013-11-29 03:45:04</td>\n",
       "      <td>2</td>\n",
       "      <td>1</td>\n",
       "    </tr>\n",
       "    <tr>\n",
       "      <th>3</th>\n",
       "      <td>2013-12-09 03:45:04</td>\n",
       "      <td>2</td>\n",
       "      <td>1</td>\n",
       "    </tr>\n",
       "    <tr>\n",
       "      <th>4</th>\n",
       "      <td>2013-12-25 03:45:04</td>\n",
       "      <td>2</td>\n",
       "      <td>1</td>\n",
       "    </tr>\n",
       "  </tbody>\n",
       "</table>\n",
       "</div>"
      ],
      "text/plain": [
       "            time_stamp  user_id  visited\n",
       "0  2014-04-22 03:53:30        1        1\n",
       "1  2013-11-15 03:45:04        2        1\n",
       "2  2013-11-29 03:45:04        2        1\n",
       "3  2013-12-09 03:45:04        2        1\n",
       "4  2013-12-25 03:45:04        2        1"
      ]
     },
     "execution_count": 3,
     "metadata": {},
     "output_type": "execute_result"
    }
   ],
   "source": [
    "engagement.head(5)"
   ]
  },
  {
   "cell_type": "markdown",
   "metadata": {},
   "source": [
    "### Finding adopted users\n",
    "\n",
    "An adopted user is a user who has logged into the product on three separate days in at least one seven-day period.  All unique users that logged in were found and then their logins over all seven day periods were counted using the pandas rolling function.  If maximum value for the users login count in seven days was above three days, the user would be considered an adopted user. "
   ]
  },
  {
   "cell_type": "code",
   "execution_count": 4,
   "metadata": {},
   "outputs": [],
   "source": [
    "\n",
    "unique_users=set(engagement['user_id']) #unique_users\n",
    "adopted_user=[]\n",
    "\n",
    "#use a rolling function in pandas to count the number of logins in a 7 day period for all users\n",
    "for i, user in enumerate(unique_users):\n",
    "    unique_user=engagement[engagement.user_id==user]\n",
    "    unique_user=unique_user[['time_stamp', 'user_id']]\n",
    "    unique_user['time_stamp']=pd.to_datetime(unique_user['time_stamp'])\n",
    "    unique_user=unique_user.set_index('time_stamp')\n",
    "    unique_user['at_least_3_days_over_7_days_period'] = unique_user.rolling(window = '7D').count()\n",
    "\n",
    "#check if the number of logins per week is at least 3    \n",
    "    if max(unique_user['at_least_3_days_over_7_days_period']) >=3:\n",
    "        adopted_user.append(user)\n",
    "\n",
    "        \n",
    "\n",
    "\n"
   ]
  },
  {
   "cell_type": "markdown",
   "metadata": {},
   "source": [
    "Below is the percentage of users that logged in that are adopted users"
   ]
  },
  {
   "cell_type": "code",
   "execution_count": 5,
   "metadata": {},
   "outputs": [
    {
     "name": "stdout",
     "output_type": "stream",
     "text": [
      "Percentage of users that logged in that are adopted users: 18.157089425365523\n"
     ]
    }
   ],
   "source": [
    "print('Percentage of users that logged in that are adopted users: ' + str(len(adopted_user)/len(unique_users)*100))\n"
   ]
  },
  {
   "cell_type": "markdown",
   "metadata": {},
   "source": [
    "### Join Adopted User Feature with Users DataFrame\n",
    "\n",
    "The adopted user feature, the variable to be predicted was added to the dataFrame containing information on all user signups."
   ]
  },
  {
   "cell_type": "code",
   "execution_count": 6,
   "metadata": {},
   "outputs": [
    {
     "data": {
      "text/html": [
       "<div>\n",
       "<style scoped>\n",
       "    .dataframe tbody tr th:only-of-type {\n",
       "        vertical-align: middle;\n",
       "    }\n",
       "\n",
       "    .dataframe tbody tr th {\n",
       "        vertical-align: top;\n",
       "    }\n",
       "\n",
       "    .dataframe thead th {\n",
       "        text-align: right;\n",
       "    }\n",
       "</style>\n",
       "<table border=\"1\" class=\"dataframe\">\n",
       "  <thead>\n",
       "    <tr style=\"text-align: right;\">\n",
       "      <th></th>\n",
       "      <th>object_id</th>\n",
       "      <th>creation_time</th>\n",
       "      <th>name</th>\n",
       "      <th>email</th>\n",
       "      <th>creation_source</th>\n",
       "      <th>last_session_creation_time</th>\n",
       "      <th>opted_in_to_mailing_list</th>\n",
       "      <th>enabled_for_marketing_drip</th>\n",
       "      <th>org_id</th>\n",
       "      <th>invited_by_user_id</th>\n",
       "      <th>adopted_user</th>\n",
       "    </tr>\n",
       "  </thead>\n",
       "  <tbody>\n",
       "    <tr>\n",
       "      <th>0</th>\n",
       "      <td>1</td>\n",
       "      <td>2014-04-22 03:53:30</td>\n",
       "      <td>Clausen August</td>\n",
       "      <td>AugustCClausen@yahoo.com</td>\n",
       "      <td>GUEST_INVITE</td>\n",
       "      <td>1.398139e+09</td>\n",
       "      <td>1</td>\n",
       "      <td>0</td>\n",
       "      <td>11</td>\n",
       "      <td>10803.0</td>\n",
       "      <td>0</td>\n",
       "    </tr>\n",
       "    <tr>\n",
       "      <th>1</th>\n",
       "      <td>2</td>\n",
       "      <td>2013-11-15 03:45:04</td>\n",
       "      <td>Poole Matthew</td>\n",
       "      <td>MatthewPoole@gustr.com</td>\n",
       "      <td>ORG_INVITE</td>\n",
       "      <td>1.396238e+09</td>\n",
       "      <td>0</td>\n",
       "      <td>0</td>\n",
       "      <td>1</td>\n",
       "      <td>316.0</td>\n",
       "      <td>1</td>\n",
       "    </tr>\n",
       "    <tr>\n",
       "      <th>2</th>\n",
       "      <td>3</td>\n",
       "      <td>2013-03-19 23:14:52</td>\n",
       "      <td>Bottrill Mitchell</td>\n",
       "      <td>MitchellBottrill@gustr.com</td>\n",
       "      <td>ORG_INVITE</td>\n",
       "      <td>1.363735e+09</td>\n",
       "      <td>0</td>\n",
       "      <td>0</td>\n",
       "      <td>94</td>\n",
       "      <td>1525.0</td>\n",
       "      <td>0</td>\n",
       "    </tr>\n",
       "    <tr>\n",
       "      <th>3</th>\n",
       "      <td>4</td>\n",
       "      <td>2013-05-21 08:09:28</td>\n",
       "      <td>Clausen Nicklas</td>\n",
       "      <td>NicklasSClausen@yahoo.com</td>\n",
       "      <td>GUEST_INVITE</td>\n",
       "      <td>1.369210e+09</td>\n",
       "      <td>0</td>\n",
       "      <td>0</td>\n",
       "      <td>1</td>\n",
       "      <td>5151.0</td>\n",
       "      <td>0</td>\n",
       "    </tr>\n",
       "    <tr>\n",
       "      <th>4</th>\n",
       "      <td>5</td>\n",
       "      <td>2013-01-17 10:14:20</td>\n",
       "      <td>Raw Grace</td>\n",
       "      <td>GraceRaw@yahoo.com</td>\n",
       "      <td>GUEST_INVITE</td>\n",
       "      <td>1.358850e+09</td>\n",
       "      <td>0</td>\n",
       "      <td>0</td>\n",
       "      <td>193</td>\n",
       "      <td>5240.0</td>\n",
       "      <td>0</td>\n",
       "    </tr>\n",
       "  </tbody>\n",
       "</table>\n",
       "</div>"
      ],
      "text/plain": [
       "   object_id        creation_time               name  \\\n",
       "0          1  2014-04-22 03:53:30     Clausen August   \n",
       "1          2  2013-11-15 03:45:04      Poole Matthew   \n",
       "2          3  2013-03-19 23:14:52  Bottrill Mitchell   \n",
       "3          4  2013-05-21 08:09:28    Clausen Nicklas   \n",
       "4          5  2013-01-17 10:14:20          Raw Grace   \n",
       "\n",
       "                        email creation_source  last_session_creation_time  \\\n",
       "0    AugustCClausen@yahoo.com    GUEST_INVITE                1.398139e+09   \n",
       "1      MatthewPoole@gustr.com      ORG_INVITE                1.396238e+09   \n",
       "2  MitchellBottrill@gustr.com      ORG_INVITE                1.363735e+09   \n",
       "3   NicklasSClausen@yahoo.com    GUEST_INVITE                1.369210e+09   \n",
       "4          GraceRaw@yahoo.com    GUEST_INVITE                1.358850e+09   \n",
       "\n",
       "   opted_in_to_mailing_list  enabled_for_marketing_drip  org_id  \\\n",
       "0                         1                           0      11   \n",
       "1                         0                           0       1   \n",
       "2                         0                           0      94   \n",
       "3                         0                           0       1   \n",
       "4                         0                           0     193   \n",
       "\n",
       "   invited_by_user_id  adopted_user  \n",
       "0             10803.0             0  \n",
       "1               316.0             1  \n",
       "2              1525.0             0  \n",
       "3              5151.0             0  \n",
       "4              5240.0             0  "
      ]
     },
     "execution_count": 6,
     "metadata": {},
     "output_type": "execute_result"
    }
   ],
   "source": [
    "users['adopted_user']=[1 if i in adopted_user else 0 for i in users['object_id']]\n",
    "users.head(5)"
   ]
  },
  {
   "cell_type": "markdown",
   "metadata": {},
   "source": [
    "### Drop Features that are unique for each user  and contain personal information\n",
    "\n",
    "Features that were unique to each entry were dropped as they contain personal information and do not generalize the data so that a feature can be identified for predicting user adoption.  "
   ]
  },
  {
   "cell_type": "code",
   "execution_count": 7,
   "metadata": {},
   "outputs": [],
   "source": [
    "users=users.drop(['object_id', 'name', 'email'], axis=1)"
   ]
  },
  {
   "cell_type": "markdown",
   "metadata": {},
   "source": [
    "### Create Dummy Features and Convert datetime object into timestamp for creation_time feature\n",
    "\n",
    "The method of signup feature, a categorical feature with 5 values was converted into dummy features.  Missing values were handled by replacing them with -1 so they are farther away in a vector space from filled in values when the prediction model is used.  The datetime when a user created their account was in a datetime object that was converted to a unix timestamp just so that the last session creation time would be in the same units.  "
   ]
  },
  {
   "cell_type": "code",
   "execution_count": 8,
   "metadata": {},
   "outputs": [],
   "source": [
    "import numpy as np\n",
    "\n",
    "users.head(5)\n",
    "\n",
    "result = pd.concat([pd.get_dummies(users['creation_source']), users], axis=1, sort=False).drop(['creation_source'], axis=1)\n",
    "result=result.fillna(-1)\n",
    "result['creation_time']=pd.to_datetime(result['creation_time'])\n",
    "result['creation_time'] = result.creation_time.values.astype(np.int64) // 10 ** 9\n",
    "\n"
   ]
  },
  {
   "cell_type": "code",
   "execution_count": 9,
   "metadata": {},
   "outputs": [
    {
     "data": {
      "text/html": [
       "<div>\n",
       "<style scoped>\n",
       "    .dataframe tbody tr th:only-of-type {\n",
       "        vertical-align: middle;\n",
       "    }\n",
       "\n",
       "    .dataframe tbody tr th {\n",
       "        vertical-align: top;\n",
       "    }\n",
       "\n",
       "    .dataframe thead th {\n",
       "        text-align: right;\n",
       "    }\n",
       "</style>\n",
       "<table border=\"1\" class=\"dataframe\">\n",
       "  <thead>\n",
       "    <tr style=\"text-align: right;\">\n",
       "      <th></th>\n",
       "      <th>GUEST_INVITE</th>\n",
       "      <th>ORG_INVITE</th>\n",
       "      <th>PERSONAL_PROJECTS</th>\n",
       "      <th>SIGNUP</th>\n",
       "      <th>SIGNUP_GOOGLE_AUTH</th>\n",
       "      <th>creation_time</th>\n",
       "      <th>last_session_creation_time</th>\n",
       "      <th>opted_in_to_mailing_list</th>\n",
       "      <th>enabled_for_marketing_drip</th>\n",
       "      <th>org_id</th>\n",
       "      <th>invited_by_user_id</th>\n",
       "      <th>adopted_user</th>\n",
       "    </tr>\n",
       "  </thead>\n",
       "  <tbody>\n",
       "    <tr>\n",
       "      <th>0</th>\n",
       "      <td>1</td>\n",
       "      <td>0</td>\n",
       "      <td>0</td>\n",
       "      <td>0</td>\n",
       "      <td>0</td>\n",
       "      <td>1398138810</td>\n",
       "      <td>1.398139e+09</td>\n",
       "      <td>1</td>\n",
       "      <td>0</td>\n",
       "      <td>11</td>\n",
       "      <td>10803.0</td>\n",
       "      <td>0</td>\n",
       "    </tr>\n",
       "    <tr>\n",
       "      <th>1</th>\n",
       "      <td>0</td>\n",
       "      <td>1</td>\n",
       "      <td>0</td>\n",
       "      <td>0</td>\n",
       "      <td>0</td>\n",
       "      <td>1384487104</td>\n",
       "      <td>1.396238e+09</td>\n",
       "      <td>0</td>\n",
       "      <td>0</td>\n",
       "      <td>1</td>\n",
       "      <td>316.0</td>\n",
       "      <td>1</td>\n",
       "    </tr>\n",
       "    <tr>\n",
       "      <th>2</th>\n",
       "      <td>0</td>\n",
       "      <td>1</td>\n",
       "      <td>0</td>\n",
       "      <td>0</td>\n",
       "      <td>0</td>\n",
       "      <td>1363734892</td>\n",
       "      <td>1.363735e+09</td>\n",
       "      <td>0</td>\n",
       "      <td>0</td>\n",
       "      <td>94</td>\n",
       "      <td>1525.0</td>\n",
       "      <td>0</td>\n",
       "    </tr>\n",
       "    <tr>\n",
       "      <th>3</th>\n",
       "      <td>1</td>\n",
       "      <td>0</td>\n",
       "      <td>0</td>\n",
       "      <td>0</td>\n",
       "      <td>0</td>\n",
       "      <td>1369123768</td>\n",
       "      <td>1.369210e+09</td>\n",
       "      <td>0</td>\n",
       "      <td>0</td>\n",
       "      <td>1</td>\n",
       "      <td>5151.0</td>\n",
       "      <td>0</td>\n",
       "    </tr>\n",
       "    <tr>\n",
       "      <th>4</th>\n",
       "      <td>1</td>\n",
       "      <td>0</td>\n",
       "      <td>0</td>\n",
       "      <td>0</td>\n",
       "      <td>0</td>\n",
       "      <td>1358417660</td>\n",
       "      <td>1.358850e+09</td>\n",
       "      <td>0</td>\n",
       "      <td>0</td>\n",
       "      <td>193</td>\n",
       "      <td>5240.0</td>\n",
       "      <td>0</td>\n",
       "    </tr>\n",
       "  </tbody>\n",
       "</table>\n",
       "</div>"
      ],
      "text/plain": [
       "   GUEST_INVITE  ORG_INVITE  PERSONAL_PROJECTS  SIGNUP  SIGNUP_GOOGLE_AUTH  \\\n",
       "0             1           0                  0       0                   0   \n",
       "1             0           1                  0       0                   0   \n",
       "2             0           1                  0       0                   0   \n",
       "3             1           0                  0       0                   0   \n",
       "4             1           0                  0       0                   0   \n",
       "\n",
       "   creation_time  last_session_creation_time  opted_in_to_mailing_list  \\\n",
       "0     1398138810                1.398139e+09                         1   \n",
       "1     1384487104                1.396238e+09                         0   \n",
       "2     1363734892                1.363735e+09                         0   \n",
       "3     1369123768                1.369210e+09                         0   \n",
       "4     1358417660                1.358850e+09                         0   \n",
       "\n",
       "   enabled_for_marketing_drip  org_id  invited_by_user_id  adopted_user  \n",
       "0                           0      11             10803.0             0  \n",
       "1                           0       1               316.0             1  \n",
       "2                           0      94              1525.0             0  \n",
       "3                           0       1              5151.0             0  \n",
       "4                           0     193              5240.0             0  "
      ]
     },
     "execution_count": 9,
     "metadata": {},
     "output_type": "execute_result"
    }
   ],
   "source": [
    "result.head(5)"
   ]
  },
  {
   "cell_type": "markdown",
   "metadata": {},
   "source": [
    "## Exploratory Data Analysis \n",
    "\n",
    "All of the features except for time of user account creation and time of last user session were explored as these features had too many unique values and feature engineering would have been needed to create meaningful units such as month and day of the week.  These features can be explored in a later iteration of the exercise."
   ]
  },
  {
   "cell_type": "markdown",
   "metadata": {},
   "source": [
    "### Adopted User Rate by Guest Invited or Not Guest Invited\n",
    "\n",
    "The adopted user rate by whether the user was invited by a guest or not was graphed below.  There was approximately a 4% increase adoption user rate when the user was invited by a guest.  This feature will be used in the prediction model. "
   ]
  },
  {
   "cell_type": "code",
   "execution_count": 10,
   "metadata": {},
   "outputs": [
    {
     "data": {
      "text/plain": [
       "<Figure size 640x480 with 1 Axes>"
      ]
     },
     "metadata": {},
     "output_type": "display_data"
    },
    {
     "name": "stdout",
     "output_type": "stream",
     "text": [
      "GUEST_INVITE\n",
      "0    0.126258\n",
      "1    0.166436\n",
      "Name: adopted_user, dtype: float64\n"
     ]
    }
   ],
   "source": [
    "import matplotlib.pyplot as plt\n",
    "guest_invite=result.groupby('GUEST_INVITE').mean()['adopted_user']\n",
    "\n",
    "guest_invite.plot(kind='bar', title='Adopted User Rate by Guest Invite and Not Guest Invite')\n",
    "plt.xticks(range(2), ('Not Guest Invite', 'Guest Invite'), rotation=60)\n",
    "plt.ylabel('Adopted User Rate')\n",
    "plt.show()\n",
    "\n",
    "print(guest_invite)"
   ]
  },
  {
   "cell_type": "markdown",
   "metadata": {},
   "source": [
    "### Adopted User Rate by Org Invite and Not Org Invite\n",
    "\n",
    "The adopted user rate when a user was invited by an org and when they were not invited by an org was graphed below.  The difference between adopted user rates in the two groups is minimal but will still be used as a feature in the prediction model.  "
   ]
  },
  {
   "cell_type": "code",
   "execution_count": 11,
   "metadata": {},
   "outputs": [
    {
     "data": {
      "image/png": "[encoded data removed]",
      "text/plain": [
       "<Figure size 432x288 with 1 Axes>"
      ]
     },
     "metadata": {},
     "output_type": "display_data"
    },
    {
     "name": "stdout",
     "output_type": "stream",
     "text": [
      "ORG_INVITE\n",
      "0    0.135425\n",
      "1    0.129995\n",
      "Name: adopted_user, dtype: float64\n"
     ]
    }
   ],
   "source": [
    "org_invite=result.groupby('ORG_INVITE').mean()['adopted_user']\n",
    "\n",
    "org_invite.plot(kind='bar', title='Adopted User Rate by Org Invite and Not Org Invite')\n",
    "plt.xticks(range(2), ('Not Org Invite', 'Org Invite'), rotation=60)\n",
    "plt.ylabel('Adopted User Rate')\n",
    "plt.show()\n",
    "\n",
    "print(org_invite)"
   ]
  },
  {
   "cell_type": "markdown",
   "metadata": {},
   "source": [
    "### Adopted User Rate by Personal Project and not Personal Project\n",
    "\n",
    "The adopted user rate when the user signed up because of a personal project and when they did not sign up because of a personal project is graphed below.  The difference in adopted user rate is significantly higher when the user is not signing up because of a personal project.  The difference is approximately 7%.  This feature will be used in the prediction model."
   ]
  },
  {
   "cell_type": "code",
   "execution_count": 12,
   "metadata": {},
   "outputs": [
    {
     "data": {
      "image/png": "[encoded data removed]",
      "text/plain": [
       "<Figure size 432x288 with 1 Axes>"
      ]
     },
     "metadata": {},
     "output_type": "display_data"
    },
    {
     "name": "stdout",
     "output_type": "stream",
     "text": [
      "PERSONAL_PROJECTS\n",
      "0    0.145414\n",
      "1    0.077688\n",
      "Name: adopted_user, dtype: float64\n"
     ]
    }
   ],
   "source": [
    "personal_projects=result.groupby('PERSONAL_PROJECTS').mean()['adopted_user']\n",
    "\n",
    "personal_projects.plot(kind='bar', title='Adopted User Rate by Personal Project and Not Personal Project')\n",
    "plt.xticks(range(2), ('Not Personal Project', 'Personal Project'), rotation=60)\n",
    "plt.ylabel('Adopted User Rate')\n",
    "plt.show()\n",
    "\n",
    "print(personal_projects)"
   ]
  },
  {
   "cell_type": "markdown",
   "metadata": {},
   "source": [
    "### Adopted User Rate by Signup and Not Signup\n",
    "\n",
    "The adopted user rate when the user signed up by themselves and when the user did not sign up by themselves was minimally at a less than 1% difference.  "
   ]
  },
  {
   "cell_type": "code",
   "execution_count": 13,
   "metadata": {},
   "outputs": [
    {
     "data": {
      "image/png": "[encoded data removed]",
      "text/plain": [
       "<Figure size 432x288 with 1 Axes>"
      ]
     },
     "metadata": {},
     "output_type": "display_data"
    },
    {
     "name": "stdout",
     "output_type": "stream",
     "text": [
      "SIGNUP\n",
      "0    0.132049\n",
      "1    0.140393\n",
      "Name: adopted_user, dtype: float64\n"
     ]
    }
   ],
   "source": [
    "sign_up=result.groupby('SIGNUP').mean()['adopted_user']\n",
    "\n",
    "sign_up.plot(kind='bar', title='Adopted User Rate by Signup and Not Signup')\n",
    "plt.xticks(range(2), ('Not Signup', 'Signup'), rotation=60)\n",
    "plt.ylabel('Adopted User Rate')\n",
    "plt.show()\n",
    "\n",
    "print(sign_up)"
   ]
  },
  {
   "cell_type": "markdown",
   "metadata": {},
   "source": [
    "### Adopted User Rate SIGNUP_GOOGLE_AUTH or Not SIGNUP_GOOGLE_AUTH\n",
    "\n",
    "The adopted user rate of a user signing up with a google authorization is approximately 4% higher than when the user does not sign up with a google authorization.  This feature will be used in the prediction model. "
   ]
  },
  {
   "cell_type": "code",
   "execution_count": 14,
   "metadata": {},
   "outputs": [
    {
     "data": {
      "image/png": "[encoded data removed]",
      "text/plain": [
       "<Figure size 432x288 with 1 Axes>"
      ]
     },
     "metadata": {},
     "output_type": "display_data"
    },
    {
     "name": "stdout",
     "output_type": "stream",
     "text": [
      "SIGNUP_GOOGLE_AUTH\n",
      "0    0.129063\n",
      "1    0.167509\n",
      "Name: adopted_user, dtype: float64\n"
     ]
    }
   ],
   "source": [
    "sign_up_google=result.groupby('SIGNUP_GOOGLE_AUTH').mean()['adopted_user']\n",
    "\n",
    "sign_up_google.plot(kind='bar', title='Adopted User Rate by Signup Google and Not Signup Google')\n",
    "plt.xticks(range(2), ('Not Signup Google', 'Signup Google'), rotation=60)\n",
    "plt.ylabel('Adopted User Rate')\n",
    "plt.show()\n",
    "\n",
    "print(sign_up_google)"
   ]
  },
  {
   "cell_type": "markdown",
   "metadata": {},
   "source": [
    "### Adopted User Rate by On Mailing List and Not on Mailing List\n",
    "\n",
    "The adopted user rate when the user was on the mailing list was around 0.7% higher.  The adopted user rates for each group can be seen below."
   ]
  },
  {
   "cell_type": "code",
   "execution_count": 15,
   "metadata": {},
   "outputs": [
    {
     "data": {
      "image/png": "[encoded data removed]",
      "text/plain": [
       "<Figure size 432x288 with 1 Axes>"
      ]
     },
     "metadata": {},
     "output_type": "display_data"
    },
    {
     "name": "stdout",
     "output_type": "stream",
     "text": [
      "opted_in_to_mailing_list\n",
      "0    0.131912\n",
      "1    0.138277\n",
      "Name: adopted_user, dtype: float64\n"
     ]
    }
   ],
   "source": [
    "mailing_list=result.groupby('opted_in_to_mailing_list').mean()['adopted_user']\n",
    "\n",
    "mailing_list.plot(kind='bar', title='Adopted User Rate by on Mailing List or Not on Mailing List')\n",
    "plt.xticks(range(2), ('Not on Mailing List', 'Mailing List'), rotation=60)\n",
    "plt.ylabel('Adopted User Rate')\n",
    "plt.show()\n",
    "\n",
    "print(mailing_list)"
   ]
  },
  {
   "cell_type": "markdown",
   "metadata": {},
   "source": [
    "### Adopted User Rate by On Marketing Drip and Not on Marketing Drip\n",
    "\n",
    "The adopted user rate when a marketing drip was used on a user when it was not is small in difference at a less than 1% difference.  "
   ]
  },
  {
   "cell_type": "code",
   "execution_count": 16,
   "metadata": {},
   "outputs": [
    {
     "data": {
      "image/png": "[encoded data removed]",
      "text/plain": [
       "<Figure size 432x288 with 1 Axes>"
      ]
     },
     "metadata": {},
     "output_type": "display_data"
    },
    {
     "name": "stdout",
     "output_type": "stream",
     "text": [
      "enabled_for_marketing_drip\n",
      "0    0.132837\n",
      "1    0.137277\n",
      "Name: adopted_user, dtype: float64\n"
     ]
    }
   ],
   "source": [
    "marketing_drip=result.groupby('enabled_for_marketing_drip').mean()['adopted_user']\n",
    "\n",
    "marketing_drip.plot(kind='bar', title='Adopted User Rate by on Marketing Drip or Not on Marketing Drip')\n",
    "plt.xticks(range(2), ('Not on Marketing Drip', 'Marketing Drip'), rotation=60)\n",
    "plt.ylabel('Adopted User Rate')\n",
    "plt.show()\n",
    "\n",
    "print(marketing_drip)"
   ]
  },
  {
   "cell_type": "markdown",
   "metadata": {},
   "source": [
    "### Adopted User Count by Org ID Invite\n",
    "\n",
    "The adopted user count is signicantly higher in the first 30 orgs than any other subgroup and can be seen in the early spike of the density plot below.  Invitation by org id will be used as a feature in the prediction model.  "
   ]
  },
  {
   "cell_type": "code",
   "execution_count": 131,
   "metadata": {},
   "outputs": [
    {
     "data": {
      "image/png": "[encoded data removed]",
      "text/plain": [
       "<Figure size 432x288 with 1 Axes>"
      ]
     },
     "metadata": {},
     "output_type": "display_data"
    },
    {
     "name": "stdout",
     "output_type": "stream",
     "text": [
      "Mean Adopted User Count by Org ID: 3.84\n",
      "Max Adopted User Count by Org ID: 16\n",
      "Min Adopted User Count by Org ID: 0\n",
      "Standard Deviation of Adopted User Count by Org ID: 2.6\n"
     ]
    }
   ],
   "source": [
    "fig, ax= plt.subplots()\n",
    "org_id=result.groupby('org_id').sum()['adopted_user']\n",
    "org_id.plot.kde(title='Density Plot Adopted User Count by Org Id Invite', ind=org_id.index)\n",
    "plt.ylabel('Density')\n",
    "plt.xlabel('Increasing Org ID (#1-#416)')\n",
    "plt.show()\n",
    "\n",
    "print('Mean Adopted User Count by Org ID: ' + str(round(org_id.mean(), 2)))\n",
    "print('Max Adopted User Count by Org ID: ' + str((org_id).max()))\n",
    "print('Min Adopted User Count by Org ID: ' + str(org_id.min()))\n",
    "print('Standard Deviation of Adopted User Count by Org ID: ' + str((round(org_id.std(), 2))))\n"
   ]
  },
  {
   "cell_type": "markdown",
   "metadata": {},
   "source": [
    "### Adopted User Count by User ID Invite\n",
    "\n",
    "The density plot of adopted user count by user ID invite is seen below and after further inspection, all of the adopted user count density can be aggregated by summing the densities of the first 15 user ids (#1-15).  This feature will be used in the predictive model."
   ]
  },
  {
   "cell_type": "code",
   "execution_count": 129,
   "metadata": {},
   "outputs": [
    {
     "data": {
      "image/png": "[encoded data removed]",
      "text/plain": [
       "<Figure size 432x288 with 1 Axes>"
      ]
     },
     "metadata": {},
     "output_type": "display_data"
    },
    {
     "name": "stdout",
     "output_type": "stream",
     "text": [
      "Mean Adopted User Count by User ID: 0.624561403508772\n",
      "Max Adopted User Count by User ID: 689\n",
      "Min Adopted User Count by User ID: 0\n",
      "Standard Deviation of Adopted User Count by User ID: 13.611323126390555\n"
     ]
    }
   ],
   "source": [
    "user_invited=result.groupby('invited_by_user_id').sum()['adopted_user']\n",
    "\n",
    "user_invited.plot.kde(title='Adopted User Count by User ID Invited', ind=user_invited.index)\n",
    "plt.ylabel('Density')\n",
    "plt.xlabel('Increasing Org ID (#1-#12000)')\n",
    "\n",
    "plt.show()\n",
    "\n",
    "print('Mean Adopted User Count by User ID: ' + str(user_invited.mean()))\n",
    "print('Max Adopted User Count by User ID: ' + str(max(user_invited)))\n",
    "print('Min Adopted User Count by User ID: ' + str(user_invited.min()))\n",
    "print('Standard Deviation of Adopted User Count by User ID: ' + str(user_invited.std()))"
   ]
  },
  {
   "cell_type": "markdown",
   "metadata": {},
   "source": [
    "## Prediction Task with Gradient Boosted Classifier\n",
    "\n",
    "The adopted user status was predicted using an extreme gradient boosting tree method.  All of the features in the user signup dataFrame were used in the model.  A train test split of 0.8/0.2 was used and 5 folds were used in cross validation."
   ]
  },
  {
   "cell_type": "code",
   "execution_count": 19,
   "metadata": {},
   "outputs": [
    {
     "name": "stdout",
     "output_type": "stream",
     "text": [
      "Fitting a gradient boosted classifier to labeled training data...\n"
     ]
    }
   ],
   "source": [
    "from xgboost import XGBClassifier\n",
    "from sklearn.model_selection import GridSearchCV\n",
    "from sklearn.pipeline import Pipeline\n",
    "from sklearn.model_selection import train_test_split\n",
    "\n",
    "X=result.drop([\"adopted_user\"], axis=1, inplace=False)\n",
    "y=result[\"adopted_user\"]\n",
    "\n",
    "X_train, X_test, y_train, y_test = train_test_split(X, y, test_size=0.2, stratify=y)\n",
    "\n",
    "steps=[('gradientboost', XGBClassifier())]  #steps of pipeline\n",
    "pipeline=Pipeline(steps) \n",
    "parameters_grad={}\n",
    "\n",
    "print(\"Fitting a gradient boosted classifier to labeled training data...\")\n",
    "\n",
    "\n",
    "clf_gb = GridSearchCV(pipeline, parameters_grad, cv=5)  #Gridsearch object\n",
    "\n",
    "clf_gb.fit(X_train, y_train)  #fit \n",
    "\n",
    "y_pred_gb=clf_gb.predict(X_test)  #predict\n"
   ]
  },
  {
   "cell_type": "markdown",
   "metadata": {},
   "source": [
    "### Feature Importance of Model\n",
    "\n",
    "The top 5 most important features in the model were in order:\n",
    "\n",
    "1.) Account Creation Time\n",
    "2.) Last Session Creation Time\n",
    "3.) Org ID\n",
    "4.) Invited by User ID\n",
    "5.) Enabled for Marketing Drip\n",
    "\n",
    "Although the gradient boosted model does not tell us which values of account creation time and last session creation time are causing adopted user rate, a logistic regression model can be used to find the sign of the coefficient for these features.  The sign will give a clue as to how the probability of becoming an adopted user changes as account creation time and last session creation time increase.  In the future, if certain days of the week or months want to be checked for their affect on user adoption, the features for each category can be engineered from the datetime values.  "
   ]
  },
  {
   "cell_type": "code",
   "execution_count": 20,
   "metadata": {},
   "outputs": [
    {
     "data": {
      "image/png": "[encoded data removed]",
      "text/plain": [
       "<Figure size 432x288 with 1 Axes>"
      ]
     },
     "metadata": {},
     "output_type": "display_data"
    }
   ],
   "source": [
    "import seaborn as sns \n",
    "# Plot the feature importances for our target label of adopted users \n",
    "data=sorted(list(zip(X.columns, clf_gb.best_estimator_.steps[-1][1].feature_importances_)), key=lambda x: x[1], reverse=True)[0:5]\n",
    "df = pd.DataFrame(data)\n",
    "df=df.rename({0:'Feature', 1:'Importance Score'}, axis=1)\n",
    "\n",
    "df.set_index(['Feature'])\n",
    "\n",
    "sns.set_style(\"darkgrid\")\n",
    "\n",
    "df\n",
    "df['Importance Score'].plot(kind='bar')\n",
    "xcol = X.columns\n",
    "\n",
    "plt.title('Feature Importance from Gradient Boosted Model')\n",
    "plt.xlabel('Adoption Predictive Features')\n",
    "plt.ylabel('Feature Importance Score')\n",
    "plt.xticks(range(6), df.Feature[0:5], rotation=85)\n",
    "plt.show()\n",
    "\n",
    "\n"
   ]
  },
  {
   "cell_type": "markdown",
   "metadata": {},
   "source": [
    "### Model Accuracy "
   ]
  },
  {
   "cell_type": "markdown",
   "metadata": {},
   "source": [
    "The model accuracy is high and it appears that using all of the features did not lead to massive overfitting of the model."
   ]
  },
  {
   "cell_type": "code",
   "execution_count": 21,
   "metadata": {},
   "outputs": [
    {
     "name": "stdout",
     "output_type": "stream",
     "text": [
      "Accuracy: 97.4167%\n"
     ]
    }
   ],
   "source": [
    "from sklearn.metrics import accuracy_score\n",
    "print('Accuracy: ' + str(round(accuracy_score(y_test, y_pred_gb) * 100, 4))+ '%')"
   ]
  },
  {
   "cell_type": "code",
   "execution_count": null,
   "metadata": {},
   "outputs": [],
   "source": []
  }
 ],
 "metadata": {
  "kernelspec": {
   "display_name": "Python 3",
   "language": "python",
   "name": "python3"
  },
  "language_info": {
   "codemirror_mode": {
    "name": "ipython",
    "version": 3
   },
   "file_extension": ".py",
   "mimetype": "text/x-python",
   "name": "python",
   "nbconvert_exporter": "python",
   "pygments_lexer": "ipython3",
   "version": "3.6.5"
  }
 },
 "nbformat": 4,
 "nbformat_minor": 2
}
