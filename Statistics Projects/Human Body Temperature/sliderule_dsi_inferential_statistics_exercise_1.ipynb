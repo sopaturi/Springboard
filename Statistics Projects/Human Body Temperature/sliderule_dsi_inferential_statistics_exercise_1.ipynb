{
 "cells": [
  {
   "cell_type": "markdown",
   "metadata": {},
   "source": [
    "# What is the True Normal Human Body Temperature? \n",
    "\n",
    "#### Background\n",
    "\n",
    "The mean normal body temperature was held to be 37$^{\\circ}$C or 98.6$^{\\circ}$F for more than 120 years since it was first conceptualized and reported by Carl Wunderlich in a famous 1868 book. But, is this value statistically correct?"
   ]
  },
  {
   "cell_type": "markdown",
   "metadata": {},
   "source": [
    "<h3>Exercises</h3>\n",
    "\n",
    "<p>In this exercise, you will analyze a dataset of human body temperatures and employ the concepts of hypothesis testing, confidence intervals, and statistical significance.</p>\n",
    "\n",
    "<p>Answer the following questions <b>in this notebook below and submit to your Github account</b>.</p> \n",
    "\n",
    "<ol>\n",
    "<li>  Is the distribution of body temperatures normal? \n",
    "    <ul>\n",
    "    <li> Although this is not a requirement for the Central Limit Theorem to hold (read the introduction on Wikipedia's page about the CLT carefully: https://en.wikipedia.org/wiki/Central_limit_theorem), it gives us some peace of mind that the population may also be normally distributed if we assume that this sample is representative of the population.\n",
    "    <li> Think about the way you're going to check for the normality of the distribution. Graphical methods are usually used first, but there are also other ways: https://en.wikipedia.org/wiki/Normality_test\n",
    "    </ul>\n",
    "<li>  Is the sample size large? Are the observations independent?\n",
    "    <ul>\n",
    "    <li> Remember that this is a condition for the Central Limit Theorem, and hence the statistical tests we are using, to apply.\n",
    "    </ul>\n",
    "<li>  Is the true population mean really 98.6 degrees F?\n",
    "    <ul>\n",
    "    <li> First, try a bootstrap hypothesis test.\n",
    "    <li> Now, let's try frequentist statistical testing. Would you use a one-sample or two-sample test? Why?\n",
    "    <li> In this situation, is it appropriate to use the $t$ or $z$ statistic? \n",
    "    <li> Now try using the other test. How is the result different? Why?\n",
    "    </ul>\n",
    "<li>  Draw a small sample of size 10 from the data and repeat both frequentist tests. \n",
    "    <ul>\n",
    "    <li> Which one is the correct one to use? \n",
    "    <li> What do you notice? What does this tell you about the difference in application of the $t$ and $z$ statistic?\n",
    "    </ul>\n",
    "<li>  At what temperature should we consider someone's temperature to be \"abnormal\"?\n",
    "    <ul>\n",
    "    <li> As in the previous example, try calculating everything using the boostrap approach, as well as the frequentist approach.\n",
    "    <li> Start by computing the margin of error and confidence interval. When calculating the confidence interval, keep in mind that you should use the appropriate formula for one draw, and not N draws.\n",
    "    </ul>\n",
    "<li>  Is there a significant difference between males and females in normal temperature?\n",
    "    <ul>\n",
    "    <li> What testing approach did you use and why?\n",
    "    <li> Write a story with your conclusion in the context of the original problem.\n",
    "    </ul>\n",
    "</ol>\n",
    "\n",
    "You can include written notes in notebook cells using Markdown: \n",
    "   - In the control panel at the top, choose Cell > Cell Type > Markdown\n",
    "   - Markdown syntax: http://nestacms.com/docs/creating-content/markdown-cheat-sheet\n",
    "\n",
    "#### Resources\n",
    "\n",
    "+ Information and data sources: http://www.amstat.org/publications/jse/datasets/normtemp.txt, http://www.amstat.org/publications/jse/jse_data_archive.htm\n",
    "+ Markdown syntax: http://nestacms.com/docs/creating-content/markdown-cheat-sheet\n",
    "\n",
    "****"
   ]
  },
  {
   "cell_type": "code",
   "execution_count": 2,
   "metadata": {},
   "outputs": [],
   "source": [
    "import pandas as pd\n",
    "import matplotlib.pyplot as plt\n",
    "import seaborn as sns\n",
    "from scipy import stats\n",
    "from scipy.stats import norm\n",
    "import numpy as np\n",
    "import matplotlib.mlab as mlab\n",
    "from statsmodels.graphics.gofplots import qqplot\n",
    "from scipy.stats import shapiro\n",
    "\n",
    "\n",
    "\n",
    "\n",
    "df = pd.read_csv('human_body_temperature.csv')"
   ]
  },
  {
   "cell_type": "code",
   "execution_count": 3,
   "metadata": {},
   "outputs": [
    {
     "data": {
      "text/html": [
       "<div>\n",
       "<style scoped>\n",
       "    .dataframe tbody tr th:only-of-type {\n",
       "        vertical-align: middle;\n",
       "    }\n",
       "\n",
       "    .dataframe tbody tr th {\n",
       "        vertical-align: top;\n",
       "    }\n",
       "\n",
       "    .dataframe thead th {\n",
       "        text-align: right;\n",
       "    }\n",
       "</style>\n",
       "<table border=\"1\" class=\"dataframe\">\n",
       "  <thead>\n",
       "    <tr style=\"text-align: right;\">\n",
       "      <th></th>\n",
       "      <th>temperature</th>\n",
       "      <th>gender</th>\n",
       "      <th>heart_rate</th>\n",
       "    </tr>\n",
       "  </thead>\n",
       "  <tbody>\n",
       "    <tr>\n",
       "      <th>0</th>\n",
       "      <td>99.3</td>\n",
       "      <td>F</td>\n",
       "      <td>68.0</td>\n",
       "    </tr>\n",
       "    <tr>\n",
       "      <th>1</th>\n",
       "      <td>98.4</td>\n",
       "      <td>F</td>\n",
       "      <td>81.0</td>\n",
       "    </tr>\n",
       "    <tr>\n",
       "      <th>2</th>\n",
       "      <td>97.8</td>\n",
       "      <td>M</td>\n",
       "      <td>73.0</td>\n",
       "    </tr>\n",
       "    <tr>\n",
       "      <th>3</th>\n",
       "      <td>99.2</td>\n",
       "      <td>F</td>\n",
       "      <td>66.0</td>\n",
       "    </tr>\n",
       "    <tr>\n",
       "      <th>4</th>\n",
       "      <td>98.0</td>\n",
       "      <td>F</td>\n",
       "      <td>73.0</td>\n",
       "    </tr>\n",
       "  </tbody>\n",
       "</table>\n",
       "</div>"
      ],
      "text/plain": [
       "   temperature gender  heart_rate\n",
       "0         99.3      F        68.0\n",
       "1         98.4      F        81.0\n",
       "2         97.8      M        73.0\n",
       "3         99.2      F        66.0\n",
       "4         98.0      F        73.0"
      ]
     },
     "execution_count": 3,
     "metadata": {},
     "output_type": "execute_result"
    }
   ],
   "source": [
    "df.head(5)"
   ]
  },
  {
   "cell_type": "markdown",
   "metadata": {},
   "source": [
    "### 1.) Is the distribution of body temperatures normal?\n",
    "\n",
    "The distribution of body temperatures in the dataframe above is a sample of the population of body temperatures.  The population's body temperature distribution does not have to have a normal.  If the sample is normally distributed, it gives a clue that the population is also normally distributed because we can assume the sample is representative of population.  \n",
    "\n",
    "In order to determine if the sample if normally distributed, a histogram of the data is produced below and is compared compare it to a standard normal plot of the data.  In the graph below, the histogram of the data is skewed more to the left along its tails, meaning more data appears to be in the left tail of the sample mean than in the right tail. Based on a graphical method, we are confident that the majority of data looks normal except at the tails. Further tests will be needed to verify if data is normally distributed.  \n",
    "\n"
   ]
  },
  {
   "cell_type": "code",
   "execution_count": 5,
   "metadata": {},
   "outputs": [
    {
     "data": {
      "image/png": "[encoded data removed]",
      "text/plain": [
       "<Figure size 432x288 with 1 Axes>"
      ]
     },
     "metadata": {},
     "output_type": "display_data"
    }
   ],
   "source": [
    "arr = df['temperature']\n",
    "\n",
    "plt.figure(1)\n",
    "result = plt.hist(arr, bins=11)\n",
    "plt.xlim((min(arr), max(arr)))\n",
    "\n",
    "mean = np.mean(arr)\n",
    "variance = np.var(arr)\n",
    "sigma = np.sqrt(variance)\n",
    "x = np.linspace(min(arr), max(arr), 100)\n",
    "dx = result[1][1] - result[1][0]\n",
    "scale = len(arr)*dx\n",
    "plt.plot(x, stats.norm.pdf(x, mean, sigma)*scale)\n",
    "plt.title('Distribution of Human Body Temperatures with Normal Distribtion')\n",
    "plt.xlabel('Body Temperature')\n",
    "plt.ylabel('Temperature Count')\n",
    "\n",
    "plt.show()\n"
   ]
  },
  {
   "cell_type": "markdown",
   "metadata": {},
   "source": [
    "The next method to verify normality is the quantile-quantile plot.  The qq-plot graphs body temperature data in the y-axis vs. theoretical body temperature that fits a normal distribution converted into standard deviations from the mean.  From the figure, the left tail has temperature values lower than what they should be if the distribution was normal while the right tail contains points that are too high to fit a normal distribution.  Even though the tails appear to differ from a normal distribution, the vast majority of data outside of the five points in the tails appear close to the line y=sigma*x+mu.  The data looks to be approximately normal.  \n",
    "\n"
   ]
  },
  {
   "cell_type": "code",
   "execution_count": 76,
   "metadata": {},
   "outputs": [
    {
     "data": {
      "text/plain": [
       "<Figure size 432x288 with 0 Axes>"
      ]
     },
     "metadata": {},
     "output_type": "display_data"
    },
    {
     "data": {
      "image/png": "[encoded data removed]",
      "text/plain": [
       "<Figure size 432x288 with 1 Axes>"
      ]
     },
     "metadata": {},
     "output_type": "display_data"
    }
   ],
   "source": [
    "plt.figure(2)\n",
    "qqplot(df['temperature'], line='s')\n",
    "plt.title('QQ-Plot of Body Temperature')\n",
    "plt.show()"
   ]
  },
  {
   "cell_type": "markdown",
   "metadata": {},
   "source": [
    "The final test to check normality will be the Shapiro-Wilk test.  This test checks if the sample is normally distributed by computing a W statistic and then checks if the statistic is close enough to the W statistic for a normal distribution.  A hypothesis test with a signifance value of 0.05 is used to check if the statistic small enough to reject the null hypothesis that the data is normally distributed.  The p-value for our data is 0.233, greater than 0.05, therefore we fail to reject the null hypothesis that the data is normally distributed.\n",
    "\n",
    "\n"
   ]
  },
  {
   "cell_type": "code",
   "execution_count": 77,
   "metadata": {},
   "outputs": [
    {
     "name": "stdout",
     "output_type": "stream",
     "text": [
      "\n",
      "\n",
      "Shapiro-Wilk Normality Test\n",
      "\n",
      "\n",
      "Statistics=0.987, p=0.233\n",
      "Sample looks Gaussian (fail to reject H0)\n"
     ]
    }
   ],
   "source": [
    "print('\\n\\nShapiro-Wilk Normality Test\\n\\n')\n",
    "# normality test\n",
    "stat, p = shapiro(df['temperature'])\n",
    "print('Statistics=%.3f, p=%.3f' % (stat, p))\n",
    "# interpret\n",
    "alpha = 0.05\n",
    "if p > alpha:\n",
    "\tprint('Sample looks Gaussian (fail to reject H0)')\n",
    "else:\n",
    "\tprint('Sample does not look Gaussian (reject H0)')"
   ]
  },
  {
   "cell_type": "markdown",
   "metadata": {},
   "source": [
    "Conclusion: Body temperature data is normally distributed."
   ]
  },
  {
   "cell_type": "markdown",
   "metadata": {},
   "source": [
    "### 2.) Is the sample size large and are the observations independent?\n",
    "\n",
    "  There are 130 observations in this dataset.  This value is well above the recommended number of observations needed for a normal distribution.  The recommended number of samples needed for a normal distribution is 30. There are enough observations needed for the central limit theorem to hold. We can assume all the observations are different humans and not duplicates, therefore the observations are independent.  "
   ]
  },
  {
   "cell_type": "markdown",
   "metadata": {},
   "source": [
    "### 3.) Is the true mean of the population's body temperatures 98.6 degrees F? \n",
    "\n",
    "#### a.) Bootstrap hypothesis test\n",
    "\n",
    "The boostrap hypothesis test is used when the goal is to create a hypothesis test by taking many samples with replacement of the population.  \n",
    "\n",
    "The null hypothesis is that the true mean of the population is equal to 98.6.  A bootstrap hypothesis test generates many random samples of a shifted body temperature dataset where the mean temperature is shifted to the hypothesized temperature, in this case 98.6 degrees F.  This shift is acheived by subtracting each value by the mean of the population and then adding the mean of hypothsized temperature, 98.6 degrees F. 10,000 samples of randomly selected observations were taken and each sample has a sample size of 10,000.  The mean of each sample is checked to see if it is less than or equal to the mean of population.  The proportion of the 10,000 samples that are less than or equal to the mean of the population signify if we can reject the null hypothesis.\n",
    "\n",
    "The p-value was 0.0.  \n",
    "\n",
    "\n",
    "\n",
    "This p-value indicates that we can reject the null hypothesis that the true mean of the populaiton is 98.6 degrees F."
   ]
  },
  {
   "cell_type": "code",
   "execution_count": 108,
   "metadata": {},
   "outputs": [
    {
     "name": "stdout",
     "output_type": "stream",
     "text": [
      "p =  0.0\n"
     ]
    }
   ],
   "source": [
    "def bootstrap_replicate_1d(data, func):\n",
    "    return func(np.random.choice(data, size=len(data)))\n",
    "\n",
    "def draw_bs_reps(data, func=mean, size=10000):\n",
    "    \"\"\"Draw bootstrap replicates.\"\"\"\n",
    "\n",
    "    # Initialize array of replicates: bs_replicates\n",
    "    bs_replicates = np.empty(size)\n",
    "\n",
    "    # Generate replicates\n",
    "    for i in range(size):\n",
    "        bs_replicates[i] = bootstrap_replicate_1d(data, func)\n",
    "\n",
    "    return bs_replicates\n",
    "\n",
    "translated_temp=df['temperature']-np.mean(df['temperature'])+98.6\n",
    "bs_replicates = draw_bs_reps(translated_temp, np.mean, 10000)\n",
    "p = np.sum(bs_replicates <= np.mean(df['temperature'])) / 10000\n",
    "print('p = ', p)\n",
    "\n"
   ]
  },
  {
   "cell_type": "markdown",
   "metadata": {},
   "source": [
    "#### b.) Frequentist statistical test\n",
    "\n",
    "A frequentist statistical test is used to check the proportion of values in the population that are not centered around the mean of population by a certain signifance level but around the hypothesized mean of 98.6 degrees.  A test statistic such as a t-value or a z-value is used in the frequentist method instead of many samples as used in the boostrap method.  \n",
    "\n",
    "A one sample test should be used because there is only one sample present and it is being compared to one value. \n",
    "\n",
    "A t-statistic is more appropriate to use because we do not have the standard deviation of the population.  "
   ]
  },
  {
   "cell_type": "code",
   "execution_count": 120,
   "metadata": {},
   "outputs": [
    {
     "name": "stdout",
     "output_type": "stream",
     "text": [
      "t-statistic: -5.4548232923645195\n",
      "p value = 2.4106320415561276e-07\n",
      "The null hypothesis - that the true population mean is 98.6 degrees F - can be rejected\n"
     ]
    }
   ],
   "source": [
    "from scipy.stats import ttest_1samp\n",
    "t_stat, p_val_t = ttest_1samp(df['temperature'], 98.6)\n",
    "\n",
    "print('t-statistic:',t_stat)\n",
    "print('p value =',p_val_t)\n",
    "\n",
    "# conduct hypothesis test for t-score\n",
    "alpha = 0.05\n",
    "if p_val_t < alpha:\n",
    "    print(\"The null hypothesis - that the true population mean is 98.6 degrees F - can be rejected\")"
   ]
  },
  {
   "cell_type": "markdown",
   "metadata": {},
   "source": [
    "The true population mean is not 98.6 degrees F as seen by the p value is less than 0.05.  This means less than 5% of the values in the population are farther than 2 standard deviations from the sample mean.  "
   ]
  },
  {
   "cell_type": "markdown",
   "metadata": {},
   "source": [
    "### c.) Z-test \n",
    "\n",
    "Out of curiousity, a z-test will be tried even though the population standard deviation is not known."
   ]
  },
  {
   "cell_type": "code",
   "execution_count": 119,
   "metadata": {},
   "outputs": [
    {
     "name": "stdout",
     "output_type": "stream",
     "text": [
      "z-statistic: -5.4548232923645195\n",
      "p value = 4.9021570141012155e-08\n",
      "The null hypothesis - that the true population mean is 98.6 degrees F - can be rejected\n"
     ]
    }
   ],
   "source": [
    "from statsmodels.stats.weightstats import ztest\n",
    "z_stat, p_val_z = ztest(x1= df['temperature'], value = 98.6)\n",
    "\n",
    "print('z-statistic:',z_stat)\n",
    "print('p value =',p_val_z)\n",
    "if p_val_z < alpha:\n",
    "    print(\"The null hypothesis - that the true population mean is 98.6 degrees F - can be rejected\")"
   ]
  },
  {
   "cell_type": "markdown",
   "metadata": {},
   "source": [
    "The result of the z-test is not different than the result of t-test.  The z-test also rejects the null hypothesis that the population mean is 98.6 degrees F.  This means less than 5% of the values in the population are farther than 2 standard deviations from the sample mean.  "
   ]
  },
  {
   "cell_type": "markdown",
   "metadata": {},
   "source": [
    "### 4.) Repeat both z-test & t-test for a sample of size 10 from the data. \n",
    "\n",
    "#### a.) Which is the correct one to use?\n",
    "\n",
    "The t-statistic is the correct test to use because we do not know the population standard deviation and the sample size is less than 30. "
   ]
  },
  {
   "cell_type": "code",
   "execution_count": 133,
   "metadata": {},
   "outputs": [
    {
     "name": "stdout",
     "output_type": "stream",
     "text": [
      "t-statistic: -1.9893855139531977\n",
      "p value = 0.07787364473424058\n"
     ]
    }
   ],
   "source": [
    "sample = np.random.choice(df['temperature'], size=10)\n",
    "t_stat, p_val_t = ttest_1samp(sample, 98.6)\n",
    "\n",
    "print('t-statistic:',t_stat)\n",
    "print('p value =',p_val_t)"
   ]
  },
  {
   "cell_type": "code",
   "execution_count": 134,
   "metadata": {},
   "outputs": [
    {
     "name": "stdout",
     "output_type": "stream",
     "text": [
      "z-statistic: -1.9893855139531977\n",
      "p value = 0.04665866733384937\n"
     ]
    }
   ],
   "source": [
    "z_stat, p_val_z = ztest(x1= sample, value = 98.6)\n",
    "\n",
    "print('z-statistic:',z_stat)\n",
    "print('p value =',p_val_z)"
   ]
  },
  {
   "cell_type": "markdown",
   "metadata": {},
   "source": [
    "#### b.) What do you notice? What does this tell you about the difference in application of the  t  and  z  statistic?\n",
    "\n",
    "When the t-statistic is used it sometimes gives a p-value that is greater than 0.05 while the p value of the z-statistic gives a p-value less than 0.05.  Because the t-test and z-test can lead to different conclusions, about the mean of sample, it is safer to use the t-test because it does not substitute the population standard deviation with an estimate which is the sample standard deviation divided by the square root of the number of the number of observations in the sample.  In addition the p-value is much larger with a smaller sample size and therefore the null hypoethsis can' be rejected as often."
   ]
  },
  {
   "cell_type": "markdown",
   "metadata": {},
   "source": [
    "### 5.) At what temperature should we consider someone's temperature to be \"abnormal\"?\n",
    "\n",
    "A 95% confidence interval will be computed using a boostrap method as well as a frequentist approach.  "
   ]
  },
  {
   "cell_type": "markdown",
   "metadata": {},
   "source": [
    "Boostrap approach considering confidence interval 95%:"
   ]
  },
  {
   "cell_type": "code",
   "execution_count": 136,
   "metadata": {},
   "outputs": [
    {
     "data": {
      "text/plain": [
       "array([98.12461538, 98.37538462])"
      ]
     },
     "execution_count": 136,
     "metadata": {},
     "output_type": "execute_result"
    }
   ],
   "source": [
    "\n",
    "bs_replicates = draw_bs_reps(df['temperature'], np.mean, 10000)\n",
    "conf_int = np.percentile(bs_replicates, [2.5, 97.5])\n",
    "conf_int"
   ]
  },
  {
   "cell_type": "markdown",
   "metadata": {},
   "source": [
    "Frequentist approach considering confidence interval 95%"
   ]
  },
  {
   "cell_type": "code",
   "execution_count": 139,
   "metadata": {},
   "outputs": [
    {
     "data": {
      "text/plain": [
       "(98.12367980442819, 98.37478173403336)"
      ]
     },
     "execution_count": 139,
     "metadata": {},
     "output_type": "execute_result"
    }
   ],
   "source": [
    "from scipy.stats import norm\n",
    "import math\n",
    "\n",
    "z_value = 1.96\n",
    "mean = np.mean(df['temperature'])\n",
    "std = np.std(df['temperature'])\n",
    "std_err = std / math.sqrt(len(df['temperature']))\n",
    "margin_of_err = z_value * std_err\n",
    "\n",
    "conf_int = (mean - margin_of_err, mean + margin_of_err)\n",
    "conf_int"
   ]
  },
  {
   "cell_type": "markdown",
   "metadata": {},
   "source": [
    "The 95% confidence interval for the mean of temperature lies between 98.124 and 98.374. A temperature outside this range is considered to be \"abnormal\".\n",
    "\n"
   ]
  },
  {
   "cell_type": "markdown",
   "metadata": {},
   "source": [
    "### 6.) Is there a significant difference between males and females in normal temperature?"
   ]
  },
  {
   "cell_type": "markdown",
   "metadata": {},
   "source": [
    "First, a swarmplot will be constructed below to visualize the differences between male and female body temperature.  It appears that female body temperatures include data points that would lie in the right tail as an outlier if the points were graph as a probability density function."
   ]
  },
  {
   "cell_type": "code",
   "execution_count": 143,
   "metadata": {},
   "outputs": [
    {
     "data": {
      "text/plain": [
       "<matplotlib.axes._subplots.AxesSubplot at 0x1164a6128>"
      ]
     },
     "execution_count": 143,
     "metadata": {},
     "output_type": "execute_result"
    },
    {
     "data": {
      "image/png": "[encoded data removed]",
      "text/plain": [
       "<Figure size 432x288 with 1 Axes>"
      ]
     },
     "metadata": {},
     "output_type": "display_data"
    }
   ],
   "source": [
    "sns.swarmplot(x='gender', y='temperature', data=df)\n"
   ]
  },
  {
   "cell_type": "markdown",
   "metadata": {},
   "source": [
    "Next, an empirical cumulaive disribution function will be constructed below to visualize the differences between male and female body temperature.  It appears that female body temperatures are across the graph higher in value than male body temperatures.  The ecdf function for female body temperatures appears to be shifted to the right compared to the male body temperatures ecdf function.  This means tha females tend to have a higher average body temperature.  "
   ]
  },
  {
   "cell_type": "code",
   "execution_count": 148,
   "metadata": {},
   "outputs": [
    {
     "data": {
      "image/png": "[encoded data removed]",
      "text/plain": [
       "<Figure size 576x360 with 1 Axes>"
      ]
     },
     "metadata": {},
     "output_type": "display_data"
    }
   ],
   "source": [
    "def get_sub_plot(label_font_size = 14, tick_font_size = 13):\n",
    "    fig, ax = plt.subplots()\n",
    "    fig.set_size_inches(8, 5)\n",
    "    ax.tick_params(labelsize = tick_font_size)\n",
    "    ax.set_xlabel(ax.get_xlabel(), fontsize = label_font_size)\n",
    "    ax.set_ylabel(ax.get_ylabel(), fontsize = label_font_size)\n",
    "    return ax\n",
    "\n",
    "\n",
    "def ecdf(data):\n",
    "    n = len(data)\n",
    "    x = np.sort(data)\n",
    "    y = np.arange(1, n + 1) / n\n",
    "    return x, y\n",
    "\n",
    "def plot_ecdf_2sam(df_1, df_2, xlabel, legend):    \n",
    "    ax = get_sub_plot()\n",
    "    \n",
    "    x1, y1 = ecdf(df_1)\n",
    "    sns.regplot(x = x1, y = y1, fit_reg = False, ax = ax)\n",
    "    x2, y2 = ecdf(df_2)\n",
    "    sns.regplot(x = x2, y = y2, fit_reg = False, ax = ax)\n",
    "    \n",
    "    _ = plt.xlabel(xlabel)\n",
    "    _ = plt.ylabel('ECDF')\n",
    "    _ = plt.legend(legend)\n",
    "    plt.margins(0.02)\n",
    "    plt.show()\n",
    "    \n",
    "male_t = df[df.gender == 'M']['temperature']\n",
    "female_t = df[df.gender == 'F']['temperature']\n",
    "\n",
    "plot_ecdf_2sam(female_t, male_t, xlabel = 'Temperature', legend = ('Female', 'Male'))"
   ]
  },
  {
   "cell_type": "code",
   "execution_count": 147,
   "metadata": {},
   "outputs": [
    {
     "name": "stdout",
     "output_type": "stream",
     "text": [
      "count    65.000000\n",
      "mean     98.104615\n",
      "std       0.698756\n",
      "min      96.300000\n",
      "25%      97.600000\n",
      "50%      98.100000\n",
      "75%      98.600000\n",
      "max      99.500000\n",
      "Name: temperature, dtype: float64\n",
      "count     65.000000\n",
      "mean      98.393846\n",
      "std        0.743488\n",
      "min       96.400000\n",
      "25%       98.000000\n",
      "50%       98.400000\n",
      "75%       98.800000\n",
      "max      100.800000\n",
      "Name: temperature, dtype: float64\n"
     ]
    }
   ],
   "source": [
    "print(male_t.describe())\n",
    "print(female_t.describe())"
   ]
  },
  {
   "cell_type": "markdown",
   "metadata": {},
   "source": [
    "After looking at the deescribe function output of the male and female body temperatures as well as the ecdf functions for both sexes, it apepars that there is a significant difference between male and female body temperatures."
   ]
  },
  {
   "cell_type": "markdown",
   "metadata": {},
   "source": [
    "To verify there is a signifcant differnece between male and female body temperatures we can use a two-sample t-test to verify if the means of female and male body temperatures are different.  A two-sample t-test is used when one wants to compare two independent groups to see if their means are different.\n",
    "\n",
    "The null hypothesis is that male and females have the same mean body temperature.\n",
    "\n",
    "The alternative hypothesis is that males and females have a different mean body temperature.  \n",
    "\n",
    "The test statistic is the difference of means of the two samples divided by the square root of the sum of the standard deviation of sample 1 squared divided by sample size of sample 1 and the standard deviation of sample 2 squared divided by sample size of sample 2. "
   ]
  },
  {
   "cell_type": "code",
   "execution_count": 149,
   "metadata": {},
   "outputs": [
    {
     "data": {
      "text/plain": [
       "Ttest_indResult(statistic=2.2854345381656103, pvalue=0.02393188312239561)"
      ]
     },
     "execution_count": 149,
     "metadata": {},
     "output_type": "execute_result"
    }
   ],
   "source": [
    "stats.ttest_ind(female_t, male_t)"
   ]
  },
  {
   "cell_type": "markdown",
   "metadata": {},
   "source": [
    "As p-value of the two sample t-test is very small (0.024), we can reject the null hypothosis. It can be concluded that there is a significant difference in mean body temperature between males and females."
   ]
  },
  {
   "cell_type": "markdown",
   "metadata": {},
   "source": [
    "Story: The difference in means between male and female body temperature appears to be significant.  Because the mean of body temperature is different, the previously computed statistics and observations made can be redone with the gender difference in mind.  The distribution of male and female body temperatures may not be normally distributed, a test must be done.  Also, we can recheck if the mean body temperature for each gender is 98.6 degrees F as well as find out what the confidence interval for mean body temperature for each sex. "
   ]
  },
  {
   "cell_type": "markdown",
   "metadata": {},
   "source": [
    "## Conclusion\n",
    "\n",
    "1.) The human body temperatures of the dataset are normally distributed.\n",
    "\n",
    "2.) The true population mean of human body temperature is not 98.6 degrees F as reported by Carl Wunderlich in 1868.  The true population mean lies in the interval of ([98.125, 98.375]) with a confidence level of 95%.  \n",
    "\n",
    "3.) There is a statistically significant difference between males and females in terms of mean body temperature.  \n"
   ]
  },
  {
   "cell_type": "code",
   "execution_count": null,
   "metadata": {},
   "outputs": [],
   "source": []
  }
 ],
 "metadata": {
  "kernelspec": {
   "display_name": "Python 3",
   "language": "python",
   "name": "python3"
  },
  "language_info": {
   "codemirror_mode": {
    "name": "ipython",
    "version": 3
   },
   "file_extension": ".py",
   "mimetype": "text/x-python",
   "name": "python",
   "nbconvert_exporter": "python",
   "pygments_lexer": "ipython3",
   "version": "3.6.5"
  }
 },
 "nbformat": 4,
 "nbformat_minor": 1
}
