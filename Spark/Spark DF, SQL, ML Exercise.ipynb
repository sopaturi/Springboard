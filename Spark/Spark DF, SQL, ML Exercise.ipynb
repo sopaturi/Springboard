{
 "cells": [
  {
   "cell_type": "markdown",
   "metadata": {},
   "source": [
    "##Exercise Overview\nIn this exercise we will play with Spark [Datasets & Dataframes](https://spark.apache.org/docs/latest/sql-programming-guide.html#datasets-and-dataframes), some [Spark SQL](https://spark.apache.org/docs/latest/sql-programming-guide.html#sql), and build a couple of binary classifiaction models using [Spark ML](https://spark.apache.org/docs/latest/ml-guide.html) (with some [MLlib](https://spark.apache.org/mllib/) too). \n<br><br>\nThe set up and approach will not be too dissimilar to the standard type of approach you might do in [Sklearn](http://scikit-learn.org/stable/index.html). Spark has matured to the stage now where for 90% of what you need to do (when analysing tabular data) should be possible with Spark dataframes, SQL, and ML libraries. This is where this exercise is mainly trying to focus.  \n<br>\nFeel free to adapt this exercise to play with other datasets readily availabe in the Databricks enviornment (they are listed in a cell below). \n#####Getting Started\nTo get started you will need to create and attach a databricks spark cluster to this notebook. This notebook was developed on a cluster created with: \n- Databricks Runtime Version 4.0 (includes Apache Spark 2.3.0, Scala 2.11)\n- Python Version 3\n\n#####Links & References\n\nSome useful links and references of sources used in creating this exercise:\n\n**Note**: Right click and open as new tab!\n<br>\n1. [Latest Spark Docs](https://spark.apache.org/docs/latest/index.html)\n1. [Databricks Homepage](https://databricks.com/)\n1. [Databricks Community Edition FAQ](https://databricks.com/product/faq/community-edition)\n1. [Databricks Self Paced Training](https://databricks.com/training-overview/training-self-paced)\n1. [Databricks Notebook Guide](https://docs.databricks.com/user-guide/notebooks/index.html)\n1. [Databricks Binary Classification Tutorial](https://docs.databricks.com/spark/latest/mllib/binary-classification-mllib-pipelines.html#binary-classification)"
   ]
  },
  {
   "cell_type": "markdown",
   "metadata": {},
   "source": [
    "####Get Data\n\nHere we will pull in some sample data that is already pre-loaded onto all databricks clusters.\n\nFeel free to adapt this notebook later to play around with a different dataset if you like (all available are listed in a cell below)."
   ]
  },
  {
   "cell_type": "code",
   "execution_count": 3,
   "metadata": {},
   "outputs": [
    {
     "data": {
      "text/html": [
       "<style scoped>\n  .table-result-container {\n    max-height: 300px;\n    overflow: auto;\n  }\n  table, th, td {\n    border: 1px solid black;\n    border-collapse: collapse;\n  }\n  th, td {\n    padding: 5px;\n  }\n  th {\n    text-align: left;\n  }\n</style><div class='table-result-container'><table class='table-result'><thead style='background-color: white'><tr><th>path</th><th>name</th><th>size</th></tr></thead><tbody><tr><td>dbfs:/databricks-datasets/README.md</td><td>README.md</td><td>976</td></tr><tr><td>dbfs:/databricks-datasets/Rdatasets/</td><td>Rdatasets/</td><td>0</td></tr><tr><td>dbfs:/databricks-datasets/SPARK_README.md</td><td>SPARK_README.md</td><td>3359</td></tr><tr><td>dbfs:/databricks-datasets/adult/</td><td>adult/</td><td>0</td></tr><tr><td>dbfs:/databricks-datasets/airlines/</td><td>airlines/</td><td>0</td></tr><tr><td>dbfs:/databricks-datasets/amazon/</td><td>amazon/</td><td>0</td></tr><tr><td>dbfs:/databricks-datasets/asa/</td><td>asa/</td><td>0</td></tr><tr><td>dbfs:/databricks-datasets/atlas_higgs/</td><td>atlas_higgs/</td><td>0</td></tr><tr><td>dbfs:/databricks-datasets/bikeSharing/</td><td>bikeSharing/</td><td>0</td></tr><tr><td>dbfs:/databricks-datasets/cctvVideos/</td><td>cctvVideos/</td><td>0</td></tr><tr><td>dbfs:/databricks-datasets/credit-card-fraud/</td><td>credit-card-fraud/</td><td>0</td></tr><tr><td>dbfs:/databricks-datasets/cs100/</td><td>cs100/</td><td>0</td></tr><tr><td>dbfs:/databricks-datasets/cs110x/</td><td>cs110x/</td><td>0</td></tr><tr><td>dbfs:/databricks-datasets/cs190/</td><td>cs190/</td><td>0</td></tr><tr><td>dbfs:/databricks-datasets/data.gov/</td><td>data.gov/</td><td>0</td></tr><tr><td>dbfs:/databricks-datasets/definitive-guide/</td><td>definitive-guide/</td><td>0</td></tr><tr><td>dbfs:/databricks-datasets/flights/</td><td>flights/</td><td>0</td></tr><tr><td>dbfs:/databricks-datasets/genomics/</td><td>genomics/</td><td>0</td></tr><tr><td>dbfs:/databricks-datasets/hail/</td><td>hail/</td><td>0</td></tr><tr><td>dbfs:/databricks-datasets/iot/</td><td>iot/</td><td>0</td></tr><tr><td>dbfs:/databricks-datasets/iot-stream/</td><td>iot-stream/</td><td>0</td></tr><tr><td>dbfs:/databricks-datasets/learning-spark/</td><td>learning-spark/</td><td>0</td></tr><tr><td>dbfs:/databricks-datasets/lending-club-loan-stats/</td><td>lending-club-loan-stats/</td><td>0</td></tr><tr><td>dbfs:/databricks-datasets/mnist-digits/</td><td>mnist-digits/</td><td>0</td></tr><tr><td>dbfs:/databricks-datasets/news20.binary/</td><td>news20.binary/</td><td>0</td></tr><tr><td>dbfs:/databricks-datasets/online_retail/</td><td>online_retail/</td><td>0</td></tr><tr><td>dbfs:/databricks-datasets/overlap-join/</td><td>overlap-join/</td><td>0</td></tr><tr><td>dbfs:/databricks-datasets/power-plant/</td><td>power-plant/</td><td>0</td></tr><tr><td>dbfs:/databricks-datasets/sample_logs/</td><td>sample_logs/</td><td>0</td></tr><tr><td>dbfs:/databricks-datasets/samples/</td><td>samples/</td><td>0</td></tr><tr><td>dbfs:/databricks-datasets/sfo_customer_survey/</td><td>sfo_customer_survey/</td><td>0</td></tr><tr><td>dbfs:/databricks-datasets/sms_spam_collection/</td><td>sms_spam_collection/</td><td>0</td></tr><tr><td>dbfs:/databricks-datasets/songs/</td><td>songs/</td><td>0</td></tr><tr><td>dbfs:/databricks-datasets/structured-streaming/</td><td>structured-streaming/</td><td>0</td></tr><tr><td>dbfs:/databricks-datasets/tpch/</td><td>tpch/</td><td>0</td></tr><tr><td>dbfs:/databricks-datasets/weather/</td><td>weather/</td><td>0</td></tr><tr><td>dbfs:/databricks-datasets/wiki/</td><td>wiki/</td><td>0</td></tr><tr><td>dbfs:/databricks-datasets/wikipedia-datasets/</td><td>wikipedia-datasets/</td><td>0</td></tr></tbody></table></div>"
      ]
     },
     "metadata": {},
     "output_type": "display_data"
    }
   ],
   "source": [
    "# display datasets already in databricks\ndisplay(dbutils.fs.ls(\"/databricks-datasets\"))"
   ]
  },
  {
   "cell_type": "markdown",
   "metadata": {},
   "source": [
    "Lets take a look at the '**adult**' dataset on the filesystem. This is the typical US Census data you often see online in tutorials. [Here](https://archive.ics.uci.edu/ml/datasets/adult) is the same data in the UCI repository.\n\n_As an aside: [here](https://github.com/GoogleCloudPlatform/cloudml-samples/tree/master/census) this same dataset is used as a quickstart example for Google CLoud ML & Tensorflow Estimator API (in case youd be interested in playing with tensorflow on the same dataset as here)._"
   ]
  },
  {
   "cell_type": "code",
   "execution_count": 5,
   "metadata": {},
   "outputs": [
    {
     "data": {
      "text/html": [
       "<style scoped>\n  .table-result-container {\n    max-height: 300px;\n    overflow: auto;\n  }\n  table, th, td {\n    border: 1px solid black;\n    border-collapse: collapse;\n  }\n  th, td {\n    padding: 5px;\n  }\n  th {\n    text-align: left;\n  }\n</style><div class='table-result-container'><table class='table-result'><thead style='background-color: white'><tr><th>path</th><th>name</th><th>size</th></tr></thead><tbody><tr><td>dbfs:/databricks-datasets/adult/adult.data</td><td>adult.data</td><td>3974305</td></tr></tbody></table></div>"
      ]
     },
     "metadata": {},
     "output_type": "display_data"
    }
   ],
   "source": [
    "%fs ls databricks-datasets/adult/adult.data"
   ]
  },
  {
   "cell_type": "markdown",
   "metadata": {},
   "source": [
    "**Note**: Above  %fs is just some file system cell magic that is specific to databricks. More info [here](https://docs.databricks.com/user-guide/notebooks/index.html#mix-languages)."
   ]
  },
  {
   "cell_type": "markdown",
   "metadata": {},
   "source": [
    "####Spark SQL\nBelow we will use Spark SQL to load in the data and then register it as a Dataframe aswell. So the end result will be a Spark SQL table called _adult_ and a Spark Dataframe called _df_adult_. \n<br><br>\nThis is an example of the flexibility in Spark in that you could do lots of you ETL and data wrangling using either Spark SQL or Dataframes and pyspark. Most of the time it's a case of using whatever you are most comfortable with.\n<br><br>\nWhen you get more advanced then you might looking the pro's and con's of each and when you might favour one or the other (or operating direclty on RDD's), [here](https://databricks.com/blog/2016/07/14/a-tale-of-three-apache-spark-apis-rdds-dataframes-and-datasets.html) is a good article on the issues. For now, no need to overthink it!"
   ]
  },
  {
   "cell_type": "code",
   "execution_count": 8,
   "metadata": {},
   "outputs": [
    {
     "data": {
      "text/html": [
       "<style scoped>\n  .table-result-container {\n    max-height: 300px;\n    overflow: auto;\n  }\n  table, th, td {\n    border: 1px solid black;\n    border-collapse: collapse;\n  }\n  th, td {\n    padding: 5px;\n  }\n  th {\n    text-align: left;\n  }\n</style><div class='table-result-container'><table class='table-result'><thead style='background-color: white'><tr></tr></thead><tbody></tbody></table></div>"
      ]
     },
     "metadata": {},
     "output_type": "display_data"
    }
   ],
   "source": [
    "%sql \n-- drop the table if it already exists\nDROP TABLE IF EXISTS adult"
   ]
  },
  {
   "cell_type": "code",
   "execution_count": 9,
   "metadata": {},
   "outputs": [
    {
     "data": {
      "text/html": [
       "<style scoped>\n  .table-result-container {\n    max-height: 300px;\n    overflow: auto;\n  }\n  table, th, td {\n    border: 1px solid black;\n    border-collapse: collapse;\n  }\n  th, td {\n    padding: 5px;\n  }\n  th {\n    text-align: left;\n  }\n</style><div class='table-result-container'><table class='table-result'><thead style='background-color: white'><tr></tr></thead><tbody></tbody></table></div>"
      ]
     },
     "metadata": {},
     "output_type": "display_data"
    }
   ],
   "source": [
    "%sql\n-- create a new table in Spark SQL from the datasets already loaded in the underlying filesystem.\n-- In the real world you might be pointing at a file on HDFS or a hive table etc. \nCREATE TABLE adult (\n  age DOUBLE,\n  workclass STRING,\n  fnlwgt DOUBLE,\n  education STRING,\n  education_num DOUBLE,\n  marital_status STRING,\n  occupation STRING,\n  relationship STRING,\n  race STRING,\n  sex STRING,\n  capital_gain DOUBLE,\n  capital_loss DOUBLE,\n  hours_per_week DOUBLE,\n  native_country STRING,\n  income STRING)\nUSING com.databricks.spark.csv\nOPTIONS (path \"/databricks-datasets/adult/adult.data\", header \"true\")"
   ]
  },
  {
   "cell_type": "code",
   "execution_count": 10,
   "metadata": {},
   "outputs": [
    {
     "data": {
      "text/html": [
       "<style scoped>\n  .table-result-container {\n    max-height: 300px;\n    overflow: auto;\n  }\n  table, th, td {\n    border: 1px solid black;\n    border-collapse: collapse;\n  }\n  th, td {\n    padding: 5px;\n  }\n  th {\n    text-align: left;\n  }\n</style><div class='table-result-container'><table class='table-result'><thead style='background-color: white'><tr><th>age</th><th>workclass</th><th>fnlwgt</th><th>education</th><th>education_num</th><th>marital_status</th><th>occupation</th><th>relationship</th><th>race</th><th>sex</th><th>capital_gain</th><th>capital_loss</th><th>hours_per_week</th><th>native_country</th><th>income</th></tr></thead><tbody><tr><td>50.0</td><td> Self-emp-not-inc</td><td>83311.0</td><td> Bachelors</td><td>13.0</td><td> Married-civ-spouse</td><td> Exec-managerial</td><td> Husband</td><td> White</td><td> Male</td><td>0.0</td><td>0.0</td><td>13.0</td><td> United-States</td><td> <=50K</td></tr><tr><td>38.0</td><td> Private</td><td>215646.0</td><td> HS-grad</td><td>9.0</td><td> Divorced</td><td> Handlers-cleaners</td><td> Not-in-family</td><td> White</td><td> Male</td><td>0.0</td><td>0.0</td><td>40.0</td><td> United-States</td><td> <=50K</td></tr><tr><td>53.0</td><td> Private</td><td>234721.0</td><td> 11th</td><td>7.0</td><td> Married-civ-spouse</td><td> Handlers-cleaners</td><td> Husband</td><td> Black</td><td> Male</td><td>0.0</td><td>0.0</td><td>40.0</td><td> United-States</td><td> <=50K</td></tr><tr><td>28.0</td><td> Private</td><td>338409.0</td><td> Bachelors</td><td>13.0</td><td> Married-civ-spouse</td><td> Prof-specialty</td><td> Wife</td><td> Black</td><td> Female</td><td>0.0</td><td>0.0</td><td>40.0</td><td> Cuba</td><td> <=50K</td></tr><tr><td>37.0</td><td> Private</td><td>284582.0</td><td> Masters</td><td>14.0</td><td> Married-civ-spouse</td><td> Exec-managerial</td><td> Wife</td><td> White</td><td> Female</td><td>0.0</td><td>0.0</td><td>40.0</td><td> United-States</td><td> <=50K</td></tr></tbody></table></div>"
      ]
     },
     "metadata": {},
     "output_type": "display_data"
    }
   ],
   "source": [
    "# look at the data\n#spark.sql(\"SELECT * FROM adult LIMIT 5\").show() \n# this will look prettier in Databricks if you use display() instead\ndisplay(spark.sql(\"SELECT * FROM adult LIMIT 5\"))"
   ]
  },
  {
   "cell_type": "markdown",
   "metadata": {},
   "source": [
    "If you are more comfortable with SQL then as you can see below, its very easy to just get going with writing standard SQL type code to analyse your data, do data wrangling and create new dataframes."
   ]
  },
  {
   "cell_type": "code",
   "execution_count": 12,
   "metadata": {},
   "outputs": [
    {
     "data": {
      "text/html": [
       "<style scoped>\n  .table-result-container {\n    max-height: 300px;\n    overflow: auto;\n  }\n  table, th, td {\n    border: 1px solid black;\n    border-collapse: collapse;\n  }\n  th, td {\n    padding: 5px;\n  }\n  th {\n    text-align: left;\n  }\n</style><div class='table-result-container'><table class='table-result'><thead style='background-color: white'><tr><th>occupation</th><th>n</th><th>married_rate</th><th>widow_rate</th><th>divorce_rate</th><th>separated_rate</th><th>bachelor_rate</th></tr></thead><tbody><tr><td> Prof-specialty</td><td>4140</td><td>0.53</td><td>0.02</td><td>0.13</td><td>0.02</td><td>0.3</td></tr><tr><td> Craft-repair</td><td>4099</td><td>0.64</td><td>0.01</td><td>0.11</td><td>0.03</td><td>0.21</td></tr><tr><td> Exec-managerial</td><td>4066</td><td>0.61</td><td>0.02</td><td>0.15</td><td>0.02</td><td>0.2</td></tr><tr><td> Adm-clerical</td><td>3769</td><td>0.28</td><td>0.04</td><td>0.22</td><td>0.04</td><td>0.42</td></tr><tr><td> Sales</td><td>3650</td><td>0.47</td><td>0.03</td><td>0.12</td><td>0.03</td><td>0.36</td></tr><tr><td> Other-service</td><td>3295</td><td>0.24</td><td>0.05</td><td>0.15</td><td>0.06</td><td>0.5</td></tr><tr><td> Machine-op-inspct</td><td>2002</td><td>0.51</td><td>0.03</td><td>0.14</td><td>0.04</td><td>0.29</td></tr><tr><td> ?</td><td>1843</td><td>0.36</td><td>0.08</td><td>0.1</td><td>0.04</td><td>0.42</td></tr><tr><td> Transport-moving</td><td>1597</td><td>0.63</td><td>0.02</td><td>0.11</td><td>0.02</td><td>0.21</td></tr><tr><td> Handlers-cleaners</td><td>1370</td><td>0.36</td><td>0.01</td><td>0.09</td><td>0.03</td><td>0.51</td></tr><tr><td> Farming-fishing</td><td>994</td><td>0.6</td><td>0.02</td><td>0.06</td><td>0.02</td><td>0.29</td></tr><tr><td> Tech-support</td><td>928</td><td>0.44</td><td>0.02</td><td>0.15</td><td>0.03</td><td>0.36</td></tr><tr><td> Protective-serv</td><td>649</td><td>0.6</td><td>0.01</td><td>0.12</td><td>0.02</td><td>0.24</td></tr><tr><td> Priv-house-serv</td><td>149</td><td>0.13</td><td>0.15</td><td>0.19</td><td>0.08</td><td>0.45</td></tr><tr><td> Armed-Forces</td><td>9</td><td>0.33</td><td>0.0</td><td>0.0</td><td>0.0</td><td>0.67</td></tr></tbody></table></div>"
      ]
     },
     "metadata": {},
     "output_type": "display_data"
    }
   ],
   "source": [
    "# Lets get some summary marital status rates by occupation\nresult = spark.sql(\n  \"\"\"\n  SELECT \n    occupation,\n    SUM(1) as n,\n    ROUND(AVG(if(LTRIM(marital_status) LIKE 'Married-%',1,0)),2) as married_rate,\n    ROUND(AVG(if(lower(marital_status) LIKE '%widow%',1,0)),2) as widow_rate,\n    ROUND(AVG(if(LTRIM(marital_status) = 'Divorced',1,0)),2) as divorce_rate,\n    ROUND(AVG(if(LTRIM(marital_status) = 'Separated',1,0)),2) as separated_rate,\n    ROUND(AVG(if(LTRIM(marital_status) = 'Never-married',1,0)),2) as bachelor_rate\n  FROM \n    adult \n  GROUP BY 1\n  ORDER BY n DESC\n  \"\"\")\ndisplay(result)"
   ]
  },
  {
   "cell_type": "markdown",
   "metadata": {},
   "source": [
    "You can easily register dataframes as a table for Spark SQL too. So this way you can easily move between Dataframes and Spark SQL for whatever reason."
   ]
  },
  {
   "cell_type": "code",
   "execution_count": 14,
   "metadata": {},
   "outputs": [
    {
     "data": {
      "text/html": [
       "<style scoped>\n  .table-result-container {\n    max-height: 300px;\n    overflow: auto;\n  }\n  table, th, td {\n    border: 1px solid black;\n    border-collapse: collapse;\n  }\n  th, td {\n    padding: 5px;\n  }\n  th {\n    text-align: left;\n  }\n</style><div class='table-result-container'><table class='table-result'><thead style='background-color: white'><tr><th>occupation</th><th>n</th><th>married_rate</th><th>widow_rate</th><th>divorce_rate</th><th>separated_rate</th><th>bachelor_rate</th></tr></thead><tbody><tr><td> Prof-specialty</td><td>4140</td><td>0.53</td><td>0.02</td><td>0.13</td><td>0.02</td><td>0.3</td></tr><tr><td> Craft-repair</td><td>4099</td><td>0.64</td><td>0.01</td><td>0.11</td><td>0.03</td><td>0.21</td></tr><tr><td> Exec-managerial</td><td>4066</td><td>0.61</td><td>0.02</td><td>0.15</td><td>0.02</td><td>0.2</td></tr><tr><td> Adm-clerical</td><td>3769</td><td>0.28</td><td>0.04</td><td>0.22</td><td>0.04</td><td>0.42</td></tr><tr><td> Sales</td><td>3650</td><td>0.47</td><td>0.03</td><td>0.12</td><td>0.03</td><td>0.36</td></tr></tbody></table></div>"
      ]
     },
     "metadata": {},
     "output_type": "display_data"
    }
   ],
   "source": [
    "# register the df we just made as a table for spark sql\nsqlContext.registerDataFrameAsTable(result, \"result\")\ndisplay(spark.sql(\"SELECT * FROM result LIMIT 5\"))"
   ]
  },
  {
   "cell_type": "markdown",
   "metadata": {},
   "source": [
    "####<span style=\"color:darkblue\">Question 1</span>\n\n1. Write some spark sql to get the top 'bachelor_rate' by 'education' group?"
   ]
  },
  {
   "cell_type": "code",
   "execution_count": 16,
   "metadata": {},
   "outputs": [
    {
     "data": {
      "text/html": [
       "<style scoped>\n  .table-result-container {\n    max-height: 300px;\n    overflow: auto;\n  }\n  table, th, td {\n    border: 1px solid black;\n    border-collapse: collapse;\n  }\n  th, td {\n    padding: 5px;\n  }\n  th {\n    text-align: left;\n  }\n</style><div class='table-result-container'><table class='table-result'><thead style='background-color: white'><tr><th>education</th><th>bachelor_rate</th></tr></thead><tbody><tr><td> 12th</td><td>0.54</td></tr></tbody></table></div>"
      ]
     },
     "metadata": {},
     "output_type": "display_data"
    }
   ],
   "source": [
    "### Question 1.1 Answer ###\n\nresult = spark.sql(\"\"\"\n            SELECT education, ROUND(AVG(if(LTRIM(marital_status) = 'Never-married',1,0)),2)\n            \n            as bachelor_rate \n            \n            FROM adult GROUP BY education ORDER BY bachelor_rate DESC LIMIT 1\"\"\")\ndisplay(result)"
   ]
  },
  {
   "cell_type": "markdown",
   "metadata": {},
   "source": [
    "####Spark DataFrames\nBelow we will create our DataFrame from the SQL table and do some similar analysis as we did with Spark SQL but using the DataFrames API."
   ]
  },
  {
   "cell_type": "code",
   "execution_count": 18,
   "metadata": {},
   "outputs": [
    {
     "data": {
      "text/html": [
       "<style scoped>\n  .ansiout {\n    display: block;\n    unicode-bidi: embed;\n    white-space: pre-wrap;\n    word-wrap: break-word;\n    word-break: break-all;\n    font-family: \"Source Code Pro\", \"Menlo\", monospace;;\n    font-size: 13px;\n    color: #555;\n    margin-left: 4px;\n    line-height: 19px;\n  }\n</style>\n<div class=\"ansiout\"></div>"
      ]
     },
     "metadata": {},
     "output_type": "display_data"
    }
   ],
   "source": [
    "# register a df from the sql df\ndf_adult = spark.table(\"adult\")\ncols = df_adult.columns # this will be used much later in the notebook, ignore for now"
   ]
  },
  {
   "cell_type": "code",
   "execution_count": 19,
   "metadata": {},
   "outputs": [
    {
     "data": {
      "text/html": [
       "<style scoped>\n  .ansiout {\n    display: block;\n    unicode-bidi: embed;\n    white-space: pre-wrap;\n    word-wrap: break-word;\n    word-break: break-all;\n    font-family: \"Source Code Pro\", \"Menlo\", monospace;;\n    font-size: 13px;\n    color: #555;\n    margin-left: 4px;\n    line-height: 19px;\n  }\n</style>\n<div class=\"ansiout\">root\n-- age: double (nullable = true)\n-- workclass: string (nullable = true)\n-- fnlwgt: double (nullable = true)\n-- education: string (nullable = true)\n-- education_num: double (nullable = true)\n-- marital_status: string (nullable = true)\n-- occupation: string (nullable = true)\n-- relationship: string (nullable = true)\n-- race: string (nullable = true)\n-- sex: string (nullable = true)\n-- capital_gain: double (nullable = true)\n-- capital_loss: double (nullable = true)\n-- hours_per_week: double (nullable = true)\n-- native_country: string (nullable = true)\n-- income: string (nullable = true)\n\n</div>"
      ]
     },
     "metadata": {},
     "output_type": "display_data"
    }
   ],
   "source": [
    "# look at df schema\ndf_adult.printSchema()"
   ]
  },
  {
   "cell_type": "code",
   "execution_count": 20,
   "metadata": {},
   "outputs": [
    {
     "data": {
      "text/html": [
       "<style scoped>\n  .table-result-container {\n    max-height: 300px;\n    overflow: auto;\n  }\n  table, th, td {\n    border: 1px solid black;\n    border-collapse: collapse;\n  }\n  th, td {\n    padding: 5px;\n  }\n  th {\n    text-align: left;\n  }\n</style><div class='table-result-container'><table class='table-result'><thead style='background-color: white'><tr><th>age</th><th>workclass</th><th>fnlwgt</th><th>education</th><th>education_num</th><th>marital_status</th><th>occupation</th><th>relationship</th><th>race</th><th>sex</th><th>capital_gain</th><th>capital_loss</th><th>hours_per_week</th><th>native_country</th><th>income</th></tr></thead><tbody><tr><td>50.0</td><td> Self-emp-not-inc</td><td>83311.0</td><td> Bachelors</td><td>13.0</td><td> Married-civ-spouse</td><td> Exec-managerial</td><td> Husband</td><td> White</td><td> Male</td><td>0.0</td><td>0.0</td><td>13.0</td><td> United-States</td><td> <=50K</td></tr><tr><td>38.0</td><td> Private</td><td>215646.0</td><td> HS-grad</td><td>9.0</td><td> Divorced</td><td> Handlers-cleaners</td><td> Not-in-family</td><td> White</td><td> Male</td><td>0.0</td><td>0.0</td><td>40.0</td><td> United-States</td><td> <=50K</td></tr><tr><td>53.0</td><td> Private</td><td>234721.0</td><td> 11th</td><td>7.0</td><td> Married-civ-spouse</td><td> Handlers-cleaners</td><td> Husband</td><td> Black</td><td> Male</td><td>0.0</td><td>0.0</td><td>40.0</td><td> United-States</td><td> <=50K</td></tr><tr><td>28.0</td><td> Private</td><td>338409.0</td><td> Bachelors</td><td>13.0</td><td> Married-civ-spouse</td><td> Prof-specialty</td><td> Wife</td><td> Black</td><td> Female</td><td>0.0</td><td>0.0</td><td>40.0</td><td> Cuba</td><td> <=50K</td></tr><tr><td>37.0</td><td> Private</td><td>284582.0</td><td> Masters</td><td>14.0</td><td> Married-civ-spouse</td><td> Exec-managerial</td><td> Wife</td><td> White</td><td> Female</td><td>0.0</td><td>0.0</td><td>40.0</td><td> United-States</td><td> <=50K</td></tr></tbody></table></div>"
      ]
     },
     "metadata": {},
     "output_type": "display_data"
    }
   ],
   "source": [
    "# look at the df\ndisplay(df_adult.head(5))\n"
   ]
  },
  {
   "cell_type": "markdown",
   "metadata": {},
   "source": [
    "Below we will do a similar calculation to what we did above but using the DataFrames API"
   ]
  },
  {
   "cell_type": "code",
   "execution_count": 22,
   "metadata": {},
   "outputs": [
    {
     "data": {
      "text/html": [
       "<style scoped>\n  .ansiout {\n    display: block;\n    unicode-bidi: embed;\n    white-space: pre-wrap;\n    word-wrap: break-word;\n    word-break: break-all;\n    font-family: \"Source Code Pro\", \"Menlo\", monospace;;\n    font-size: 13px;\n    color: #555;\n    margin-left: 4px;\n    line-height: 19px;\n  }\n</style>\n<div class=\"ansiout\">+----------------+-------------+\n      occupation|divorced_rate|\n+----------------+-------------+\n    Adm-clerical|         0.22|\n Priv-house-serv|         0.19|\n    Tech-support|         0.15|\n   Other-service|         0.15|\n Exec-managerial|         0.15|\n+----------------+-------------+\nonly showing top 5 rows\n\n</div>"
      ]
     },
     "metadata": {},
     "output_type": "display_data"
    }
   ],
   "source": [
    "# import what we will need\nfrom pyspark.sql.functions import when, col, mean, desc, round\n\n# wrangle the data a bit\ndf_result = df_adult.select(\n  df_adult['occupation'], \n  # create a 1/0 type col on the fly\n  when( col('marital_status') == ' Divorced' , 1 ).otherwise(0).alias('is_divorced')\n)\n# do grouping (and a round)\ndf_result = df_result.groupBy('occupation').agg(round(mean('is_divorced'),2).alias('divorced_rate'))\n# do ordering\ndf_result = df_result.orderBy(desc('divorced_rate'))\n# show results\ndf_result.show(5)"
   ]
  },
  {
   "cell_type": "markdown",
   "metadata": {},
   "source": [
    "As you can see the dataframes api is a bit more verbose then just expressing what you want to do in standard SQL.<br><br>But some prefer it and might be more used to it, and there could be cases where expressing what you need to do might just be better using the DataFrame API if it is too complicated for a simple SQL expression for example of maybe involves recursion of some type."
   ]
  },
  {
   "cell_type": "markdown",
   "metadata": {},
   "source": [
    "####<span style=\"color:darkblue\">Question 2</span>\n1. Write some pyspark to get the top 'bachelor_rate' by 'education' group using DataFrame operations?"
   ]
  },
  {
   "cell_type": "code",
   "execution_count": 25,
   "metadata": {},
   "outputs": [
    {
     "data": {
      "text/html": [
       "<style scoped>\n  .ansiout {\n    display: block;\n    unicode-bidi: embed;\n    white-space: pre-wrap;\n    word-wrap: break-word;\n    word-break: break-all;\n    font-family: \"Source Code Pro\", \"Menlo\", monospace;;\n    font-size: 13px;\n    color: #555;\n    margin-left: 4px;\n    line-height: 19px;\n  }\n</style>\n<div class=\"ansiout\">+---------+-------------+\neducation|bachelor_rate|\n+---------+-------------+\n     12th|         0.54|\n+---------+-------------+\nonly showing top 1 row\n\n</div>"
      ]
     },
     "metadata": {},
     "output_type": "display_data"
    }
   ],
   "source": [
    "### Question 2.1 Answer ###\n# import what we will need\nfrom pyspark.sql.functions import when, col, mean, desc, round\n\n# wrangle the data a bit\ndf_result = df_adult.select(\n  df_adult['education'], \n  # create a 1/0 type col on the fly\n  when( col('marital_status') == ' Never-married' , 1 ).otherwise(0).alias('is_bachelor')\n)\n# do grouping (and a round)\ndf_result = df_result.groupBy('education').agg(round(mean('is_bachelor'),2).alias('bachelor_rate'))\n# do ordering\ndf_result = df_result.orderBy(desc('bachelor_rate'))\n# show results\ndf_result.show(1)"
   ]
  },
  {
   "cell_type": "markdown",
   "metadata": {},
   "source": [
    "####Explore & Visualize Data\nIt's very easy to [collect()](https://spark.apache.org/docs/latest/rdd-programming-guide.html#printing-elements-of-an-rdd) your Spark DataFrame data into a Pandas df and then continue to analyse or plot as you might normally.\n<br><br>\nObviously if you try to collect() a huge DataFrame then you will run into issues, so usually you would only collect aggregated or sampled data into a Pandas df."
   ]
  },
  {
   "cell_type": "code",
   "execution_count": 27,
   "metadata": {},
   "outputs": [
    {
     "data": {
      "text/html": [
       "<style scoped>\n  .ansiout {\n    display: block;\n    unicode-bidi: embed;\n    white-space: pre-wrap;\n    word-wrap: break-word;\n    word-break: break-all;\n    font-family: \"Source Code Pro\", \"Menlo\", monospace;;\n    font-size: 13px;\n    color: #555;\n    margin-left: 4px;\n    line-height: 19px;\n  }\n</style>\n<div class=\"ansiout\">         occupation  plus_50k\n0   Exec-managerial  0.484014\n1    Prof-specialty  0.449034\n2   Protective-serv  0.325116\n3      Tech-support  0.304957\n4             Sales  0.269315\n</div>"
      ]
     },
     "metadata": {},
     "output_type": "display_data"
    }
   ],
   "source": [
    "import pandas as pd\n\n# do some analysis\nresult = spark.sql(\n  \"\"\"\n  SELECT \n    occupation,\n    AVG(IF(income = ' >50K',1,0)) as plus_50k\n  FROM \n    adult \n  GROUP BY 1\n  ORDER BY 2 DESC\n  \"\"\")\n\n# collect results into a pandas df\ndf_pandas = pd.DataFrame(\n  result.collect(),\n  columns=result.schema.names\n)\n\n# look at df\nprint(df_pandas.head())"
   ]
  },
  {
   "cell_type": "code",
   "execution_count": 28,
   "metadata": {},
   "outputs": [
    {
     "data": {
      "text/html": [
       "<style scoped>\n  .ansiout {\n    display: block;\n    unicode-bidi: embed;\n    white-space: pre-wrap;\n    word-wrap: break-word;\n    word-break: break-all;\n    font-family: \"Source Code Pro\", \"Menlo\", monospace;;\n    font-size: 13px;\n    color: #555;\n    margin-left: 4px;\n    line-height: 19px;\n  }\n</style>\n<div class=\"ansiout\">        plus_50k\ncount  15.000000\nmean    0.197357\nstd     0.143993\nmin     0.006711\n25%     0.107373\n50%     0.134518\n75%     0.287136\nmax     0.484014\n</div>"
      ]
     },
     "metadata": {},
     "output_type": "display_data"
    }
   ],
   "source": [
    "print(df_pandas.describe())"
   ]
  },
  {
   "cell_type": "code",
   "execution_count": 29,
   "metadata": {},
   "outputs": [
    {
     "data": {
      "text/html": [
       "<style scoped>\n  .ansiout {\n    display: block;\n    unicode-bidi: embed;\n    white-space: pre-wrap;\n    word-wrap: break-word;\n    word-break: break-all;\n    font-family: \"Source Code Pro\", \"Menlo\", monospace;;\n    font-size: 13px;\n    color: #555;\n    margin-left: 4px;\n    line-height: 19px;\n  }\n</style>\n<div class=\"ansiout\">&lt;class &apos;pandas.core.frame.DataFrame&apos;&gt;\nRangeIndex: 15 entries, 0 to 14\nData columns (total 2 columns):\noccupation    15 non-null object\nplus_50k      15 non-null float64\ndtypes: float64(1), object(1)\nmemory usage: 320.0+ bytes\nNone\n</div>"
      ]
     },
     "metadata": {},
     "output_type": "display_data"
    }
   ],
   "source": [
    "print(df_pandas.info())"
   ]
  },
  {
   "cell_type": "markdown",
   "metadata": {},
   "source": [
    "Here we will just do some very basic plotting to show how you might collect what you are interested in into a Pandas DF and then just plot any way you normally would.\n\nFor simplicity we are going to use the plotting functionality built into pandas (you could make this a pretty as you want)."
   ]
  },
  {
   "cell_type": "code",
   "execution_count": 31,
   "metadata": {},
   "outputs": [
    {
     "data": {
      "image/png": "[encoded data removed]"
     },
     "metadata": {},
     "output_type": "display_data"
    }
   ],
   "source": [
    "import matplotlib.pyplot as plt\n\n# i like ggplot style\nplt.style.use('ggplot')\n\n# get simple plot on the pandas data\nmyplot = df_pandas.plot(kind='barh', x='occupation', y='plus_50k')\n\n# display the plot (note - display() is a databricks function - \n# more info on plotting in Databricks is here: https://docs.databricks.com/user-guide/visualizations/matplotlib-and-ggplot.html)\ndisplay(myplot.figure)"
   ]
  },
  {
   "cell_type": "markdown",
   "metadata": {},
   "source": [
    "You can also easily get summary stats on a Spark DataFrame like below. [Here](https://databricks.com/blog/2015/06/02/statistical-and-mathematical-functions-with-dataframes-in-spark.html) is a nice blog post that has more examples.<br><br>So this is an example of why you might want to move from Spark SQL into DataFrames API as being able to just call describe() on the Spark DF is easier then trying to do the equivilant in Spark SQL."
   ]
  },
  {
   "cell_type": "code",
   "execution_count": 33,
   "metadata": {},
   "outputs": [
    {
     "data": {
      "text/html": [
       "<style scoped>\n  .ansiout {\n    display: block;\n    unicode-bidi: embed;\n    white-space: pre-wrap;\n    word-wrap: break-word;\n    word-break: break-all;\n    font-family: \"Source Code Pro\", \"Menlo\", monospace;;\n    font-size: 13px;\n    color: #555;\n    margin-left: 4px;\n    line-height: 19px;\n  }\n</style>\n<div class=\"ansiout\">+-------+------------------+------------------+\nsummary|               age|     education_num|\n+-------+------------------+------------------+\n  count|             32560|             32560|\n   mean|38.581633906633904| 10.08058968058968|\n stddev|13.640641827464002|2.5727089681052058|\n    min|              17.0|               1.0|\n    max|              90.0|              16.0|\n+-------+------------------+------------------+\n\n</div>"
      ]
     },
     "metadata": {},
     "output_type": "display_data"
    }
   ],
   "source": [
    "# describe df\ndf_adult.select(df_adult['age'],df_adult['education_num']).describe().show()"
   ]
  },
  {
   "cell_type": "markdown",
   "metadata": {},
   "source": [
    "### ML Pipeline - Logistic Regression vs Random Forest\n\nBelow we will create two [Spark ML Pipelines](https://spark.apache.org/docs/latest/ml-pipeline.html) - one that fits a logistic regression and one that fits a random forest. We will then compare the performance of each.\n\n**Note**: A lot of the code below is adapted from [this example](https://docs.databricks.com/spark/latest/mllib/binary-classification-mllib-pipelines.html)."
   ]
  },
  {
   "cell_type": "code",
   "execution_count": 35,
   "metadata": {},
   "outputs": [
    {
     "data": {
      "text/html": [
       "<style scoped>\n  .ansiout {\n    display: block;\n    unicode-bidi: embed;\n    white-space: pre-wrap;\n    word-wrap: break-word;\n    word-break: break-all;\n    font-family: \"Source Code Pro\", \"Menlo\", monospace;;\n    font-size: 13px;\n    color: #555;\n    margin-left: 4px;\n    line-height: 19px;\n  }\n</style>\n<div class=\"ansiout\"></div>"
      ]
     },
     "metadata": {},
     "output_type": "display_data"
    }
   ],
   "source": [
    "from pyspark.ml import Pipeline\nfrom pyspark.ml.feature import OneHotEncoderEstimator, StringIndexer, VectorAssembler\n\ncategoricalColumns = [\"workclass\", \"education\", \"marital_status\", \"occupation\", \"relationship\", \"race\", \"sex\", \"native_country\"]\nstages = [] # stages in our Pipeline\n\nfor categoricalCol in categoricalColumns:\n    # Category Indexing with StringIndexer\n    stringIndexer = StringIndexer(inputCol=categoricalCol, outputCol=categoricalCol + \"Index\")\n    # Use OneHotEncoder to convert categorical variables into binary SparseVectors\n    # encoder = OneHotEncoderEstimator(inputCol=categoricalCol + \"Index\", outputCol=categoricalCol + \"classVec\")\n    encoder = OneHotEncoderEstimator(inputCols=[stringIndexer.getOutputCol()], outputCols=[categoricalCol + \"classVec\"])\n    # Add stages.  These are not run here, but will run all at once later on.\n    stages += [stringIndexer, encoder]"
   ]
  },
  {
   "cell_type": "code",
   "execution_count": 36,
   "metadata": {},
   "outputs": [
    {
     "data": {
      "text/html": [
       "<style scoped>\n  .ansiout {\n    display: block;\n    unicode-bidi: embed;\n    white-space: pre-wrap;\n    word-wrap: break-word;\n    word-break: break-all;\n    font-family: \"Source Code Pro\", \"Menlo\", monospace;;\n    font-size: 13px;\n    color: #555;\n    margin-left: 4px;\n    line-height: 19px;\n  }\n</style>\n<div class=\"ansiout\"></div>"
      ]
     },
     "metadata": {},
     "output_type": "display_data"
    }
   ],
   "source": [
    "# Convert label into label indices using the StringIndexer\nlabel_stringIdx = StringIndexer(inputCol=\"income\", outputCol=\"label\")\nstages += [label_stringIdx]"
   ]
  },
  {
   "cell_type": "code",
   "execution_count": 37,
   "metadata": {},
   "outputs": [
    {
     "data": {
      "text/html": [
       "<style scoped>\n  .ansiout {\n    display: block;\n    unicode-bidi: embed;\n    white-space: pre-wrap;\n    word-wrap: break-word;\n    word-break: break-all;\n    font-family: \"Source Code Pro\", \"Menlo\", monospace;;\n    font-size: 13px;\n    color: #555;\n    margin-left: 4px;\n    line-height: 19px;\n  }\n</style>\n<div class=\"ansiout\"></div>"
      ]
     },
     "metadata": {},
     "output_type": "display_data"
    }
   ],
   "source": [
    "# Transform all features into a vector using VectorAssembler\nnumericCols = [\"age\", \"fnlwgt\", \"education_num\", \"capital_gain\", \"capital_loss\", \"hours_per_week\"]\nassemblerInputs = [c + \"classVec\" for c in categoricalColumns] + numericCols\nassembler = VectorAssembler(inputCols=assemblerInputs, outputCol=\"features\")\nstages += [assembler]"
   ]
  },
  {
   "cell_type": "code",
   "execution_count": 38,
   "metadata": {},
   "outputs": [
    {
     "data": {
      "text/html": [
       "<style scoped>\n  .table-result-container {\n    max-height: 300px;\n    overflow: auto;\n  }\n  table, th, td {\n    border: 1px solid black;\n    border-collapse: collapse;\n  }\n  th, td {\n    padding: 5px;\n  }\n  th {\n    text-align: left;\n  }\n</style><div class='table-result-container'><table class='table-result'><thead style='background-color: white'><tr><th>label</th><th>features</th><th>age</th><th>workclass</th><th>fnlwgt</th><th>education</th><th>education_num</th><th>marital_status</th><th>occupation</th><th>relationship</th><th>race</th><th>sex</th><th>capital_gain</th><th>capital_loss</th><th>hours_per_week</th><th>native_country</th><th>income</th></tr></thead><tbody><tr><td>0.0</td><td>List(0, 100, List(1, 10, 23, 31, 43, 48, 52, 53, 94, 95, 96, 99), List(1.0, 1.0, 1.0, 1.0, 1.0, 1.0, 1.0, 1.0, 50.0, 83311.0, 13.0, 13.0))</td><td>50.0</td><td> Self-emp-not-inc</td><td>83311.0</td><td> Bachelors</td><td>13.0</td><td> Married-civ-spouse</td><td> Exec-managerial</td><td> Husband</td><td> White</td><td> Male</td><td>0.0</td><td>0.0</td><td>13.0</td><td> United-States</td><td> <=50K</td></tr><tr><td>0.0</td><td>List(0, 100, List(0, 8, 25, 38, 44, 48, 52, 53, 94, 95, 96, 99), List(1.0, 1.0, 1.0, 1.0, 1.0, 1.0, 1.0, 1.0, 38.0, 215646.0, 9.0, 40.0))</td><td>38.0</td><td> Private</td><td>215646.0</td><td> HS-grad</td><td>9.0</td><td> Divorced</td><td> Handlers-cleaners</td><td> Not-in-family</td><td> White</td><td> Male</td><td>0.0</td><td>0.0</td><td>40.0</td><td> United-States</td><td> <=50K</td></tr><tr><td>0.0</td><td>List(0, 100, List(0, 13, 23, 38, 43, 49, 52, 53, 94, 95, 96, 99), List(1.0, 1.0, 1.0, 1.0, 1.0, 1.0, 1.0, 1.0, 53.0, 234721.0, 7.0, 40.0))</td><td>53.0</td><td> Private</td><td>234721.0</td><td> 11th</td><td>7.0</td><td> Married-civ-spouse</td><td> Handlers-cleaners</td><td> Husband</td><td> Black</td><td> Male</td><td>0.0</td><td>0.0</td><td>40.0</td><td> United-States</td><td> <=50K</td></tr><tr><td>0.0</td><td>List(0, 100, List(0, 10, 23, 29, 47, 49, 62, 94, 95, 96, 99), List(1.0, 1.0, 1.0, 1.0, 1.0, 1.0, 1.0, 28.0, 338409.0, 13.0, 40.0))</td><td>28.0</td><td> Private</td><td>338409.0</td><td> Bachelors</td><td>13.0</td><td> Married-civ-spouse</td><td> Prof-specialty</td><td> Wife</td><td> Black</td><td> Female</td><td>0.0</td><td>0.0</td><td>40.0</td><td> Cuba</td><td> <=50K</td></tr><tr><td>0.0</td><td>List(0, 100, List(0, 11, 23, 31, 47, 48, 53, 94, 95, 96, 99), List(1.0, 1.0, 1.0, 1.0, 1.0, 1.0, 1.0, 37.0, 284582.0, 14.0, 40.0))</td><td>37.0</td><td> Private</td><td>284582.0</td><td> Masters</td><td>14.0</td><td> Married-civ-spouse</td><td> Exec-managerial</td><td> Wife</td><td> White</td><td> Female</td><td>0.0</td><td>0.0</td><td>40.0</td><td> United-States</td><td> <=50K</td></tr></tbody></table></div>"
      ]
     },
     "metadata": {},
     "output_type": "display_data"
    }
   ],
   "source": [
    "# Create a Pipeline.\npipeline = Pipeline(stages=stages)\n# Run the feature transformations.\n#  - fit() computes feature statistics as needed.\n#  - transform() actually transforms the features.\npipelineModel = pipeline.fit(df_adult)\ndataset = pipelineModel.transform(df_adult)\n# Keep relevant columns\nselectedcols = [\"label\", \"features\"] + cols\ndataset = dataset.select(selectedcols)\ndisplay(dataset.head(5))"
   ]
  },
  {
   "cell_type": "code",
   "execution_count": 39,
   "metadata": {},
   "outputs": [
    {
     "data": {
      "text/html": [
       "<style scoped>\n  .ansiout {\n    display: block;\n    unicode-bidi: embed;\n    white-space: pre-wrap;\n    word-wrap: break-word;\n    word-break: break-all;\n    font-family: \"Source Code Pro\", \"Menlo\", monospace;;\n    font-size: 13px;\n    color: #555;\n    margin-left: 4px;\n    line-height: 19px;\n  }\n</style>\n<div class=\"ansiout\">22837\n9723\n</div>"
      ]
     },
     "metadata": {},
     "output_type": "display_data"
    }
   ],
   "source": [
    "### Randomly split data into training and test sets. set seed for reproducibility\n(trainingData, testData) = dataset.randomSplit([0.7, 0.3], seed=100)\nprint(trainingData.count())\nprint(testData.count())"
   ]
  },
  {
   "cell_type": "code",
   "execution_count": 40,
   "metadata": {},
   "outputs": [
    {
     "data": {
      "text/html": [
       "<style scoped>\n  .ansiout {\n    display: block;\n    unicode-bidi: embed;\n    white-space: pre-wrap;\n    word-wrap: break-word;\n    word-break: break-all;\n    font-family: \"Source Code Pro\", \"Menlo\", monospace;;\n    font-size: 13px;\n    color: #555;\n    margin-left: 4px;\n    line-height: 19px;\n  }\n</style>\n<div class=\"ansiout\">Positive rate in the training data is 0.23934842580023646\n</div>"
      ]
     },
     "metadata": {},
     "output_type": "display_data"
    }
   ],
   "source": [
    "from pyspark.sql.functions import avg\n\n# get the rate of the positive outcome from the training data to use as a threshold in the model\ntraining_data_positive_rate = trainingData.select(avg(trainingData['label'])).collect()[0][0] \n\nprint(\"Positive rate in the training data is {}\".format(training_data_positive_rate))"
   ]
  },
  {
   "cell_type": "markdown",
   "metadata": {},
   "source": [
    "####Logistic Regression - Train"
   ]
  },
  {
   "cell_type": "code",
   "execution_count": 42,
   "metadata": {},
   "outputs": [
    {
     "data": {
      "text/html": [
       "<style scoped>\n  .ansiout {\n    display: block;\n    unicode-bidi: embed;\n    white-space: pre-wrap;\n    word-wrap: break-word;\n    word-break: break-all;\n    font-family: \"Source Code Pro\", \"Menlo\", monospace;;\n    font-size: 13px;\n    color: #555;\n    margin-left: 4px;\n    line-height: 19px;\n  }\n</style>\n<div class=\"ansiout\">Best threshold based on model performance on training data is 0.349896887684869\n</div>"
      ]
     },
     "metadata": {},
     "output_type": "display_data"
    }
   ],
   "source": [
    "from pyspark.ml.classification import LogisticRegression\n\n# Create initial LogisticRegression model\nlr = LogisticRegression(labelCol=\"label\", featuresCol=\"features\", maxIter=10)\n\n# set threshold for the probability above which to predict a 1\nlr.setThreshold(training_data_positive_rate)\n# lr.setThreshold(0.5) # could use this if knew you had balanced data\n\n# Train model with Training Data\nlrModel = lr.fit(trainingData)\n\n# get training summary used for eval metrics and other params\nlrTrainingSummary = lrModel.summary\n\n# Find the best model threshold if you would like to use that instead of the empirical positve rate\nfMeasure = lrTrainingSummary.fMeasureByThreshold\nmaxFMeasure = fMeasure.groupBy().max('F-Measure').select('max(F-Measure)').head()\nlrBestThreshold = fMeasure.where(fMeasure['F-Measure'] == maxFMeasure['max(F-Measure)']) \\\n    .select('threshold').head()['threshold']\n  \nprint(\"Best threshold based on model performance on training data is {}\".format(lrBestThreshold))"
   ]
  },
  {
   "cell_type": "markdown",
   "metadata": {},
   "source": [
    "####GBM - Train"
   ]
  },
  {
   "cell_type": "markdown",
   "metadata": {},
   "source": [
    "####<span style=\"color:darkblue\">Question 3</span>\n1. Train a GBTClassifier on the training data, call the trained model 'gbModel'"
   ]
  },
  {
   "cell_type": "code",
   "execution_count": 45,
   "metadata": {},
   "outputs": [
    {
     "data": {
      "text/html": [
       "<style scoped>\n  .ansiout {\n    display: block;\n    unicode-bidi: embed;\n    white-space: pre-wrap;\n    word-wrap: break-word;\n    word-break: break-all;\n    font-family: \"Source Code Pro\", \"Menlo\", monospace;;\n    font-size: 13px;\n    color: #555;\n    margin-left: 4px;\n    line-height: 19px;\n  }\n</style>\n<div class=\"ansiout\"></div>"
      ]
     },
     "metadata": {},
     "output_type": "display_data"
    }
   ],
   "source": [
    "### Question 3.1 Answer ###\nfrom pyspark.ml.classification import GBTClassifier\ngb = GBTClassifier(featuresCol=\"features\", labelCol=\"label\", maxIter=20)\n\n# Train model with Training Data\ngbModel = gb.fit(trainingData)"
   ]
  },
  {
   "cell_type": "markdown",
   "metadata": {},
   "source": [
    "####Logistic Regression - Predict"
   ]
  },
  {
   "cell_type": "code",
   "execution_count": 47,
   "metadata": {},
   "outputs": [
    {
     "data": {
      "text/html": [
       "<style scoped>\n  .table-result-container {\n    max-height: 300px;\n    overflow: auto;\n  }\n  table, th, td {\n    border: 1px solid black;\n    border-collapse: collapse;\n  }\n  th, td {\n    padding: 5px;\n  }\n  th {\n    text-align: left;\n  }\n</style><div class='table-result-container'><table class='table-result'><thead style='background-color: white'><tr><th>label</th><th>prediction</th><th>probability</th></tr></thead><tbody><tr><td>0.0</td><td>1.0</td><td>List(1, 2, List(), List(0.6912640989186466, 0.3087359010813534))</td></tr><tr><td>0.0</td><td>1.0</td><td>List(1, 2, List(), List(0.6213734865155065, 0.3786265134844935))</td></tr><tr><td>0.0</td><td>1.0</td><td>List(1, 2, List(), List(0.6586287948600485, 0.3413712051399515))</td></tr><tr><td>0.0</td><td>1.0</td><td>List(1, 2, List(), List(0.6589958510289854, 0.3410041489710147))</td></tr><tr><td>0.0</td><td>1.0</td><td>List(1, 2, List(), List(0.6157704934546715, 0.38422950654532856))</td></tr></tbody></table></div>"
      ]
     },
     "metadata": {},
     "output_type": "display_data"
    }
   ],
   "source": [
    "# make predictions on test data\nlrPredictions = lrModel.transform(testData)\n\n# display predictions\ndisplay(lrPredictions.select(\"label\", \"prediction\", \"probability\").head(5))\n#display(lrPredictions)"
   ]
  },
  {
   "cell_type": "markdown",
   "metadata": {},
   "source": [
    "###GBM - Predict"
   ]
  },
  {
   "cell_type": "markdown",
   "metadata": {},
   "source": [
    "####<span style=\"color:darkblue\">Question 4</span>\n1. Get predictions on the test data for your GBTClassifier. Call the predictions df 'gbPredictions'."
   ]
  },
  {
   "cell_type": "code",
   "execution_count": 50,
   "metadata": {},
   "outputs": [
    {
     "data": {
      "text/html": [
       "<style scoped>\n  .table-result-container {\n    max-height: 300px;\n    overflow: auto;\n  }\n  table, th, td {\n    border: 1px solid black;\n    border-collapse: collapse;\n  }\n  th, td {\n    padding: 5px;\n  }\n  th {\n    text-align: left;\n  }\n</style><div class='table-result-container'><table class='table-result'><thead style='background-color: white'><tr><th>label</th><th>prediction</th><th>probability</th></tr></thead><tbody><tr><td>0.0</td><td>0.0</td><td>List(1, 2, List(), List(0.8275020902637774, 0.1724979097362226))</td></tr><tr><td>0.0</td><td>0.0</td><td>List(1, 2, List(), List(0.7394810708675209, 0.2605189291324791))</td></tr><tr><td>0.0</td><td>0.0</td><td>List(1, 2, List(), List(0.7394810708675209, 0.2605189291324791))</td></tr><tr><td>0.0</td><td>0.0</td><td>List(1, 2, List(), List(0.7394810708675209, 0.2605189291324791))</td></tr><tr><td>0.0</td><td>0.0</td><td>List(1, 2, List(), List(0.5494250096016532, 0.4505749903983468))</td></tr></tbody></table></div>"
      ]
     },
     "metadata": {},
     "output_type": "display_data"
    }
   ],
   "source": [
    "### Question 4.1 Answer ###\n\n# make predictions on test data\ngbPredictions = gbModel.transform(testData)\n\ndisplay(gbPredictions.select(\"label\", \"prediction\", \"probability\").head(5))"
   ]
  },
  {
   "cell_type": "markdown",
   "metadata": {},
   "source": [
    "####Logistic Regression - Evaluate"
   ]
  },
  {
   "cell_type": "markdown",
   "metadata": {},
   "source": [
    "####<span style=\"color:darkblue\">Question 5</span>\n1. Complete the print_performance_metrics() function below to also include measures of F1, Precision, Recall, False Positive Rate and True Positive Rate."
   ]
  },
  {
   "cell_type": "code",
   "execution_count": 53,
   "metadata": {},
   "outputs": [
    {
     "data": {
      "text/html": [
       "<style scoped>\n  .ansiout {\n    display: block;\n    unicode-bidi: embed;\n    white-space: pre-wrap;\n    word-wrap: break-word;\n    word-break: break-all;\n    font-family: \"Source Code Pro\", \"Menlo\", monospace;;\n    font-size: 13px;\n    color: #555;\n    margin-left: 4px;\n    line-height: 19px;\n  }\n</style>\n<div class=\"ansiout\">auc = 0.9032867661805299\naupr = 0.7627830907418989\nArea under PR = 0.5366100314564946\nArea under ROC = 0.8159794860040686\nAccuracy = 0.80067880283863\nDenseMatrix([[ 5776.,  1572.],\n             [  366.,  2009.]])\nF1 = 0.856338028169014\nPrecision = 0.9404102898078802\nRecall = 0.7860642351660315\nFPR for label 0 = 0.15410526315789475\nFPR for label 1  =0.21393576483396842\nTPR for label 0 = 0.7860642351660315\nTPR for label 1 =0.8458947368421053\n</div>"
      ]
     },
     "metadata": {},
     "output_type": "display_data"
    }
   ],
   "source": [
    "from pyspark.ml.evaluation import BinaryClassificationEvaluator\nfrom pyspark.mllib.evaluation import BinaryClassificationMetrics, MulticlassMetrics\n\ndef print_performance_metrics(predictions):\n  # Evaluate model\n  evaluator = BinaryClassificationEvaluator(rawPredictionCol=\"rawPrediction\")\n  auc = evaluator.evaluate(predictions, {evaluator.metricName: \"areaUnderROC\"})\n  aupr = evaluator.evaluate(predictions, {evaluator.metricName: \"areaUnderPR\"})\n  print(\"auc = {}\".format(auc))\n  print(\"aupr = {}\".format(aupr))\n\n  # get rdd of predictions and labels for mllib eval metrics\n  predictionAndLabels = predictions.select(\"prediction\",\"label\").rdd\n\n  # Instantiate metrics objects\n  binary_metrics = BinaryClassificationMetrics(predictionAndLabels)\n  multi_metrics = MulticlassMetrics(predictionAndLabels)\n\n  # Area under precision-recall curve\n  print(\"Area under PR = {}\".format(binary_metrics.areaUnderPR))\n  # Area under ROC curve\n  print(\"Area under ROC = {}\".format(binary_metrics.areaUnderROC))\n  # Accuracy\n  print(\"Accuracy = {}\".format(multi_metrics.accuracy))\n  # Confusion Matrix\n  print(multi_metrics.confusionMatrix())\n  \n  ### Question 5.1 Answer ###\n  \n  # F1\n  print(\"F1 = {}\".format(multi_metrics.fMeasure(0.0)))\n  # Precision\n  print(\"Precision = {}\".format(multi_metrics.precision(0.0)))\n  # Recall\n  print(\"Recall = {}\".format(multi_metrics.recall(0.0)))\n  # FPR\n  print(\"FPR for label 0 = {}\".format(multi_metrics.falsePositiveRate(0.0)))\n  print(\"FPR for label 1  ={}\".format(multi_metrics.falsePositiveRate(1.0)))\n  # TPR\n  print(\"TPR for label 0 = {}\".format(multi_metrics.truePositiveRate(0.0)))\n  print(\"TPR for label 1 ={}\".format(multi_metrics.truePositiveRate(1.0)))\n  \n  \nprint_performance_metrics(lrPredictions)"
   ]
  },
  {
   "cell_type": "markdown",
   "metadata": {},
   "source": [
    "####GBM - Evaluate"
   ]
  },
  {
   "cell_type": "code",
   "execution_count": 55,
   "metadata": {},
   "outputs": [
    {
     "data": {
      "text/html": [
       "<style scoped>\n  .ansiout {\n    display: block;\n    unicode-bidi: embed;\n    white-space: pre-wrap;\n    word-wrap: break-word;\n    word-break: break-all;\n    font-family: \"Source Code Pro\", \"Menlo\", monospace;;\n    font-size: 13px;\n    color: #555;\n    margin-left: 4px;\n    line-height: 19px;\n  }\n</style>\n<div class=\"ansiout\">auc = 0.9084024582414105\naupr = 0.7819322308035076\nArea under PR = 0.6548298581331596\nArea under ROC = 0.760622296077701\nAccuracy = 0.853543145119819\nDenseMatrix([[ 6924.,   424.],\n             [ 1000.,  1375.]])\nF1 = 0.9067574646411732\nPrecision = 0.8738011105502271\nRecall = 0.9422972237343494\nFPR for label 0 = 0.42105263157894735\nFPR for label 1  =0.05770277626565052\nTPR for label 0 = 0.9422972237343494\nTPR for label 1 =0.5789473684210527\n</div>"
      ]
     },
     "metadata": {},
     "output_type": "display_data"
    }
   ],
   "source": [
    "print_performance_metrics(gbPredictions)"
   ]
  },
  {
   "cell_type": "markdown",
   "metadata": {},
   "source": [
    "## Cross Validation"
   ]
  },
  {
   "cell_type": "markdown",
   "metadata": {},
   "source": [
    "For each model you can run the below comand to see its params and a brief explanation of each."
   ]
  },
  {
   "cell_type": "code",
   "execution_count": 58,
   "metadata": {},
   "outputs": [
    {
     "data": {
      "text/html": [
       "<style scoped>\n  .ansiout {\n    display: block;\n    unicode-bidi: embed;\n    white-space: pre-wrap;\n    word-wrap: break-word;\n    word-break: break-all;\n    font-family: \"Source Code Pro\", \"Menlo\", monospace;;\n    font-size: 13px;\n    color: #555;\n    margin-left: 4px;\n    line-height: 19px;\n  }\n</style>\n<div class=\"ansiout\">aggregationDepth: suggested depth for treeAggregate (&gt;= 2). (default: 2)\nelasticNetParam: the ElasticNet mixing parameter, in range [0, 1]. For alpha = 0, the penalty is an L2 penalty. For alpha = 1, it is an L1 penalty. (default: 0.0)\nfamily: The name of family which is a description of the label distribution to be used in the model. Supported options: auto, binomial, multinomial (default: auto)\nfeaturesCol: features column name. (default: features, current: features)\nfitIntercept: whether to fit an intercept term. (default: True)\nlabelCol: label column name. (default: label, current: label)\nlowerBoundsOnCoefficients: The lower bounds on coefficients if fitting under bound constrained optimization. The bound matrix must be compatible with the shape (1, number of features) for binomial regression, or (number of classes, number of features) for multinomial regression. (undefined)\nlowerBoundsOnIntercepts: The lower bounds on intercepts if fitting under bound constrained optimization. The bounds vector size must beequal with 1 for binomial regression, or the number oflasses for multinomial regression. (undefined)\nmaxIter: max number of iterations (&gt;= 0). (default: 100, current: 10)\npredictionCol: prediction column name. (default: prediction)\nprobabilityCol: Column name for predicted class conditional probabilities. Note: Not all models output well-calibrated probability estimates! These probabilities should be treated as confidences, not precise probabilities. (default: probability)\nrawPredictionCol: raw prediction (a.k.a. confidence) column name. (default: rawPrediction)\nregParam: regularization parameter (&gt;= 0). (default: 0.0)\nstandardization: whether to standardize the training features before fitting the model. (default: True)\nthreshold: Threshold in binary classification prediction, in range [0, 1]. If threshold and thresholds are both set, they must match.e.g. if threshold is p, then thresholds must be equal to [1-p, p]. (default: 0.5, current: 0.23934842580023646)\nthresholds: Thresholds in multi-class classification to adjust the probability of predicting each class. Array must have length equal to the number of classes, with values &gt; 0, excepting that at most one value may be 0. The class with largest value p/t is predicted, where p is the original probability of that class and t is the class&apos;s threshold. (undefined)\ntol: the convergence tolerance for iterative algorithms (&gt;= 0). (default: 1e-06)\nupperBoundsOnCoefficients: The upper bounds on coefficients if fitting under bound constrained optimization. The bound matrix must be compatible with the shape (1, number of features) for binomial regression, or (number of classes, number of features) for multinomial regression. (undefined)\nupperBoundsOnIntercepts: The upper bounds on intercepts if fitting under bound constrained optimization. The bound vector size must be equal with 1 for binomial regression, or the number of classes for multinomial regression. (undefined)\nweightCol: weight column name. If this is not set or empty, we treat all instance weights as 1.0. (undefined)\n</div>"
      ]
     },
     "metadata": {},
     "output_type": "display_data"
    }
   ],
   "source": [
    "print(lr.explainParams())"
   ]
  },
  {
   "cell_type": "code",
   "execution_count": 59,
   "metadata": {},
   "outputs": [
    {
     "data": {
      "text/html": [
       "<style scoped>\n  .ansiout {\n    display: block;\n    unicode-bidi: embed;\n    white-space: pre-wrap;\n    word-wrap: break-word;\n    word-break: break-all;\n    font-family: \"Source Code Pro\", \"Menlo\", monospace;;\n    font-size: 13px;\n    color: #555;\n    margin-left: 4px;\n    line-height: 19px;\n  }\n</style>\n<div class=\"ansiout\">cacheNodeIds: If false, the algorithm will pass trees to executors to match instances with nodes. If true, the algorithm will cache node IDs for each instance. Caching can speed up training of deeper trees. Users can set how often should the cache be checkpointed or disable it by setting checkpointInterval. (default: False)\ncheckpointInterval: set checkpoint interval (&gt;= 1) or disable checkpoint (-1). E.g. 10 means that the cache will get checkpointed every 10 iterations. Note: this setting will be ignored if the checkpoint directory is not set in the SparkContext. (default: 10)\nfeatureSubsetStrategy: The number of features to consider for splits at each tree node. Supported options: &apos;auto&apos; (choose automatically for task: If numTrees == 1, set to &apos;all&apos;. If numTrees &gt; 1 (forest), set to &apos;sqrt&apos; for classification and to &apos;onethird&apos; for regression), &apos;all&apos; (use all features), &apos;onethird&apos; (use 1/3 of the features), &apos;sqrt&apos; (use sqrt(number of features)), &apos;log2&apos; (use log2(number of features)), &apos;n&apos; (when n is in the range (0, 1.0], use n * number of features. When n is in the range (1, number of features), use n features). default = &apos;auto&apos; (default: all)\nfeaturesCol: features column name. (default: features, current: features)\nlabelCol: label column name. (default: label, current: label)\nlossType: Loss function which GBT tries to minimize (case-insensitive). Supported options: logistic (default: logistic)\nmaxBins: Max number of bins for discretizing continuous features.  Must be &gt;=2 and &gt;= number of categories for any categorical feature. (default: 32)\nmaxDepth: Maximum depth of the tree. (&gt;= 0) E.g., depth 0 means 1 leaf node; depth 1 means 1 internal node + 2 leaf nodes. (default: 5)\nmaxIter: max number of iterations (&gt;= 0). (default: 20, current: 20)\nmaxMemoryInMB: Maximum memory in MB allocated to histogram aggregation. If too small, then 1 node will be split per iteration, and its aggregates may exceed this size. (default: 256)\nminInfoGain: Minimum information gain for a split to be considered at a tree node. (default: 0.0)\nminInstancesPerNode: Minimum number of instances each child must have after split. If a split causes the left or right child to have fewer than minInstancesPerNode, the split will be discarded as invalid. Should be &gt;= 1. (default: 1)\npredictionCol: prediction column name. (default: prediction)\nseed: random seed. (default: 2646182618935870066)\nstepSize: Step size (a.k.a. learning rate) in interval (0, 1] for shrinking the contribution of each estimator. (default: 0.1)\nsubsamplingRate: Fraction of the training data used for learning each decision tree, in range (0, 1]. (default: 1.0)\n</div>"
      ]
     },
     "metadata": {},
     "output_type": "display_data"
    }
   ],
   "source": [
    "print(gb.explainParams())"
   ]
  },
  {
   "cell_type": "markdown",
   "metadata": {},
   "source": [
    "####Logisitic Regression - Param Grid"
   ]
  },
  {
   "cell_type": "code",
   "execution_count": 61,
   "metadata": {},
   "outputs": [
    {
     "data": {
      "text/html": [
       "<style scoped>\n  .ansiout {\n    display: block;\n    unicode-bidi: embed;\n    white-space: pre-wrap;\n    word-wrap: break-word;\n    word-break: break-all;\n    font-family: \"Source Code Pro\", \"Menlo\", monospace;;\n    font-size: 13px;\n    color: #555;\n    margin-left: 4px;\n    line-height: 19px;\n  }\n</style>\n<div class=\"ansiout\"></div>"
      ]
     },
     "metadata": {},
     "output_type": "display_data"
    }
   ],
   "source": [
    "from pyspark.ml.tuning import ParamGridBuilder, CrossValidator\n\n# Create ParamGrid for Cross Validation\nlrParamGrid = (ParamGridBuilder()\n             .addGrid(lr.regParam, [0.01, 0.5, 2.0])\n             .addGrid(lr.elasticNetParam, [0.0, 0.5, 1.0])\n             .addGrid(lr.maxIter, [2, 5])\n             .build())"
   ]
  },
  {
   "cell_type": "markdown",
   "metadata": {},
   "source": [
    "####GBM - Param Grid"
   ]
  },
  {
   "cell_type": "markdown",
   "metadata": {},
   "source": [
    "####<span style=\"color:darkblue\">Question 6</span>\n1. Build out a param grid for the gb model, call it 'gbParamGrid'."
   ]
  },
  {
   "cell_type": "code",
   "execution_count": 64,
   "metadata": {},
   "outputs": [
    {
     "data": {
      "text/html": [
       "<style scoped>\n  .ansiout {\n    display: block;\n    unicode-bidi: embed;\n    white-space: pre-wrap;\n    word-wrap: break-word;\n    word-break: break-all;\n    font-family: \"Source Code Pro\", \"Menlo\", monospace;;\n    font-size: 13px;\n    color: #555;\n    margin-left: 4px;\n    line-height: 19px;\n  }\n</style>\n<div class=\"ansiout\"></div>"
      ]
     },
     "metadata": {},
     "output_type": "display_data"
    }
   ],
   "source": [
    "### Question 6.1 Answer ###\nimport numpy as np\n# Create ParamGrid for Cross Validation\ngbParamGrid = (ParamGridBuilder()\n              .addGrid(gb.maxIter, [10, 20])\n              .addGrid(gb.maxDepth, np.arange(2,5))\n              .build())"
   ]
  },
  {
   "cell_type": "markdown",
   "metadata": {},
   "source": [
    "####Logistic Regression - Perform Cross Validation"
   ]
  },
  {
   "cell_type": "code",
   "execution_count": 66,
   "metadata": {},
   "outputs": [
    {
     "data": {
      "text/html": [
       "<style scoped>\n  .ansiout {\n    display: block;\n    unicode-bidi: embed;\n    white-space: pre-wrap;\n    word-wrap: break-word;\n    word-break: break-all;\n    font-family: \"Source Code Pro\", \"Menlo\", monospace;;\n    font-size: 13px;\n    color: #555;\n    margin-left: 4px;\n    line-height: 19px;\n  }\n</style>\n<div class=\"ansiout\"></div>"
      ]
     },
     "metadata": {},
     "output_type": "display_data"
    }
   ],
   "source": [
    "# set up an evaluator\nevaluator = BinaryClassificationEvaluator(rawPredictionCol=\"rawPrediction\")\n\n# Create CrossValidator\nlrCv = CrossValidator(estimator=lr, estimatorParamMaps=lrParamGrid, evaluator=evaluator, numFolds=2)\n\n# Run cross validations\nlrCvModel = lrCv.fit(trainingData)\n# this will likely take a fair amount of time because of the amount of models that we're creating and testing"
   ]
  },
  {
   "cell_type": "code",
   "execution_count": 67,
   "metadata": {},
   "outputs": [
    {
     "data": {
      "text/html": [
       "<style scoped>\n  .ansiout {\n    display: block;\n    unicode-bidi: embed;\n    white-space: pre-wrap;\n    word-wrap: break-word;\n    word-break: break-all;\n    font-family: \"Source Code Pro\", \"Menlo\", monospace;;\n    font-size: 13px;\n    color: #555;\n    margin-left: 4px;\n    line-height: 19px;\n  }\n</style>\n<div class=\"ansiout\">0.01\n0.0\n5\n</div>"
      ]
     },
     "metadata": {},
     "output_type": "display_data"
    }
   ],
   "source": [
    "# below approach to getting at the best params from the best cv model taken from:\n# https://stackoverflow.com/a/46353730/1919374\n\n# look at best params from the CV\nprint(lrCvModel.bestModel._java_obj.getRegParam())\nprint(lrCvModel.bestModel._java_obj.getElasticNetParam())\nprint(lrCvModel.bestModel._java_obj.getMaxIter())"
   ]
  },
  {
   "cell_type": "markdown",
   "metadata": {},
   "source": [
    "####GBM - Perform Cross Validation"
   ]
  },
  {
   "cell_type": "markdown",
   "metadata": {},
   "source": [
    "####<span style=\"color:darkblue\">Question 7</span>\n1. Perform cross validation of params on your 'gb' model.\n1. Print out the best params you found."
   ]
  },
  {
   "cell_type": "code",
   "execution_count": 70,
   "metadata": {},
   "outputs": [
    {
     "data": {
      "text/html": [
       "<style scoped>\n  .ansiout {\n    display: block;\n    unicode-bidi: embed;\n    white-space: pre-wrap;\n    word-wrap: break-word;\n    word-break: break-all;\n    font-family: \"Source Code Pro\", \"Menlo\", monospace;;\n    font-size: 13px;\n    color: #555;\n    margin-left: 4px;\n    line-height: 19px;\n  }\n</style>\n<div class=\"ansiout\"></div>"
      ]
     },
     "metadata": {},
     "output_type": "display_data"
    }
   ],
   "source": [
    "### Question 7.1 Answer ###\n\n# Create CrossValidator\ngbCv = CrossValidator(estimator=gb, estimatorParamMaps=gbParamGrid, evaluator=evaluator, numFolds=2)\n\n# Run cross validations\ngbCvModel = gbCv.fit(trainingData)"
   ]
  },
  {
   "cell_type": "code",
   "execution_count": 71,
   "metadata": {},
   "outputs": [
    {
     "data": {
      "text/html": [
       "<style scoped>\n  .ansiout {\n    display: block;\n    unicode-bidi: embed;\n    white-space: pre-wrap;\n    word-wrap: break-word;\n    word-break: break-all;\n    font-family: \"Source Code Pro\", \"Menlo\", monospace;;\n    font-size: 13px;\n    color: #555;\n    margin-left: 4px;\n    line-height: 19px;\n  }\n</style>\n<div class=\"ansiout\">4\n20\n</div>"
      ]
     },
     "metadata": {},
     "output_type": "display_data"
    }
   ],
   "source": [
    "### Question 7.2 Answer ###\n\n# look at best params from the CV\nprint(gbCvModel.bestModel._java_obj.getMaxDepth())\nprint(gbCvModel.bestModel._java_obj.getMaxIter())"
   ]
  },
  {
   "cell_type": "markdown",
   "metadata": {},
   "source": [
    "####Logistic Regression - CV Model Predict"
   ]
  },
  {
   "cell_type": "code",
   "execution_count": 73,
   "metadata": {},
   "outputs": [
    {
     "data": {
      "text/html": [
       "<style scoped>\n  .table-result-container {\n    max-height: 300px;\n    overflow: auto;\n  }\n  table, th, td {\n    border: 1px solid black;\n    border-collapse: collapse;\n  }\n  th, td {\n    padding: 5px;\n  }\n  th {\n    text-align: left;\n  }\n</style><div class='table-result-container'><table class='table-result'><thead style='background-color: white'><tr><th>label</th><th>features</th><th>age</th><th>workclass</th><th>fnlwgt</th><th>education</th><th>education_num</th><th>marital_status</th><th>occupation</th><th>relationship</th><th>race</th><th>sex</th><th>capital_gain</th><th>capital_loss</th><th>hours_per_week</th><th>native_country</th><th>income</th><th>rawPrediction</th><th>probability</th><th>prediction</th></tr></thead><tbody><tr><td>0.0</td><td>List(0, 100, List(0, 8, 23, 29, 43, 48, 52, 53, 94, 95, 96, 99), List(1.0, 1.0, 1.0, 1.0, 1.0, 1.0, 1.0, 1.0, 26.0, 58426.0, 9.0, 50.0))</td><td>26.0</td><td> Private</td><td>58426.0</td><td> HS-grad</td><td>9.0</td><td> Married-civ-spouse</td><td> Prof-specialty</td><td> Husband</td><td> White</td><td> Male</td><td>0.0</td><td>0.0</td><td>50.0</td><td> United-States</td><td> <=50K</td><td>List(1, 2, List(), List(0.25873328482870595, -0.25873328482870595))</td><td>List(1, 2, List(), List(0.5643248797009943, 0.43567512029900574))</td><td>1.0</td></tr><tr><td>0.0</td><td>List(0, 100, List(0, 8, 23, 29, 43, 48, 52, 53, 94, 95, 96, 99), List(1.0, 1.0, 1.0, 1.0, 1.0, 1.0, 1.0, 1.0, 30.0, 83253.0, 9.0, 55.0))</td><td>30.0</td><td> Private</td><td>83253.0</td><td> HS-grad</td><td>9.0</td><td> Married-civ-spouse</td><td> Prof-specialty</td><td> Husband</td><td> White</td><td> Male</td><td>0.0</td><td>0.0</td><td>55.0</td><td> United-States</td><td> <=50K</td><td>List(1, 2, List(), List(0.23884764095141953, -0.23884764095141953))</td><td>List(1, 2, List(), List(0.5594296489835735, 0.4405703510164266))</td><td>1.0</td></tr><tr><td>0.0</td><td>List(0, 100, List(0, 8, 23, 29, 43, 48, 52, 53, 94, 95, 96, 99), List(1.0, 1.0, 1.0, 1.0, 1.0, 1.0, 1.0, 1.0, 31.0, 62374.0, 9.0, 50.0))</td><td>31.0</td><td> Private</td><td>62374.0</td><td> HS-grad</td><td>9.0</td><td> Married-civ-spouse</td><td> Prof-specialty</td><td> Husband</td><td> White</td><td> Male</td><td>0.0</td><td>0.0</td><td>50.0</td><td> United-States</td><td> <=50K</td><td>List(1, 2, List(), List(0.2409086757382164, -0.2409086757382164))</td><td>List(1, 2, List(), List(0.559937565953373, 0.4400624340466271))</td><td>1.0</td></tr><tr><td>0.0</td><td>List(0, 100, List(0, 8, 23, 29, 43, 48, 52, 53, 94, 95, 96, 99), List(1.0, 1.0, 1.0, 1.0, 1.0, 1.0, 1.0, 1.0, 32.0, 32732.0, 9.0, 50.0))</td><td>32.0</td><td> Private</td><td>32732.0</td><td> HS-grad</td><td>9.0</td><td> Married-civ-spouse</td><td> Prof-specialty</td><td> Husband</td><td> White</td><td> Male</td><td>0.0</td><td>0.0</td><td>50.0</td><td> United-States</td><td> <=50K</td><td>List(1, 2, List(), List(0.21452578973107994, -0.21452578973107994))</td><td>List(1, 2, List(), List(0.5534267071472767, 0.4465732928527233))</td><td>1.0</td></tr><tr><td>0.0</td><td>List(0, 100, List(0, 8, 23, 29, 43, 48, 52, 53, 94, 95, 96, 99), List(1.0, 1.0, 1.0, 1.0, 1.0, 1.0, 1.0, 1.0, 39.0, 181705.0, 9.0, 45.0))</td><td>39.0</td><td> Private</td><td>181705.0</td><td> HS-grad</td><td>9.0</td><td> Married-civ-spouse</td><td> Prof-specialty</td><td> Husband</td><td> White</td><td> Male</td><td>0.0</td><td>0.0</td><td>45.0</td><td> United-States</td><td> <=50K</td><td>List(1, 2, List(), List(0.3190019725053903, -0.3190019725053903))</td><td>List(1, 2, List(), List(0.5790810059633363, 0.4209189940366636))</td><td>1.0</td></tr></tbody></table></div>"
      ]
     },
     "metadata": {},
     "output_type": "display_data"
    }
   ],
   "source": [
    "# Use test set to measure the accuracy of our model on new data\nlrCvPredictions = lrCvModel.transform(testData)\n\ndisplay(lrCvPredictions.head(5))"
   ]
  },
  {
   "cell_type": "markdown",
   "metadata": {},
   "source": [
    "####GBM - CV Model Predict"
   ]
  },
  {
   "cell_type": "code",
   "execution_count": 75,
   "metadata": {},
   "outputs": [
    {
     "data": {
      "text/html": [
       "<style scoped>\n  .table-result-container {\n    max-height: 300px;\n    overflow: auto;\n  }\n  table, th, td {\n    border: 1px solid black;\n    border-collapse: collapse;\n  }\n  th, td {\n    padding: 5px;\n  }\n  th {\n    text-align: left;\n  }\n</style><div class='table-result-container'><table class='table-result'><thead style='background-color: white'><tr><th>label</th><th>features</th><th>age</th><th>workclass</th><th>fnlwgt</th><th>education</th><th>education_num</th><th>marital_status</th><th>occupation</th><th>relationship</th><th>race</th><th>sex</th><th>capital_gain</th><th>capital_loss</th><th>hours_per_week</th><th>native_country</th><th>income</th><th>rawPrediction</th><th>probability</th><th>prediction</th></tr></thead><tbody><tr><td>0.0</td><td>List(0, 100, List(0, 8, 23, 29, 43, 48, 52, 53, 94, 95, 96, 99), List(1.0, 1.0, 1.0, 1.0, 1.0, 1.0, 1.0, 1.0, 26.0, 58426.0, 9.0, 50.0))</td><td>26.0</td><td> Private</td><td>58426.0</td><td> HS-grad</td><td>9.0</td><td> Married-civ-spouse</td><td> Prof-specialty</td><td> Husband</td><td> White</td><td> Male</td><td>0.0</td><td>0.0</td><td>50.0</td><td> United-States</td><td> <=50K</td><td>List(1, 2, List(), List(0.6937450112141669, -0.6937450112141669))</td><td>List(1, 2, List(), List(0.8001912371900953, 0.19980876280990467))</td><td>0.0</td></tr><tr><td>0.0</td><td>List(0, 100, List(0, 8, 23, 29, 43, 48, 52, 53, 94, 95, 96, 99), List(1.0, 1.0, 1.0, 1.0, 1.0, 1.0, 1.0, 1.0, 30.0, 83253.0, 9.0, 55.0))</td><td>30.0</td><td> Private</td><td>83253.0</td><td> HS-grad</td><td>9.0</td><td> Married-civ-spouse</td><td> Prof-specialty</td><td> Husband</td><td> White</td><td> Male</td><td>0.0</td><td>0.0</td><td>55.0</td><td> United-States</td><td> <=50K</td><td>List(1, 2, List(), List(0.47772184294825965, -0.47772184294825965))</td><td>List(1, 2, List(), List(0.7222086283647293, 0.2777913716352707))</td><td>0.0</td></tr><tr><td>0.0</td><td>List(0, 100, List(0, 8, 23, 29, 43, 48, 52, 53, 94, 95, 96, 99), List(1.0, 1.0, 1.0, 1.0, 1.0, 1.0, 1.0, 1.0, 31.0, 62374.0, 9.0, 50.0))</td><td>31.0</td><td> Private</td><td>62374.0</td><td> HS-grad</td><td>9.0</td><td> Married-civ-spouse</td><td> Prof-specialty</td><td> Husband</td><td> White</td><td> Male</td><td>0.0</td><td>0.0</td><td>50.0</td><td> United-States</td><td> <=50K</td><td>List(1, 2, List(), List(0.47772184294825965, -0.47772184294825965))</td><td>List(1, 2, List(), List(0.7222086283647293, 0.2777913716352707))</td><td>0.0</td></tr><tr><td>0.0</td><td>List(0, 100, List(0, 8, 23, 29, 43, 48, 52, 53, 94, 95, 96, 99), List(1.0, 1.0, 1.0, 1.0, 1.0, 1.0, 1.0, 1.0, 32.0, 32732.0, 9.0, 50.0))</td><td>32.0</td><td> Private</td><td>32732.0</td><td> HS-grad</td><td>9.0</td><td> Married-civ-spouse</td><td> Prof-specialty</td><td> Husband</td><td> White</td><td> Male</td><td>0.0</td><td>0.0</td><td>50.0</td><td> United-States</td><td> <=50K</td><td>List(1, 2, List(), List(0.43113460201417164, -0.43113460201417164))</td><td>List(1, 2, List(), List(0.703134537967604, 0.29686546203239605))</td><td>0.0</td></tr><tr><td>0.0</td><td>List(0, 100, List(0, 8, 23, 29, 43, 48, 52, 53, 94, 95, 96, 99), List(1.0, 1.0, 1.0, 1.0, 1.0, 1.0, 1.0, 1.0, 39.0, 181705.0, 9.0, 45.0))</td><td>39.0</td><td> Private</td><td>181705.0</td><td> HS-grad</td><td>9.0</td><td> Married-civ-spouse</td><td> Prof-specialty</td><td> Husband</td><td> White</td><td> Male</td><td>0.0</td><td>0.0</td><td>45.0</td><td> United-States</td><td> <=50K</td><td>List(1, 2, List(), List(0.18983632467323244, -0.18983632467323244))</td><td>List(1, 2, List(), List(0.593794147511366, 0.40620585248863395))</td><td>0.0</td></tr></tbody></table></div>"
      ]
     },
     "metadata": {},
     "output_type": "display_data"
    }
   ],
   "source": [
    "gbCvPredictions = gbCvModel.transform(testData)\n\ndisplay(gbCvPredictions.head(5))"
   ]
  },
  {
   "cell_type": "markdown",
   "metadata": {},
   "source": [
    "####Logistic Regression - CV Model Evaluate"
   ]
  },
  {
   "cell_type": "code",
   "execution_count": 77,
   "metadata": {},
   "outputs": [
    {
     "data": {
      "text/html": [
       "<style scoped>\n  .ansiout {\n    display: block;\n    unicode-bidi: embed;\n    white-space: pre-wrap;\n    word-wrap: break-word;\n    word-break: break-all;\n    font-family: \"Source Code Pro\", \"Menlo\", monospace;;\n    font-size: 13px;\n    color: #555;\n    margin-left: 4px;\n    line-height: 19px;\n  }\n</style>\n<div class=\"ansiout\">auc = 0.8857251239148407\naupr = 0.7241684115655654\nArea under PR = 0.5010764347874727\nArea under ROC = 0.798374810188236\nAccuracy = 0.773423840378484\nDenseMatrix([[ 5508.,  1840.],\n             [  363.,  2012.]])\nF1 = 0.833345941447916\nPrecision = 0.9381706693919264\nRecall = 0.7495917256396298\nFPR for label 0 = 0.1528421052631579\nFPR for label 1  =0.25040827436037016\nTPR for label 0 = 0.7495917256396298\nTPR for label 1 =0.8471578947368421\n</div>"
      ]
     },
     "metadata": {},
     "output_type": "display_data"
    }
   ],
   "source": [
    "print_performance_metrics(lrCvPredictions)"
   ]
  },
  {
   "cell_type": "markdown",
   "metadata": {},
   "source": [
    "####GBM - CV Model Evaluate"
   ]
  },
  {
   "cell_type": "code",
   "execution_count": 79,
   "metadata": {},
   "outputs": [
    {
     "data": {
      "text/html": [
       "<style scoped>\n  .ansiout {\n    display: block;\n    unicode-bidi: embed;\n    white-space: pre-wrap;\n    word-wrap: break-word;\n    word-break: break-all;\n    font-family: \"Source Code Pro\", \"Menlo\", monospace;;\n    font-size: 13px;\n    color: #555;\n    margin-left: 4px;\n    line-height: 19px;\n  }\n</style>\n<div class=\"ansiout\">auc = 0.9067562960204002\naupr = 0.775655392085475\nArea under PR = 0.6606240387899658\nArea under ROC = 0.7518076669627253\nAccuracy = 0.8529260516301553\nDenseMatrix([[ 6977.,   371.],\n             [ 1059.,  1316.]])\nF1 = 0.907046281851274\nPrecision = 0.868218018914883\nRecall = 0.9495100707675558\nFPR for label 0 = 0.4458947368421053\nFPR for label 1  =0.050489929232444206\nTPR for label 0 = 0.9495100707675558\nTPR for label 1 =0.5541052631578948\n</div>"
      ]
     },
     "metadata": {},
     "output_type": "display_data"
    }
   ],
   "source": [
    "print_performance_metrics(gbCvPredictions)"
   ]
  },
  {
   "cell_type": "markdown",
   "metadata": {},
   "source": [
    "####Logistic Regression - Model Explore"
   ]
  },
  {
   "cell_type": "code",
   "execution_count": 81,
   "metadata": {},
   "outputs": [
    {
     "data": {
      "text/html": [
       "<style scoped>\n  .ansiout {\n    display: block;\n    unicode-bidi: embed;\n    white-space: pre-wrap;\n    word-wrap: break-word;\n    word-break: break-all;\n    font-family: \"Source Code Pro\", \"Menlo\", monospace;;\n    font-size: 13px;\n    color: #555;\n    margin-left: 4px;\n    line-height: 19px;\n  }\n</style>\n<div class=\"ansiout\">Model Intercept:  -1.247913441799743\n</div>"
      ]
     },
     "metadata": {},
     "output_type": "display_data"
    }
   ],
   "source": [
    "print('Model Intercept: ', lrCvModel.bestModel.intercept)"
   ]
  },
  {
   "cell_type": "code",
   "execution_count": 82,
   "metadata": {},
   "outputs": [
    {
     "data": {
      "text/html": [
       "<style scoped>\n  .table-result-container {\n    max-height: 300px;\n    overflow: auto;\n  }\n  table, th, td {\n    border: 1px solid black;\n    border-collapse: collapse;\n  }\n  th, td {\n    padding: 5px;\n  }\n  th {\n    text-align: left;\n  }\n</style><div class='table-result-container'><table class='table-result'><thead style='background-color: white'><tr><th>Feature Weight</th></tr></thead><tbody><tr><td>-0.22413336981436774</td></tr><tr><td>-0.3455553822296018</td></tr><tr><td>-0.13203533849479424</td></tr><tr><td>-0.4680986801474529</td></tr><tr><td>-0.24553588692884637</td></tr><tr><td>0.43228384563178</td></tr><tr><td>0.4075811047761166</td></tr><tr><td>-1.159748876366615</td></tr><tr><td>-0.4380095204656964</td></tr><tr><td>-0.19291567917419333</td></tr></tbody></table></div>"
      ]
     },
     "metadata": {},
     "output_type": "display_data"
    }
   ],
   "source": [
    "lrWeights = lrCvModel.bestModel.coefficients\nlrWeights = [(float(w),) for w in lrWeights]  # convert numpy type to float, and to tuple\nlrWeightsDF = sqlContext.createDataFrame(lrWeights, [\"Feature Weight\"])\ndisplay(lrWeightsDF.head(10))"
   ]
  },
  {
   "cell_type": "markdown",
   "metadata": {},
   "source": [
    "### Feature Importance"
   ]
  },
  {
   "cell_type": "markdown",
   "metadata": {},
   "source": [
    "####<span style=\"color:darkblue\">Question 8</span>\n1. Print out a table of feature_name and feature_coefficient from the Logistic Regression model.\n<br><br>\nHint: Adapt the code from here: https://stackoverflow.com/questions/42935914/how-to-map-features-from-the-output-of-a-vectorassembler-back-to-the-column-name"
   ]
  },
  {
   "cell_type": "code",
   "execution_count": 85,
   "metadata": {},
   "outputs": [
    {
     "data": {
      "text/html": [
       "<style scoped>\n  .table-result-container {\n    max-height: 300px;\n    overflow: auto;\n  }\n  table, th, td {\n    border: 1px solid black;\n    border-collapse: collapse;\n  }\n  th, td {\n    padding: 5px;\n  }\n  th {\n    text-align: left;\n  }\n</style><div class='table-result-container'><table class='table-result'><thead style='background-color: white'><tr><th>feature_name</th><th>feature_importance</th></tr></thead><tbody><tr><td>educationclassVec_ Doctorate</td><td>1.2251375510421643</td></tr><tr><td>educationclassVec_ Prof-school</td><td>1.2097502743922959</td></tr><tr><td>educationclassVec_ Masters</td><td>0.8010313520657025</td></tr><tr><td>relationshipclassVec_ Wife</td><td>0.7589803243394615</td></tr><tr><td>occupationclassVec_ Exec-managerial</td><td>0.6645505603678841</td></tr><tr><td>marital_statusclassVec_ Married-civ-spouse</td><td>0.643512484716488</td></tr><tr><td>relationshipclassVec_ Husband</td><td>0.5382320714706103</td></tr><tr><td>educationclassVec_ Bachelors</td><td>0.44057901085127404</td></tr><tr><td>workclassclassVec_ Self-emp-inc</td><td>0.43228384563178</td></tr><tr><td>occupationclassVec_ Prof-specialty</td><td>0.4096262092779579</td></tr></tbody></table></div>"
      ]
     },
     "metadata": {},
     "output_type": "display_data"
    }
   ],
   "source": [
    "### Question 8.1 Answer ###\n\nfrom itertools import chain\n\ntransformed = lrCvModel.bestModel.transform(trainingData)\n\nattrs = sorted((attr[\"idx\"], attr[\"name\"]) for attr in (chain(*transformed.schema[\"features\"].metadata[\"ml_attr\"][\"attrs\"].values())))\n\n\nlrCvFeatureImportance = pd.DataFrame([(name, lrCvModel.bestModel.coefficients[idx]) for idx, name in attrs],columns=['feature_name','feature_importance'])\n\ndisplay(lrCvFeatureImportance.sort_values(by=['feature_importance'],ascending =False).head(10))"
   ]
  },
  {
   "cell_type": "code",
   "execution_count": 86,
   "metadata": {},
   "outputs": [
    {
     "data": {
      "text/html": [
       "<style scoped>\n  .ansiout {\n    display: block;\n    unicode-bidi: embed;\n    white-space: pre-wrap;\n    word-wrap: break-word;\n    word-break: break-all;\n    font-family: \"Source Code Pro\", \"Menlo\", monospace;;\n    font-size: 13px;\n    color: #555;\n    margin-left: 4px;\n    line-height: 19px;\n  }\n</style>\n<div class=\"ansiout\">                                  feature_name  feature_importance\n94                                         age            0.226935\n23  marital_statusclassVec_ Married-civ-spouse            0.136653\n99                              hours_per_week            0.107615\n96                               education_num            0.100329\n97                                capital_gain            0.091203\n98                                capital_loss            0.083031\n31         occupationclassVec_ Exec-managerial            0.045881\n47                  relationshipclassVec_ Wife            0.025974\n29          occupationclassVec_ Prof-specialty            0.020964\n1          workclassclassVec_ Self-emp-not-inc            0.018038\n</div>"
      ]
     },
     "metadata": {},
     "output_type": "display_data"
    }
   ],
   "source": [
    "gbCvFeatureImportance = pd.DataFrame([(name, gbCvModel.bestModel.featureImportances[idx]) for idx, name in attrs],columns=['feature_name','feature_importance'])\n\nprint(gbCvFeatureImportance.sort_values(by=['feature_importance'],ascending =False).head(10))"
   ]
  },
  {
   "cell_type": "markdown",
   "metadata": {},
   "source": [
    "####<span style=\"color:darkblue\">Question 9</span>\n1. Build and train a RandomForestClassifier and print out a table of feature importances from it."
   ]
  },
  {
   "cell_type": "code",
   "execution_count": 88,
   "metadata": {},
   "outputs": [
    {
     "data": {
      "text/html": [
       "<style scoped>\n  .table-result-container {\n    max-height: 300px;\n    overflow: auto;\n  }\n  table, th, td {\n    border: 1px solid black;\n    border-collapse: collapse;\n  }\n  th, td {\n    padding: 5px;\n  }\n  th {\n    text-align: left;\n  }\n</style><div class='table-result-container'><table class='table-result'><thead style='background-color: white'><tr><th>feature_name</th><th>feature_importance</th></tr></thead><tbody><tr><td>marital_statusclassVec_ Married-civ-spouse</td><td>0.2652596006138045</td></tr><tr><td>relationshipclassVec_ Husband</td><td>0.1602366167854705</td></tr><tr><td>education_num</td><td>0.15247530219607236</td></tr><tr><td>capital_gain</td><td>0.07765525065356259</td></tr><tr><td>marital_statusclassVec_ Never-married</td><td>0.0609875986923875</td></tr><tr><td>sexclassVec_ Male</td><td>0.03455000518025296</td></tr><tr><td>occupationclassVec_ Exec-managerial</td><td>0.03289728896420619</td></tr><tr><td>relationshipclassVec_ Not-in-family</td><td>0.0298075803403403</td></tr><tr><td>hours_per_week</td><td>0.02672546127243398</td></tr><tr><td>occupationclassVec_ Prof-specialty</td><td>0.025700295205730004</td></tr></tbody></table></div>"
      ]
     },
     "metadata": {},
     "output_type": "display_data"
    }
   ],
   "source": [
    "### Question 9.1 Answer ###\n\nfrom pyspark.ml.classification import RandomForestClassifier\n\nrf = RandomForestClassifier(labelCol=\"label\", featuresCol=\"features\", numTrees=10)\n\nrfModel = rf.fit(trainingData)\n\ntransformed = rfModel.transform(trainingData)\n\nattrs = sorted((attr[\"idx\"], attr[\"name\"]) for attr in (chain(*transformed.schema[\"features\"].metadata[\"ml_attr\"][\"attrs\"].values())))\n\nrfFeatureImportance = pd.DataFrame([(name, rfModel.featureImportances[idx]) for idx, name in attrs],columns=['feature_name','feature_importance'])\n\ndisplay(rfFeatureImportance.sort_values(by=['feature_importance'],ascending =False).head(10))\n\n"
   ]
  }
 ],
 "metadata": {
  "name": "Spark DF, SQL, ML Exercise",
  "notebookId": 2203358754353967
 },
 "nbformat": 4,
 "nbformat_minor": 0
}
