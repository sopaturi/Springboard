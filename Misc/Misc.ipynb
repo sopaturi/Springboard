{
 "cells": [
  {
   "cell_type": "code",
   "execution_count": 32,
   "metadata": {},
   "outputs": [
    {
     "data": {
      "text/plain": [
       "['paper', 'paper']"
      ]
     },
     "execution_count": 32,
     "metadata": {},
     "output_type": "execute_result"
    }
   ],
   "source": [
    "def splitter(string, delim):\n",
    "    if len(delim)<len(string):\n",
    "        word=''\n",
    "        lister=[]\n",
    "        i=0\n",
    "        while i < (len(string)):\n",
    "                    if (string[i:(i+len(delim))]) == delim:\n",
    "                        lister.append(word)\n",
    "                        word=''\n",
    "                        i=i+len(delim)\n",
    "                        continue\n",
    "                    word=word+string[i] \n",
    "                                          \n",
    "                    i=i+1                       \n",
    "        lister.append(word)\n",
    "        lister=[x for x in lister if len(x)>=1]\n",
    "        return lister\n",
    "        \n",
    "string='lollolpaperlolpaperlol'\n",
    "delim='lol'\n",
    "splitter(string, delim)"
   ]
  },
  {
   "cell_type": "code",
   "execution_count": 39,
   "metadata": {},
   "outputs": [
    {
     "name": "stdout",
     "output_type": "stream",
     "text": [
      "1\n",
      "2\n",
      "fizz\n",
      "4\n",
      "buzz\n",
      "fizz\n",
      "7\n",
      "8\n",
      "fizz\n",
      "buzz\n",
      "11\n",
      "fizz\n",
      "13\n",
      "14\n",
      "fizzbuzz\n",
      "16\n",
      "17\n",
      "fizz\n",
      "19\n",
      "buzz\n",
      "fizz\n",
      "22\n",
      "23\n",
      "fizz\n",
      "buzz\n",
      "26\n",
      "fizz\n",
      "28\n",
      "29\n",
      "fizzbuzz\n"
     ]
    }
   ],
   "source": [
    "n=30\n",
    "\n",
    "for i in range(1,n+1): \n",
    "     if i%3!=0 and i%5!=0:\n",
    "            print(i)\n",
    "     if (i%3==0) & (i%5!=0):\n",
    "            print('fizz')\n",
    "     if (i%5==0) & (i%3!=0):\n",
    "            print('buzz')\n",
    "     if (i%3==0) & (i%5==0):\n",
    "            print('fizzbuzz')"
   ]
  },
  {
   "cell_type": "code",
   "execution_count": 102,
   "metadata": {},
   "outputs": [
    {
     "name": "stdout",
     "output_type": "stream",
     "text": [
      "[0, 1]\n"
     ]
    },
    {
     "data": {
      "text/plain": [
       "[2, 3, 4]"
      ]
     },
     "execution_count": 102,
     "metadata": {},
     "output_type": "execute_result"
    }
   ],
   "source": [
    "nums = [2, 3, 6, 4, 7, 11, 15]\n",
    "target=5\n",
    "i=0\n",
    "j=1\n",
    "k=1\n",
    "sums=[]\n",
    "answers=[]\n",
    "nums=[x for x in nums if x<target]\n",
    "while (i < len(nums)) & (j<len(nums)):\n",
    "    sum=nums[i]+nums[j]\n",
    "    sums.append([nums[i], nums[j]])\n",
    "    j=j+1\n",
    "    if (j==len(nums)):\n",
    "        j=1+k\n",
    "        i=i+1\n",
    "summer=0\n",
    "for i in sums:\n",
    "        summer=summer+i[0]+i[1]\n",
    "        if summer==target:\n",
    "            answer=(i)\n",
    "        else:\n",
    "            summer=0\n",
    "for i in answer:\n",
    "    answers.append((nums.index(i)))\n",
    "print(answers)\n",
    "nums"
   ]
  },
  {
   "cell_type": "code",
   "execution_count": 98,
   "metadata": {},
   "outputs": [
    {
     "data": {
      "text/plain": [
       "7"
      ]
     },
     "execution_count": 98,
     "metadata": {},
     "output_type": "execute_result"
    }
   ],
   "source": [
    "i"
   ]
  },
  {
   "cell_type": "code",
   "execution_count": null,
   "metadata": {},
   "outputs": [],
   "source": []
  }
 ],
 "metadata": {
  "kernelspec": {
   "display_name": "Python 3",
   "language": "python",
   "name": "python3"
  },
  "language_info": {
   "codemirror_mode": {
    "name": "ipython",
    "version": 3
   },
   "file_extension": ".py",
   "mimetype": "text/x-python",
   "name": "python",
   "nbconvert_exporter": "python",
   "pygments_lexer": "ipython3",
   "version": "3.6.5"
  }
 },
 "nbformat": 4,
 "nbformat_minor": 2
}
