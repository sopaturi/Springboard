{
 "cells": [
  {
   "cell_type": "code",
   "execution_count": 33,
   "metadata": {
    "scrolled": true
   },
   "outputs": [
    {
     "name": "stdout",
     "output_type": "stream",
     "text": [
      "Requirement already satisfied: MySQL-connector-python in /Users/sooryapaturi/anaconda3/lib/python3.6/site-packages (8.0.12)\n",
      "Requirement already satisfied: protobuf>=3.0.0 in /Users/sooryapaturi/anaconda3/lib/python3.6/site-packages (from MySQL-connector-python) (3.6.0)\n",
      "Requirement already satisfied: setuptools in /Users/sooryapaturi/anaconda3/lib/python3.6/site-packages (from protobuf>=3.0.0->MySQL-connector-python) (39.1.0)\n",
      "Requirement already satisfied: six>=1.9 in /Users/sooryapaturi/anaconda3/lib/python3.6/site-packages (from protobuf>=3.0.0->MySQL-connector-python) (1.11.0)\n",
      "\u001b[31mdistributed 1.21.8 requires msgpack, which is not installed.\u001b[0m\n",
      "\u001b[33mYou are using pip version 10.0.1, however version 18.0 is available.\n",
      "You should consider upgrading via the 'pip install --upgrade pip' command.\u001b[0m\n"
     ]
    }
   ],
   "source": [
    " !pip install MySQL-connector-python"
   ]
  },
  {
   "cell_type": "markdown",
   "metadata": {},
   "source": [
    "Q1: Some of the facilities charge a fee to members, but some do not.\n",
    "Please list the names of the facilities that do."
   ]
  },
  {
   "cell_type": "code",
   "execution_count": 8,
   "metadata": {},
   "outputs": [
    {
     "name": "stdout",
     "output_type": "stream",
     "text": [
      "Tennis Court 1\n",
      "Tennis Court 2\n",
      "Massage Room 1\n",
      "Massage Room 2\n",
      "Squash Court\n"
     ]
    }
   ],
   "source": [
    "from passwords import password, database\n",
    "import mysql.connector\n",
    "db = mysql.connector.connect(password=password, database=database, user='root',\n",
    "                              host='localhost'\n",
    "                              )\n",
    "\n",
    "cur = db.cursor()\n",
    "\n",
    "\n",
    "cur.execute('''SELECT name\n",
    "FROM  `Facilities` \n",
    "WHERE membercost != 0.0\n",
    "LIMIT 0 , 30''')\n",
    "\n",
    "for i in cur:\n",
    "    for j in i:\n",
    "        print(j)\n",
    "       \n"
   ]
  },
  {
   "cell_type": "markdown",
   "metadata": {},
   "source": [
    "Q2: How many facilities do not charge a fee to members?"
   ]
  },
  {
   "cell_type": "code",
   "execution_count": 2,
   "metadata": {
    "scrolled": false
   },
   "outputs": [
    {
     "name": "stdout",
     "output_type": "stream",
     "text": [
      "4\n"
     ]
    }
   ],
   "source": [
    "cur.execute('''SELECT COUNT( name ) \n",
    "FROM  `Facilities` \n",
    "WHERE membercost = 0.0''')\n",
    "\n",
    "for i in cur:\n",
    "    for j in i:\n",
    "        print(j)"
   ]
  },
  {
   "cell_type": "markdown",
   "metadata": {},
   "source": [
    "Q3: How can you produce a list of facilities that charge a fee to members,\n",
    "where the fee is less than 20% of the facility's monthly maintenance cost?\n",
    "Return the facid, facility name, member cost, and monthly maintenance of the\n",
    "facilities in question. "
   ]
  },
  {
   "cell_type": "code",
   "execution_count": 25,
   "metadata": {},
   "outputs": [
    {
     "name": "stdout",
     "output_type": "stream",
     "text": [
      "['facid', 'name', 'membercost', 'monthlymaintenance']\n",
      "(0, 'Tennis Court 1', Decimal('5.0'), 200)\n",
      "(1, 'Tennis Court 2', Decimal('5.0'), 200)\n",
      "(2, 'Badminton Court', Decimal('0.0'), 50)\n",
      "(3, 'Table Tennis', Decimal('0.0'), 10)\n",
      "(4, 'Massage Room 1', Decimal('9.9'), 3000)\n",
      "(5, 'Massage Room 2', Decimal('9.9'), 3000)\n",
      "(6, 'Squash Court', Decimal('3.5'), 80)\n",
      "(7, 'Snooker Table', Decimal('0.0'), 15)\n",
      "(8, 'Pool Table', Decimal('0.0'), 15)\n"
     ]
    }
   ],
   "source": [
    "\n",
    "cur.execute('''SELECT facid, name, membercost, monthlymaintenance\n",
    "    FROM  `Facilities` \n",
    "    WHERE membercost < ( 0.2 * monthlymaintenance ) \n",
    "    LIMIT 0 , 30''')\n",
    "\n",
    "field_names = [i[0] for i in cur.description]\n",
    "print(field_names)\n",
    "for i in cur:\n",
    "    print(i)"
   ]
  },
  {
   "cell_type": "markdown",
   "metadata": {},
   "source": [
    "Q4: How can you retrieve the details of facilities with ID 1 and 5?\n",
    "Write the query without using the OR operator."
   ]
  },
  {
   "cell_type": "code",
   "execution_count": 26,
   "metadata": {},
   "outputs": [
    {
     "name": "stdout",
     "output_type": "stream",
     "text": [
      "['facid', 'name', 'membercost', 'guestcost', 'initialoutlay', 'monthlymaintenance']\n",
      "(1, 'Tennis Court 2', Decimal('5.0'), Decimal('25.0'), 8000, 200)\n",
      "(5, 'Massage Room 2', Decimal('9.9'), Decimal('80.0'), 4000, 3000)\n"
     ]
    }
   ],
   "source": [
    "cur.execute('''SELECT * \n",
    "FROM  `Facilities` \n",
    "WHERE facid\n",
    "IN ( 1, 5 ) \n",
    "LIMIT 0 , 30''')\n",
    "\n",
    "field_names = [i[0] for i in cur.description]\n",
    "print(field_names)\n",
    "for i in cur:\n",
    "    print(i)"
   ]
  },
  {
   "cell_type": "markdown",
   "metadata": {},
   "source": [
    "Q5: How can you produce a list of facilities, with each labelled as\n",
    "'cheap' or 'expensive', depending on if their monthly maintenance cost is\n",
    "more than $100? Return the name and monthly maintenance of the facilities\n",
    "in question. "
   ]
  },
  {
   "cell_type": "code",
   "execution_count": 27,
   "metadata": {},
   "outputs": [
    {
     "name": "stdout",
     "output_type": "stream",
     "text": [
      "['name', 'monthlymaintenance', 'label']\n",
      "('Tennis Court 1', 200, 'expensive')\n",
      "('Tennis Court 2', 200, 'expensive')\n",
      "('Badminton Court', 50, 'cheap')\n",
      "('Table Tennis', 10, 'cheap')\n",
      "('Massage Room 1', 3000, 'expensive')\n",
      "('Massage Room 2', 3000, 'expensive')\n",
      "('Squash Court', 80, 'cheap')\n",
      "('Snooker Table', 15, 'cheap')\n",
      "('Pool Table', 15, 'cheap')\n"
     ]
    }
   ],
   "source": [
    "cur.execute('''SELECT name, monthlymaintenance, \n",
    "CASE WHEN monthlymaintenance >100\n",
    "THEN  'expensive'\n",
    "ELSE  'cheap'\n",
    "END AS label\n",
    "FROM  `Facilities` \n",
    "WHERE 1 \n",
    "LIMIT 0 , 30''')\n",
    "\n",
    "field_names = [i[0] for i in cur.description]\n",
    "print(field_names)\n",
    "for i in cur:\n",
    "    print(i)"
   ]
  },
  {
   "cell_type": "markdown",
   "metadata": {},
   "source": [
    "Q6: You'd like to get the first and last name of the last member(s)\n",
    "who signed up. Do not use the LIMIT clause for your solution."
   ]
  },
  {
   "cell_type": "code",
   "execution_count": 28,
   "metadata": {},
   "outputs": [
    {
     "name": "stdout",
     "output_type": "stream",
     "text": [
      "['firstname', 'surname', 'joindate']\n",
      "('Darren', 'Smith', '2012-09-26 18:08:45')\n"
     ]
    }
   ],
   "source": [
    "cur.execute('''SELECT firstname, surname, joindate\n",
    "FROM  `Members` \n",
    "WHERE joindate = ( \n",
    "SELECT MAX( joindate ) \n",
    "FROM  `Members` )''')\n",
    "\n",
    "field_names = [i[0] for i in cur.description]\n",
    "print(field_names)\n",
    "for i in cur:\n",
    "    print(i)"
   ]
  },
  {
   "cell_type": "markdown",
   "metadata": {},
   "source": [
    "Q7: How can you produce a list of all members who have used a tennis court?\n",
    "Include in your output the name of the court, and the name of the member\n",
    "formatted as a single column. Ensure no duplicate data, and order by\n",
    "the member name."
   ]
  },
  {
   "cell_type": "code",
   "execution_count": 29,
   "metadata": {},
   "outputs": [
    {
     "name": "stdout",
     "output_type": "stream",
     "text": [
      "['name', 'court_name']\n",
      "('Anne Baker', 'Tennis Court 1')\n",
      "('Anne Baker', 'Tennis Court 2')\n",
      "('Burton Tracy', 'Tennis Court 2')\n",
      "('Burton Tracy', 'Tennis Court 1')\n",
      "('Charles Owen', 'Tennis Court 1')\n",
      "('Charles Owen', 'Tennis Court 2')\n",
      "('Darren Smith', 'Tennis Court 2')\n",
      "('David Farrell', 'Tennis Court 2')\n",
      "('David Farrell', 'Tennis Court 1')\n",
      "('David Jones', 'Tennis Court 1')\n",
      "('David Jones', 'Tennis Court 2')\n",
      "('David Pinker', 'Tennis Court 1')\n",
      "('Douglas Jones', 'Tennis Court 1')\n",
      "('Erica Crumpet', 'Tennis Court 1')\n",
      "('Florence Bader', 'Tennis Court 1')\n",
      "('Florence Bader', 'Tennis Court 2')\n",
      "('Gerald Butters', 'Tennis Court 2')\n",
      "('Gerald Butters', 'Tennis Court 1')\n",
      "('GUEST GUEST', 'Tennis Court 2')\n",
      "('GUEST GUEST', 'Tennis Court 1')\n",
      "('Henrietta Rumney', 'Tennis Court 2')\n",
      "('Jack Smith', 'Tennis Court 2')\n",
      "('Jack Smith', 'Tennis Court 1')\n",
      "('Janice Joplette', 'Tennis Court 2')\n",
      "('Janice Joplette', 'Tennis Court 1')\n",
      "('Jemima Farrell', 'Tennis Court 1')\n",
      "('Jemima Farrell', 'Tennis Court 2')\n",
      "('Joan Coplin', 'Tennis Court 1')\n",
      "('John Hunt', 'Tennis Court 1')\n",
      "('John Hunt', 'Tennis Court 2')\n",
      "('Matthew Genting', 'Tennis Court 1')\n",
      "('Millicent Purview', 'Tennis Court 2')\n",
      "('Nancy Dare', 'Tennis Court 2')\n",
      "('Nancy Dare', 'Tennis Court 1')\n",
      "('Ponder Stibbons', 'Tennis Court 2')\n",
      "('Ponder Stibbons', 'Tennis Court 1')\n",
      "('Ramnaresh Sarwin', 'Tennis Court 1')\n",
      "('Ramnaresh Sarwin', 'Tennis Court 2')\n",
      "('Tim Boothe', 'Tennis Court 1')\n",
      "('Tim Boothe', 'Tennis Court 2')\n",
      "('Tim Rownam', 'Tennis Court 2')\n",
      "('Tim Rownam', 'Tennis Court 1')\n",
      "('Timothy Baker', 'Tennis Court 2')\n",
      "('Timothy Baker', 'Tennis Court 1')\n",
      "('Tracy Smith', 'Tennis Court 1')\n",
      "('Tracy Smith', 'Tennis Court 2')\n"
     ]
    }
   ],
   "source": [
    "cur.execute('''SELECT DISTINCT (\n",
    "CONCAT( firstname,  ' ', surname )\n",
    ") AS name, \n",
    "CASE WHEN facid =0\n",
    "THEN  'Tennis Court 1'\n",
    "WHEN facid =1\n",
    "THEN  'Tennis Court 2'\n",
    "END AS court_name\n",
    "FROM  `Members` member\n",
    "INNER JOIN  `Bookings` booking ON booking.memid = member.memid\n",
    "WHERE facid\n",
    "IN ( 0, 1 ) \n",
    "ORDER BY name''')\n",
    "\n",
    "field_names = [i[0] for i in cur.description]\n",
    "print(field_names)\n",
    "for i in cur:\n",
    "    print(i)"
   ]
  },
  {
   "cell_type": "markdown",
   "metadata": {},
   "source": [
    "Q8: How can you produce a list of bookings on the day of 2012-09-14 which\n",
    "will cost the member (or guest) more than $30? Remember that guests have\n",
    "different costs to members (the listed costs are per half-hour 'slot'), and\n",
    "the guest user's ID is always 0. Include in your output the name of the\n",
    "facility, the name of the member formatted as a single column, and the cost.\n",
    "Order by descending cost, and do not use any subqueries."
   ]
  },
  {
   "cell_type": "code",
   "execution_count": 30,
   "metadata": {},
   "outputs": [
    {
     "name": "stdout",
     "output_type": "stream",
     "text": [
      "['full_name', 'name', 'total_cost']\n",
      "('GUEST GUEST', 'Massage Room 2', Decimal('320.0'))\n",
      "('GUEST GUEST', 'Massage Room 1', Decimal('160.0'))\n",
      "('GUEST GUEST', 'Massage Room 1', Decimal('160.0'))\n",
      "('GUEST GUEST', 'Massage Room 1', Decimal('160.0'))\n",
      "('GUEST GUEST', 'Tennis Court 2', Decimal('150.0'))\n",
      "('GUEST GUEST', 'Tennis Court 1', Decimal('75.0'))\n",
      "('GUEST GUEST', 'Tennis Court 1', Decimal('75.0'))\n",
      "('GUEST GUEST', 'Tennis Court 2', Decimal('75.0'))\n",
      "('GUEST GUEST', 'Squash Court', Decimal('70.0'))\n",
      "('Jemima Farrell', 'Massage Room 1', Decimal('39.6'))\n",
      "('GUEST GUEST', 'Squash Court', Decimal('35.0'))\n",
      "('GUEST GUEST', 'Squash Court', Decimal('35.0'))\n"
     ]
    }
   ],
   "source": [
    "cur.execute('''SELECT CONCAT( firstname,  ' ', surname ) AS full_name, name, \n",
    "CASE WHEN firstname =  'GUEST'\n",
    "THEN guestcost * slots\n",
    "ELSE membercost * slots\n",
    "END AS total_cost\n",
    "FROM  `Bookings` booking\n",
    "INNER JOIN  `Facilities` facility ON booking.facid = facility.facid\n",
    "INNER JOIN  `Members` member ON booking.memid = member.memid\n",
    "WHERE (\n",
    "starttime LIKE  '%2012-09-14%'\n",
    ")\n",
    "AND (\n",
    "(\n",
    "firstname =  'GUEST'\n",
    "AND guestcost * slots >30\n",
    ")\n",
    "OR (\n",
    "firstname !=  'GUEST'\n",
    "AND membercost * slots >30\n",
    ")\n",
    ")\n",
    "ORDER BY total_cost DESC''')\n",
    "\n",
    "field_names = [i[0] for i in cur.description]\n",
    "print(field_names)\n",
    "for i in cur:\n",
    "    print(i)"
   ]
  },
  {
   "cell_type": "markdown",
   "metadata": {},
   "source": [
    "Q9: This time, produce the same result as in Q8, but using a subquery."
   ]
  },
  {
   "cell_type": "code",
   "execution_count": 31,
   "metadata": {},
   "outputs": [
    {
     "name": "stdout",
     "output_type": "stream",
     "text": [
      "['full_name', 'name', 'total_cost']\n",
      "('GUEST GUEST', 'Massage Room 2', Decimal('320.0'))\n",
      "('GUEST GUEST', 'Massage Room 1', Decimal('160.0'))\n",
      "('GUEST GUEST', 'Massage Room 1', Decimal('160.0'))\n",
      "('GUEST GUEST', 'Massage Room 1', Decimal('160.0'))\n",
      "('GUEST GUEST', 'Tennis Court 2', Decimal('150.0'))\n",
      "('GUEST GUEST', 'Tennis Court 1', Decimal('75.0'))\n",
      "('GUEST GUEST', 'Tennis Court 1', Decimal('75.0'))\n",
      "('GUEST GUEST', 'Tennis Court 2', Decimal('75.0'))\n",
      "('GUEST GUEST', 'Squash Court', Decimal('70.0'))\n",
      "('Jemima Farrell', 'Massage Room 1', Decimal('39.6'))\n",
      "('GUEST GUEST', 'Squash Court', Decimal('35.0'))\n",
      "('GUEST GUEST', 'Squash Court', Decimal('35.0'))\n"
     ]
    }
   ],
   "source": [
    "cur.execute('''SELECT * \n",
    "FROM (\n",
    "\n",
    "SELECT CONCAT( firstname,  ' ', surname ) AS full_name, name, \n",
    "CASE WHEN firstname =  'GUEST'\n",
    "THEN guestcost * slots\n",
    "ELSE membercost * slots\n",
    "END AS total_cost\n",
    "FROM  `Bookings` booking\n",
    "INNER JOIN  `Facilities` facility ON booking.facid = facility.facid\n",
    "INNER JOIN  `Members` member ON booking.memid = member.memid\n",
    "WHERE (\n",
    "starttime\n",
    "IN (\n",
    "\n",
    "SELECT starttime\n",
    "FROM  `Bookings` \n",
    "WHERE starttime LIKE  '%2012-09-14%'\n",
    ")\n",
    ")\n",
    "AND (\n",
    "(\n",
    "firstname\n",
    "IN (\n",
    "\n",
    "SELECT firstname\n",
    "FROM  `Members` \n",
    "WHERE firstname =  'GUEST'\n",
    "AND guestcost * slots >30\n",
    ")\n",
    ")\n",
    "OR (\n",
    "firstname\n",
    "IN (\n",
    "\n",
    "SELECT firstname\n",
    "FROM  `Members` \n",
    "WHERE firstname !=  'GUEST'\n",
    "AND membercost * slots >30\n",
    ")\n",
    ")\n",
    ")\n",
    "ORDER BY total_cost DESC\n",
    ")t''')\n",
    "print(field_names)\n",
    "for i in cur:\n",
    "    print(i)"
   ]
  },
  {
   "cell_type": "markdown",
   "metadata": {},
   "source": [
    "Q10: Produce a list of facilities with a total revenue less than 1000.\n",
    "The output of facility name and total revenue, sorted by revenue. Remember\n",
    "that there's a different cost for guests and members!"
   ]
  },
  {
   "cell_type": "code",
   "execution_count": 32,
   "metadata": {},
   "outputs": [
    {
     "name": "stdout",
     "output_type": "stream",
     "text": [
      "['full_name', 'name', 'total_cost']\n",
      "('Pool Table', Decimal('270.0'))\n",
      "('Snooker Table', Decimal('240.0'))\n",
      "('Table Tennis', Decimal('180.0'))\n"
     ]
    }
   ],
   "source": [
    "cur.execute('''SELECT * \n",
    "FROM (\n",
    "\n",
    "SELECT name, SUM( \n",
    "CASE WHEN memid !=0\n",
    "THEN membercost * slots\n",
    "WHEN memid =0\n",
    "THEN guestcost * slots\n",
    "END ) AS revenue\n",
    "FROM  `Facilities` facility\n",
    "JOIN  `Bookings` booking ON facility.facid = booking.facid\n",
    "GROUP BY name\n",
    "ORDER BY revenue DESC\n",
    ")t\n",
    "WHERE revenue <1000''')\n",
    "\n",
    "print(field_names)\n",
    "for i in cur:\n",
    "    print(i)\n"
   ]
  },
  {
   "cell_type": "code",
   "execution_count": null,
   "metadata": {},
   "outputs": [],
   "source": []
  }
 ],
 "metadata": {
  "kernelspec": {
   "display_name": "Python 3",
   "language": "python",
   "name": "python3"
  },
  "language_info": {
   "codemirror_mode": {
    "name": "ipython",
    "version": 3
   },
   "file_extension": ".py",
   "mimetype": "text/x-python",
   "name": "python",
   "nbconvert_exporter": "python",
   "pygments_lexer": "ipython3",
   "version": "3.6.5"
  }
 },
 "nbformat": 4,
 "nbformat_minor": 2
}
