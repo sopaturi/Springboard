{
 "cells": [
  {
   "cell_type": "markdown",
   "metadata": {},
   "source": [
    "## Overview\n",
    "\n",
    "   This notebook will introduce the prediction problem that will be answered.  In addition, hypotheses will be made in order to aid in solving the problem as well as to start brewing insights on how to solve the problem.  The importance of solving the problem and how a company can use the resulting information will be looked at.  Finally, the data wrangling process will be conducted in order to clean the data set for future analysis. \n",
    "   \n",
    "   \n",
    "## Predicting the Likelihood of Acceptance for an H1B-LCA application\n",
    " \n",
    "An H1B visa is a non-immigrant visa that allows foreign born workers to enter the United States and work temporarily for up to three years with a possibility of extension for up to 6 years.  In order for a worker to receive an H1B visa, an employer must offer them a position and then submit an H1B visa application with the Department of Immigration.  H1B visas are commonly applied to by international students are who are looking to work after completing their education in the United States.\n",
    "\n",
    "A preliminary step before an H1B application can be filed is the submission of the LCA (Labor Condition Application) to the Department of Labor.  The LCA contains information about the job title being offered, duration of the job, whether job is full time, rate of pay, location of the job, and the prevailing wage in the area.  The purpose of the LCA is to bind the employer to agree to pay a fair wage and provide benefits to a foreign born worker that are equal to the prevailing wage and benefits at that occupation’s location.  In addition, the employer should provide the same working conditions to H1B applicants as other workers under the LCA application.  \n",
    "\n",
    "The data set contains one year worth of data from fiscal year 2017 and approximately 625,000 records of H1B-LCA application results.  I want to prevent employers from having their LCA application denied by identifying and communicating to the employer what the employment characteristics are for a high acceptance rate and low acceptance rate.  If the reason an application is denied is mainly due to the fields defined by the employer such as wage offered or worksite location, the employer will know what to change in their application in order to be certified.  The reason for H1B-LCA denial cannot be due to the employee because the application does not contain any information about the employee, only the employer.  In addition, I will be able to predict whether an employer’s prospective employee will have the LCA approved so that the employer can focus their time on changing characteristics about the job offered or the company so that an H1B-LCA is approved. \n",
    "\n",
    "My client is any company that wishes to hire a foreign born worker.  The client should care about H1B-LCA outcomes because they do not want to spend time filing and looking for candidates that will eventually not be certified with a successful H1B LCA application.  Based on my analysis, the employer will be able to find workers that are likely to be H1B-LCA certified by changing characterisitcs about the job offered to characteristics that have a high H1B-LCA certification rate.  \n",
    "\n",
    "Initial hypotheses for a H1B-LCA application denial include the employer name, the job title, whether the job is part time or not, the difference between the prevailing wage and the wage offered by the employer, whether the employer is H1-B dependent, whether the employer is a willful violator,  and whether the employer agreed to the labor condition agreement subsection on the application.  A large difference between prevailing wage and wage offered means the employer is not giving a fair wage which could cause the application to be denied.  An employer having too many H1-B employees, being a willful violator, or not agreeing to the labor condition agreement are all signs for an application possibly recieving a denied status. \n",
    "\n",
    "## Data Wrangling\n",
    "\n",
    "   The first step to examining the data involves data wrangling or the process of converting the data into a more valuable format that can be used for analysis.  The current data set was obtained from, https://www.foreignlaborcert.doleta.gov/performancedata.cfm.  The data set contains H1B-LCA application data from the 2017 fiscal year.  \n",
    "   \n",
    "   The data wrangling for this data set can be split into and defined by these four steps: deletion of unecessary columns, modification of rows that contain missing values, modification of rows with incorrect characters that do not represent the field correctly, and checking for outlier values."
   ]
  },
  {
   "cell_type": "markdown",
   "metadata": {},
   "source": [
    "First, the data set needs to be uploaded into a pandas dataframe so that data wrangling can start.  In order for pandas to read the .xslx file, the file was converted to a csv file and encoded to utf-8.  "
   ]
  },
  {
   "cell_type": "code",
   "execution_count": 1,
   "metadata": {},
   "outputs": [],
   "source": [
    "from IPython.core.interactiveshell import InteractiveShell\n",
    "InteractiveShell.ast_node_interactivity = \"all\"\n",
    "\n",
    "import pandas as pd\n",
    "\n",
    "\n",
    "df = pd.read_csv('H1B1.csv', low_memory=False)"
   ]
  },
  {
   "cell_type": "markdown",
   "metadata": {},
   "source": [
    "Every column of the dataframe is shown below without hiding columns so that every column can be seen."
   ]
  },
  {
   "cell_type": "code",
   "execution_count": 2,
   "metadata": {},
   "outputs": [
    {
     "name": "stdout",
     "output_type": "stream",
     "text": [
      "          CASE_NUMBER          CASE_STATUS CASE_SUBMITTED DECISION_DATE  \\\n",
      "0  I-200-16055-173457  CERTIFIED-WITHDRAWN      2/24/2016     10/1/2016   \n",
      "1  I-200-16064-557834  CERTIFIED-WITHDRAWN       3/4/2016     10/1/2016   \n",
      "\n",
      "  VISA_CLASS EMPLOYMENT_START_DATE EMPLOYMENT_END_DATE  \\\n",
      "0       H-1B             8/10/2016           8/10/2019   \n",
      "1       H-1B             8/16/2016           8/16/2019   \n",
      "\n",
      "            EMPLOYER_NAME EMPLOYER_BUSINESS_DBA     EMPLOYER_ADDRESS  \\\n",
      "0  DISCOVER PRODUCTS INC.                   NaN  2500 LAKE COOK ROAD   \n",
      "1        DFS SERVICES LLC                   NaN  2500 LAKE COOK ROAD   \n",
      "\n",
      "  EMPLOYER_CITY EMPLOYER_STATE EMPLOYER_POSTAL_CODE          EMPLOYER_COUNTRY  \\\n",
      "0    RIVERWOODS             IL                60015  UNITED STATES OF AMERICA   \n",
      "1    RIVERWOODS             IL                60015  UNITED STATES OF AMERICA   \n",
      "\n",
      "  EMPLOYER_PROVINCE EMPLOYER_PHONE EMPLOYER_PHONE_EXT  \\\n",
      "0               NaN     2244050900                NaN   \n",
      "1               NaN     2244050900                NaN   \n",
      "\n",
      "  AGENT_REPRESENTING_EMPLOYER AGENT_ATTORNEY_NAME AGENT_ATTORNEY_CITY  \\\n",
      "0                           Y     ELLSWORTH, CHAD            NEW YORK   \n",
      "1                           Y     ELLSWORTH, CHAD            NEW YORK   \n",
      "\n",
      "  AGENT_ATTORNEY_STATE                   JOB_TITLE SOC_CODE  \\\n",
      "0                   NY  ASSOCIATE DATA INTEGRATION  15-1121   \n",
      "1                   NY            SENIOR ASSOCIATE  15-2031   \n",
      "\n",
      "                       SOC_NAME NAICS_CODE  TOTAL_WORKERS  NEW_EMPLOYMENT  \\\n",
      "0     COMPUTER SYSTEMS ANALYSTS     522210              1               1   \n",
      "1  OPERATIONS RESEARCH ANALYSTS     522210              1               1   \n",
      "\n",
      "   CONTINUED_EMPLOYMENT  CHANGE_PREVIOUS_EMPLOYMENT  \\\n",
      "0                     0                           0   \n",
      "1                     0                           0   \n",
      "\n",
      "   NEW_CONCURRENT_EMPLOYMENT  CHANGE_EMPLOYER  AMENDED_PETITION  \\\n",
      "0                          0                0                 0   \n",
      "1                          0                0                 0   \n",
      "\n",
      "  FULL_TIME_POSITION PREVAILING_WAGE PW_UNIT_OF_PAY PW_WAGE_LEVEL PW_SOURCE  \\\n",
      "0                  Y       59,197.00           Year       Level I       OES   \n",
      "1                  Y       49,800.00           Year           NaN     Other   \n",
      "\n",
      "   PW_SOURCE_YEAR                                    PW_SOURCE_OTHER  \\\n",
      "0          2015.0                            OFLC ONLINE DATA CENTER   \n",
      "1          2015.0  TOWERS WATSON DATA SERVICES 2015 CSR PROFESSIO...   \n",
      "\n",
      "  WAGE_RATE_OF_PAY_FROM WAGE_RATE_OF_PAY_TO WAGE_UNIT_OF_PAY H1B_DEPENDENT  \\\n",
      "0             65,811.00           67,320.00             Year             N   \n",
      "1             53,000.00           57,200.00             Year             N   \n",
      "\n",
      "  WILLFUL_VIOLATOR SUPPORT_H1B LABOR_CON_AGREE  PUBLIC_DISCLOSURE_LOCATION  \\\n",
      "0                N         NaN               Y                         NaN   \n",
      "1                N         NaN               Y                         NaN   \n",
      "\n",
      "  WORKSITE_CITY WORKSITE_COUNTY WORKSITE_STATE WORKSITE_POSTAL_CODE  \\\n",
      "0    RIVERWOODS            LAKE             IL                60015   \n",
      "1    RIVERWOODS            LAKE             IL                60015   \n",
      "\n",
      "  ORIGINAL_CERT_DATE  \n",
      "0           3/1/2016  \n",
      "1           3/8/2016  \n"
     ]
    }
   ],
   "source": [
    "pd.set_option('display.max_columns', None)\n",
    "print(df.head(2))"
   ]
  },
  {
   "cell_type": "markdown",
   "metadata": {},
   "source": [
    "The unecessary columns that do not help us with exploratory data analysis or answering the overall question of predicting the likelihood of an accepted application will be removed.  A justification will be provided for each field deletion so that columns with vital information are not mistakenly taken out.  "
   ]
  },
  {
   "cell_type": "code",
   "execution_count": 3,
   "metadata": {},
   "outputs": [
    {
     "data": {
      "text/plain": [
       "Index(['CASE_NUMBER', 'CASE_STATUS', 'CASE_SUBMITTED', 'DECISION_DATE',\n",
       "       'VISA_CLASS', 'EMPLOYMENT_START_DATE', 'EMPLOYMENT_END_DATE',\n",
       "       'EMPLOYER_NAME', 'EMPLOYER_BUSINESS_DBA', 'EMPLOYER_ADDRESS',\n",
       "       'EMPLOYER_CITY', 'EMPLOYER_STATE', 'EMPLOYER_POSTAL_CODE',\n",
       "       'EMPLOYER_COUNTRY', 'EMPLOYER_PROVINCE', 'EMPLOYER_PHONE',\n",
       "       'EMPLOYER_PHONE_EXT', 'AGENT_REPRESENTING_EMPLOYER',\n",
       "       'AGENT_ATTORNEY_NAME', 'AGENT_ATTORNEY_CITY', 'AGENT_ATTORNEY_STATE',\n",
       "       'JOB_TITLE', 'SOC_CODE', 'SOC_NAME', 'NAICS_CODE', 'TOTAL_WORKERS',\n",
       "       'NEW_EMPLOYMENT', 'CONTINUED_EMPLOYMENT', 'CHANGE_PREVIOUS_EMPLOYMENT',\n",
       "       'NEW_CONCURRENT_EMPLOYMENT', 'CHANGE_EMPLOYER', 'AMENDED_PETITION',\n",
       "       'FULL_TIME_POSITION', 'PREVAILING_WAGE', 'PW_UNIT_OF_PAY',\n",
       "       'PW_WAGE_LEVEL', 'PW_SOURCE', 'PW_SOURCE_YEAR', 'PW_SOURCE_OTHER',\n",
       "       'WAGE_RATE_OF_PAY_FROM', 'WAGE_RATE_OF_PAY_TO', 'WAGE_UNIT_OF_PAY',\n",
       "       'H1B_DEPENDENT', 'WILLFUL_VIOLATOR', 'SUPPORT_H1B', 'LABOR_CON_AGREE',\n",
       "       'PUBLIC_DISCLOSURE_LOCATION', 'WORKSITE_CITY', 'WORKSITE_COUNTY',\n",
       "       'WORKSITE_STATE', 'WORKSITE_POSTAL_CODE', 'ORIGINAL_CERT_DATE'],\n",
       "      dtype='object')"
      ]
     },
     "execution_count": 3,
     "metadata": {},
     "output_type": "execute_result"
    }
   ],
   "source": [
    "df.columns\n",
    "df.drop(['CASE_NUMBER'], axis = 1, inplace = True) #The case number is an arbitrary string that does not affect application outcome\n",
    "df.drop(['DECISION_DATE'], axis = 1, inplace = True)  #The decision date is arrived at by the U.S. Department of Labor not by the applicant \n",
    "df.drop(['EMPLOYER_BUSINESS_DBA'], axis=1, inplace=True)  #The official employer is already listed, the unofficial name is unecessary\n",
    "df.drop(['EMPLOYER_PHONE'], axis=1, inplace=True) #The employer phone is not a variable that affects the application outcome\n",
    "df.drop(['EMPLOYER_PHONE_EXT'], axis=1, inplace=True) #The employer phone extension is not a variable that affects the application outcome\n",
    "df.drop(['AGENT_ATTORNEY_CITY'], axis=1, inplace=True) #The attorney's city is not of relevance to the LCA applicant\n",
    "df.drop(['AGENT_ATTORNEY_STATE'], axis=1, inplace=True) #The attorney's state is not relevant to the LCA applicant\n",
    "df.drop(['ORIGINAL_CERT_DATE'], axis=1, inplace=True) #This date is a decision made by the Department of Labor not applicant\n",
    "df.drop(['PUBLIC_DISCLOSURE_LOCATION'], axis=1, inplace=True) #Generic information that does not add any new information\n",
    "df.drop(['PW_WAGE_LEVEL'], axis=1, inplace=True) #Wage is already listed, wage level does not provide any new information\n",
    "df.drop(['PW_SOURCE_OTHER'], axis=1, inplace=True) #The source of prevailing wage is not affecting status of LCA application\n",
    "df.drop(['EMPLOYER_PROVINCE'], axis=1, inplace=True) #The province is incorrectly listed or not listed in many rows and provides no new information.\n",
    "\n"
   ]
  },
  {
   "cell_type": "markdown",
   "metadata": {},
   "source": [
    "There are 624,650 rows in the data set.  A lot of these rows contain missing values.  When all rows with any missing values are deleted, only 98,155 rows remain.  Therefore, one should be cautious before deciding to remove rows based on missing values.  A missing value can be due to two reasons, the applicant filling out the H1B-LCA application chose not to input a value or the mechanism by which the data set was created contained scraping errors that resulted in only some values being picked up.  After reviewing the Office of Foreign Labor Certification’s iCERT Visa Portal System, where the application is filled out, it is clear based on the application instructions, that all the fields in the application are discretionary, meaning the applicant did not have to enter a value if they did not want to.  Because missing values are due to the optional nature of the application, having a missing value may affect application outcome.  Removing rows with missing values may skew the data set towards accepted applications because denied applications would be filtered out by removing rows with missing values in certain columns.  Therefore no columns in the H1B-LCA application data set will have the entries for their corresponding missing values removed.  In many cases, missing values will be imputed or labeled to signify there is exists a missing value at that position.  \n"
   ]
  },
  {
   "cell_type": "markdown",
   "metadata": {},
   "source": [
    "The code below finds all the columns that have an missing value.  "
   ]
  },
  {
   "cell_type": "code",
   "execution_count": 4,
   "metadata": {},
   "outputs": [
    {
     "data": {
      "text/plain": [
       "['EMPLOYMENT_START_DATE',\n",
       " 'EMPLOYMENT_END_DATE',\n",
       " 'EMPLOYER_NAME',\n",
       " 'EMPLOYER_ADDRESS',\n",
       " 'EMPLOYER_CITY',\n",
       " 'EMPLOYER_STATE',\n",
       " 'EMPLOYER_POSTAL_CODE',\n",
       " 'EMPLOYER_COUNTRY',\n",
       " 'AGENT_REPRESENTING_EMPLOYER',\n",
       " 'JOB_TITLE',\n",
       " 'SOC_CODE',\n",
       " 'SOC_NAME',\n",
       " 'NAICS_CODE',\n",
       " 'FULL_TIME_POSITION',\n",
       " 'PREVAILING_WAGE',\n",
       " 'PW_UNIT_OF_PAY',\n",
       " 'PW_SOURCE',\n",
       " 'PW_SOURCE_YEAR',\n",
       " 'WAGE_RATE_OF_PAY_TO',\n",
       " 'WAGE_UNIT_OF_PAY',\n",
       " 'H1B_DEPENDENT',\n",
       " 'WILLFUL_VIOLATOR',\n",
       " 'SUPPORT_H1B',\n",
       " 'LABOR_CON_AGREE',\n",
       " 'WORKSITE_CITY',\n",
       " 'WORKSITE_COUNTY',\n",
       " 'WORKSITE_STATE',\n",
       " 'WORKSITE_POSTAL_CODE']"
      ]
     },
     "execution_count": 4,
     "metadata": {},
     "output_type": "execute_result"
    }
   ],
   "source": [
    "columns=df.columns[df.isna().any()].tolist()\n",
    "columns"
   ]
  },
  {
   "cell_type": "markdown",
   "metadata": {},
   "source": [
    "Before dealing with imputing a value for the missing values, the frequency of the ten most common values in a field with missing values along with the number of missing values will be computed.  This will serve to understand how many values in a field are null compared to the top values in the field.  In essence, it will be known which fields employers choose not fill in the most based on the null value count.  \n",
    "\n"
   ]
  },
  {
   "cell_type": "code",
   "execution_count": 5,
   "metadata": {},
   "outputs": [
    {
     "name": "stdout",
     "output_type": "stream",
     "text": [
      "Top values in the Employment Start Date field\n"
     ]
    },
    {
     "data": {
      "text/plain": [
       "9/1/2017     28425\n",
       "8/1/2017     12984\n",
       "9/15/2017    11067\n",
       "10/1/2017    10215\n",
       "7/1/2017      9110\n",
       "9/5/2017      8402\n",
       "9/12/2017     7238\n",
       "9/13/2017     6954\n",
       "8/15/2017     6739\n",
       "9/8/2017      6643\n",
       "9/16/2017     6568\n",
       "Name: EMPLOYMENT_START_DATE, dtype: int64"
      ]
     },
     "execution_count": 5,
     "metadata": {},
     "output_type": "execute_result"
    },
    {
     "name": "stdout",
     "output_type": "stream",
     "text": [
      "The number of null values in the employment start date column is: 29\n",
      "Top values in the Employment End Date field\n"
     ]
    },
    {
     "data": {
      "text/plain": [
       "8/31/2020    17753\n",
       "9/1/2020     13063\n",
       "7/31/2020     9137\n",
       "9/14/2020     9038\n",
       "9/15/2020     8333\n",
       "8/15/2020     7721\n",
       "9/30/2020     7432\n",
       "9/12/2020     6924\n",
       "9/5/2020      6839\n",
       "9/4/2020      6742\n",
       "6/30/2020     6556\n",
       "Name: EMPLOYMENT_END_DATE, dtype: int64"
      ]
     },
     "execution_count": 5,
     "metadata": {},
     "output_type": "execute_result"
    },
    {
     "name": "stdout",
     "output_type": "stream",
     "text": [
      "The number of null values in the employment end date column is: 30\n",
      "Top values in the Employer Name field\n"
     ]
    },
    {
     "data": {
      "text/plain": [
       "INFOSYS LIMITED                      20587\n",
       "TATA CONSULTANCY SERVICES LIMITED    13529\n",
       "CAPGEMINI AMERICA INC                 9604\n",
       "IBM INDIA PRIVATE LIMITED             8734\n",
       "TECH MAHINDRA (AMERICAS),INC.         7543\n",
       "DELOITTE CONSULTING LLP               7179\n",
       "ACCENTURE LLP                         6690\n",
       "ERNST & YOUNG U.S. LLP                6096\n",
       "WIPRO LIMITED                         5177\n",
       "GOOGLE INC.                           5074\n",
       "MICROSOFT CORPORATION                 5005\n",
       "Name: EMPLOYER_NAME, dtype: int64"
      ]
     },
     "execution_count": 5,
     "metadata": {},
     "output_type": "execute_result"
    },
    {
     "name": "stdout",
     "output_type": "stream",
     "text": [
      "The number of null values in the employmer name column is: 56\n",
      "Top values in the Employer Address field\n"
     ]
    },
    {
     "data": {
      "text/plain": [
       "6100 TENNYSON PARKWAY          20748\n",
       "9201 CORPORATE BOULEVARD       13242\n",
       "1700 MARKET STREET              9775\n",
       "333 WEST WACKER DRIVE           9714\n",
       "3039 CORNWALLIS ROAD            8816\n",
       "4965 PRESTON PARK BOULEVARD     8291\n",
       "200 PLAZA DRIVE                 6239\n",
       "2 TOWER CENTER BLVD             5820\n",
       "161 N. CLARK ST.                5760\n",
       "525 EAST BIG BEAVER ROAD        5590\n",
       "1600 AMPHITHEATRE PARKWAY       5356\n",
       "Name: EMPLOYER_ADDRESS, dtype: int64"
      ]
     },
     "execution_count": 5,
     "metadata": {},
     "output_type": "execute_result"
    },
    {
     "name": "stdout",
     "output_type": "stream",
     "text": [
      "The number of null values in the employmer address column is: 7\n",
      "Top values in the Employer City field\n"
     ]
    },
    {
     "data": {
      "text/plain": [
       "PLANO            34320\n",
       "NEW YORK         31022\n",
       "CHICAGO          25581\n",
       "ROCKVILLE        14499\n",
       "EDISON           12670\n",
       "PHILADELPHIA     12057\n",
       "DURHAM           11638\n",
       "SAN FRANCISCO    11199\n",
       "TROY             10938\n",
       "IRVING           10445\n",
       "HOUSTON           9795\n",
       "Name: EMPLOYER_CITY, dtype: int64"
      ]
     },
     "execution_count": 5,
     "metadata": {},
     "output_type": "execute_result"
    },
    {
     "name": "stdout",
     "output_type": "stream",
     "text": [
      "The number of null values in the employmer city column is: 15\n",
      "Top values in the Employer State field\n"
     ]
    },
    {
     "data": {
      "text/plain": [
       "CA    105701\n",
       "TX     87664\n",
       "NJ     76061\n",
       "NY     44097\n",
       "IL     41296\n",
       "MI     27320\n",
       "PA     25564\n",
       "MA     23383\n",
       "MD     21394\n",
       "WA     20786\n",
       "VA     19374\n",
       "Name: EMPLOYER_STATE, dtype: int64"
      ]
     },
     "execution_count": 5,
     "metadata": {},
     "output_type": "execute_result"
    },
    {
     "name": "stdout",
     "output_type": "stream",
     "text": [
      "The number of null values in the employmer state column is: 18\n",
      "Top values in the Employer Postal Code field\n"
     ]
    },
    {
     "data": {
      "text/plain": [
       "75024    22815\n",
       "20850    14287\n",
       "27709    11473\n",
       "60606    11023\n",
       "19103    10411\n",
       "75093     9269\n",
       "08817     9169\n",
       "94043     7837\n",
       "48083     7759\n",
       "95054     7594\n",
       "60601     7527\n",
       "Name: EMPLOYER_POSTAL_CODE, dtype: int64"
      ]
     },
     "execution_count": 5,
     "metadata": {},
     "output_type": "execute_result"
    },
    {
     "name": "stdout",
     "output_type": "stream",
     "text": [
      "The number of null values in the employmer postal code column is: 18\n",
      "Top values in the Employer Country field\n"
     ]
    },
    {
     "data": {
      "text/plain": [
       "UNITED STATES OF AMERICA    528132\n",
       "CANADA                           7\n",
       "AUSTRALIA                        2\n",
       "CHINA                            1\n",
       "CAMBODIA                         1\n",
       "Name: EMPLOYER_COUNTRY, dtype: int64"
      ]
     },
     "execution_count": 5,
     "metadata": {},
     "output_type": "execute_result"
    },
    {
     "name": "stdout",
     "output_type": "stream",
     "text": [
      "The number of null values in the employmer country column is: 96507\n",
      "Top values in the Attorney field\n"
     ]
    },
    {
     "data": {
      "text/plain": [
       "Y    351346\n",
       "N    176798\n",
       "Name: AGENT_REPRESENTING_EMPLOYER, dtype: int64"
      ]
     },
     "execution_count": 5,
     "metadata": {},
     "output_type": "execute_result"
    },
    {
     "name": "stdout",
     "output_type": "stream",
     "text": [
      "The number of null values in the attorney name column is: 96506\n",
      "Top values in the Job Title field\n"
     ]
    },
    {
     "data": {
      "text/plain": [
       "PROGRAMMER ANALYST          47151\n",
       "SOFTWARE ENGINEER           27950\n",
       "SOFTWARE DEVELOPER          16107\n",
       "SYSTEMS ANALYST             10798\n",
       "BUSINESS ANALYST             7410\n",
       "COMPUTER PROGRAMMER          7303\n",
       "SENIOR SOFTWARE ENGINEER     6983\n",
       "COMPUTER SYSTEMS ANALYST     6555\n",
       "DEVELOPER                    5835\n",
       "ASSISTANT PROFESSOR          4957\n",
       "PROJECT MANAGER              4262\n",
       "Name: JOB_TITLE, dtype: int64"
      ]
     },
     "execution_count": 5,
     "metadata": {},
     "output_type": "execute_result"
    },
    {
     "name": "stdout",
     "output_type": "stream",
     "text": [
      "The number of null values in the job title column is: 5\n",
      "Top values in the Occupation Code field\n"
     ]
    },
    {
     "data": {
      "text/plain": [
       "SOFTWARE DEVELOPERS, APPLICATIONS              124507\n",
       "COMPUTER SYSTEMS ANALYSTS                       93611\n",
       "COMPUTER PROGRAMMERS                            66603\n",
       "COMPUTER OCCUPATIONS, ALL OTHER                 53440\n",
       "SOFTWARE DEVELOPERS, SYSTEMS SOFTWARE           18401\n",
       "COMPUTER SYSTEMS ANALYST                        16902\n",
       "MANAGEMENT ANALYSTS                             13092\n",
       "ACCOUNTANTS AND AUDITORS                        11889\n",
       "NETWORK AND COMPUTER SYSTEMS ADMINISTRATORS     10817\n",
       "MECHANICAL ENGINEERS                             9886\n",
       "FINANCIAL ANALYSTS                               9633\n",
       "Name: SOC_NAME, dtype: int64"
      ]
     },
     "execution_count": 5,
     "metadata": {},
     "output_type": "execute_result"
    },
    {
     "name": "stdout",
     "output_type": "stream",
     "text": [
      "The number of null values in the occupation code column is: 3\n",
      "Top values in the Industry Code field\n"
     ]
    },
    {
     "data": {
      "text/plain": [
       "541511    232810\n",
       "541512     33909\n",
       "611310     25534\n",
       "54151      20914\n",
       "5416       19831\n",
       "541519     14205\n",
       "541330     13307\n",
       "54161       8508\n",
       "541211      7851\n",
       "622110      7304\n",
       "541611      7279\n",
       "Name: NAICS_CODE, dtype: int64"
      ]
     },
     "execution_count": 5,
     "metadata": {},
     "output_type": "execute_result"
    },
    {
     "name": "stdout",
     "output_type": "stream",
     "text": [
      "The number of null values in the industry code column is: 7\n",
      "Top values in the Full Time Position field\n"
     ]
    },
    {
     "data": {
      "text/plain": [
       "Y    610769\n",
       "N     13876\n",
       "Name: FULL_TIME_POSITION, dtype: int64"
      ]
     },
     "execution_count": 5,
     "metadata": {},
     "output_type": "execute_result"
    },
    {
     "name": "stdout",
     "output_type": "stream",
     "text": [
      "The number of null values in the full time position column is: 5\n",
      "Top values in the Prevailing Wage field\n"
     ]
    },
    {
     "data": {
      "text/plain": [
       "68,827.00     3928\n",
       "55,910.00     3918\n",
       "62,754.00     3661\n",
       "64,813.00     3376\n",
       "70,221.00     3334\n",
       "46,301.00     2771\n",
       "75,795.00     2728\n",
       "106,101.00    2370\n",
       "90,813.00     2329\n",
       "84,864.00     2183\n",
       "71,781.00     2142\n",
       "Name: PREVAILING_WAGE, dtype: int64"
      ]
     },
     "execution_count": 5,
     "metadata": {},
     "output_type": "execute_result"
    },
    {
     "name": "stdout",
     "output_type": "stream",
     "text": [
      "The number of null values in the prevailing wage column is: 1\n",
      "Top values in the PW Unit field\n"
     ]
    },
    {
     "data": {
      "text/plain": [
       "Year         585301\n",
       "Hour          38779\n",
       "Month           327\n",
       "Week            140\n",
       "Bi-Weekly        57\n",
       "Name: PW_UNIT_OF_PAY, dtype: int64"
      ]
     },
     "execution_count": 5,
     "metadata": {},
     "output_type": "execute_result"
    },
    {
     "name": "stdout",
     "output_type": "stream",
     "text": [
      "The number of null values in the PW unit column is: 46\n",
      "Top values in the PW Source field\n"
     ]
    },
    {
     "data": {
      "text/plain": [
       "OES      504806\n",
       "Other    115702\n",
       "CBA        4053\n",
       "DBA          22\n",
       "SCA          21\n",
       "Name: PW_SOURCE, dtype: int64"
      ]
     },
     "execution_count": 5,
     "metadata": {},
     "output_type": "execute_result"
    },
    {
     "name": "stdout",
     "output_type": "stream",
     "text": [
      "The number of null values in the PW source column is: 46\n",
      "Top values in the PW Source Year field\n"
     ]
    },
    {
     "data": {
      "text/plain": [
       "2016.0    437864\n",
       "2017.0    157657\n",
       "2015.0     17413\n",
       "2014.0      8236\n",
       "2013.0      2992\n",
       "2011.0       241\n",
       "2012.0       108\n",
       "2009.0        30\n",
       "2010.0        19\n",
       "2008.0        18\n",
       "2007.0        13\n",
       "2001.0         5\n",
       "0.0            2\n",
       "2000.0         1\n",
       "1999.0         1\n",
       "1998.0         1\n",
       "1993.0         1\n",
       "1985.0         1\n",
       "1.0            1\n",
       "15.0           1\n",
       "Name: PW_SOURCE_YEAR, dtype: int64"
      ]
     },
     "execution_count": 5,
     "metadata": {},
     "output_type": "execute_result"
    },
    {
     "name": "stdout",
     "output_type": "stream",
     "text": [
      "The number of null values in the PW source year column is: 45\n",
      "Top values in the Maximum Wage Offered field\n"
     ]
    },
    {
     "data": {
      "text/plain": [
       "0.00          488992\n",
       "87,000.00       4406\n",
       "100,000.00      3758\n",
       "120,000.00      3557\n",
       "90,000.00       2949\n",
       "110,000.00      2896\n",
       "94,500.00       2883\n",
       "88,200.00       2601\n",
       "70,000.00       2274\n",
       "95,000.00       2155\n",
       "75,000.00       2128\n",
       "Name: WAGE_RATE_OF_PAY_TO, dtype: int64"
      ]
     },
     "execution_count": 5,
     "metadata": {},
     "output_type": "execute_result"
    },
    {
     "name": "stdout",
     "output_type": "stream",
     "text": [
      "The number of null values in the maximum wage offered column is: 1\n",
      "Top values in the Wage Offered Unit field\n"
     ]
    },
    {
     "data": {
      "text/plain": [
       "Year         585417\n",
       "Hour          38405\n",
       "Month           502\n",
       "Week            188\n",
       "Bi-Weekly       130\n",
       "Name: WAGE_UNIT_OF_PAY, dtype: int64"
      ]
     },
     "execution_count": 5,
     "metadata": {},
     "output_type": "execute_result"
    },
    {
     "name": "stdout",
     "output_type": "stream",
     "text": [
      "The number of null values in the wage offered unit column is: 8\n",
      "Top values in the H1B Dependent field\n"
     ]
    },
    {
     "data": {
      "text/plain": [
       "N    377051\n",
       "Y    233857\n",
       "Name: H1B_DEPENDENT, dtype: int64"
      ]
     },
     "execution_count": 5,
     "metadata": {},
     "output_type": "execute_result"
    },
    {
     "name": "stdout",
     "output_type": "stream",
     "text": [
      "The number of null values in the H1B dependent column is: 13742\n",
      "Top values in the Willful Violator field\n"
     ]
    },
    {
     "data": {
      "text/plain": [
       "N    610428\n",
       "Y       477\n",
       "Name: WILLFUL_VIOLATOR, dtype: int64"
      ]
     },
     "execution_count": 5,
     "metadata": {},
     "output_type": "execute_result"
    },
    {
     "name": "stdout",
     "output_type": "stream",
     "text": [
      "The number of null values in the willful violator column is: 13745\n",
      "Top values in the Support H1B field\n"
     ]
    },
    {
     "data": {
      "text/plain": [
       "Y    231915\n",
       "N      8561\n",
       "Name: SUPPORT_H1B, dtype: int64"
      ]
     },
     "execution_count": 5,
     "metadata": {},
     "output_type": "execute_result"
    },
    {
     "name": "stdout",
     "output_type": "stream",
     "text": [
      "The number of null values in the support H1B column is: 384174\n",
      "Top values in the Labor Condition Agreement field\n"
     ]
    },
    {
     "data": {
      "text/plain": [
       "Y    233715\n",
       "N     11260\n",
       "Name: LABOR_CON_AGREE, dtype: int64"
      ]
     },
     "execution_count": 5,
     "metadata": {},
     "output_type": "execute_result"
    },
    {
     "name": "stdout",
     "output_type": "stream",
     "text": [
      "The number of null values in the labor condition agreement column is: 379675\n",
      "Top values in the Worksite City field\n"
     ]
    },
    {
     "data": {
      "text/plain": [
       "NEW YORK         37722\n",
       "SAN FRANCISCO    16145\n",
       "HOUSTON          13416\n",
       "CHICAGO          11757\n",
       "ATLANTA          11115\n",
       "SAN JOSE         10916\n",
       "IRVING            8818\n",
       "SEATTLE           8630\n",
       "SUNNYVALE         8282\n",
       "DALLAS            8056\n",
       "MOUNTAIN VIEW     7531\n",
       "Name: WORKSITE_CITY, dtype: int64"
      ]
     },
     "execution_count": 5,
     "metadata": {},
     "output_type": "execute_result"
    },
    {
     "name": "stdout",
     "output_type": "stream",
     "text": [
      "The number of null values in the worksite city column is: 13\n",
      "Top values in the Worksite County field\n"
     ]
    },
    {
     "data": {
      "text/plain": [
       "SANTA CLARA      41862\n",
       "NEW YORK         37684\n",
       "KING             22563\n",
       "DALLAS           21697\n",
       "MIDDLESEX        21469\n",
       "COOK             17641\n",
       "LOS ANGELES      17411\n",
       "SAN FRANCISCO    15678\n",
       "HARRIS           14040\n",
       "FULTON           13151\n",
       "SUFFOLK           8796\n",
       "Name: WORKSITE_COUNTY, dtype: int64"
      ]
     },
     "execution_count": 5,
     "metadata": {},
     "output_type": "execute_result"
    },
    {
     "name": "stdout",
     "output_type": "stream",
     "text": [
      "The number of null values in the worksite county column is: 1179\n",
      "Top values in the Worksite State field\n"
     ]
    },
    {
     "data": {
      "text/plain": [
       "CA    119409\n",
       "TX     66163\n",
       "NY     54974\n",
       "NJ     42571\n",
       "IL     32082\n",
       "WA     25476\n",
       "MA     25016\n",
       "GA     22521\n",
       "FL     21815\n",
       "PA     21600\n",
       "MI     20222\n",
       "Name: WORKSITE_STATE, dtype: int64"
      ]
     },
     "execution_count": 5,
     "metadata": {},
     "output_type": "execute_result"
    },
    {
     "name": "stdout",
     "output_type": "stream",
     "text": [
      "The number of null values in the worksite state column is: 9\n",
      "Top values in the Worksite Postal Code field\n"
     ]
    },
    {
     "data": {
      "text/plain": [
       "94043    6683\n",
       "98052    6487\n",
       "94105    6065\n",
       "95054    4810\n",
       "95134    4304\n",
       "94085    4037\n",
       "10036    3892\n",
       "75024    3658\n",
       "60606    3593\n",
       "75038    3174\n",
       "10017    2830\n",
       "Name: WORKSITE_POSTAL_CODE, dtype: int64"
      ]
     },
     "execution_count": 5,
     "metadata": {},
     "output_type": "execute_result"
    },
    {
     "name": "stdout",
     "output_type": "stream",
     "text": [
      "The number of null values in the worksite postal code is: 19\n"
     ]
    }
   ],
   "source": [
    "print('Top values in the Employment Start Date field')\n",
    "df['EMPLOYMENT_START_DATE'].value_counts()[:11]\n",
    "print('The number of null values in the employment start date column is: ' + str(df['EMPLOYMENT_START_DATE'].isnull().sum()))\n",
    "\n",
    "print('Top values in the Employment End Date field')\n",
    "df['EMPLOYMENT_END_DATE'].value_counts()[:11]\n",
    "print('The number of null values in the employment end date column is: ' + str(df['EMPLOYMENT_END_DATE'].isnull().sum()))\n",
    "\n",
    "print('Top values in the Employer Name field')\n",
    "df['EMPLOYER_NAME'].value_counts()[:11]\n",
    "print('The number of null values in the employmer name column is: ' + str(df['EMPLOYER_NAME'].isnull().sum()))\n",
    "\n",
    "print('Top values in the Employer Address field')\n",
    "df['EMPLOYER_ADDRESS'].value_counts()[:11]\n",
    "print('The number of null values in the employmer address column is: ' + str(df['EMPLOYER_ADDRESS'].isnull().sum()))\n",
    "\n",
    "print('Top values in the Employer City field')\n",
    "df['EMPLOYER_CITY'].value_counts()[:11]\n",
    "print('The number of null values in the employmer city column is: ' + str(df['EMPLOYER_CITY'].isnull().sum()))\n",
    "\n",
    "print('Top values in the Employer State field')\n",
    "df['EMPLOYER_STATE'].value_counts()[:11]\n",
    "print('The number of null values in the employmer state column is: ' + str(df['EMPLOYER_STATE'].isnull().sum()))\n",
    "\n",
    "print('Top values in the Employer Postal Code field')\n",
    "df['EMPLOYER_POSTAL_CODE'].value_counts()[:11]\n",
    "print('The number of null values in the employmer postal code column is: ' + str(df['EMPLOYER_POSTAL_CODE'].isnull().sum()))\n",
    "\n",
    "print('Top values in the Employer Country field')\n",
    "df['EMPLOYER_COUNTRY'].value_counts()[:11]\n",
    "print('The number of null values in the employmer country column is: ' + str(df['EMPLOYER_COUNTRY'].isnull().sum()))\n",
    "\n",
    "print('Top values in the Attorney field')\n",
    "df['AGENT_REPRESENTING_EMPLOYER'].value_counts()[:11]\n",
    "print('The number of null values in the attorney name column is: ' + str(df['AGENT_REPRESENTING_EMPLOYER'].isnull().sum()))\n",
    "\n",
    "print('Top values in the Job Title field')\n",
    "df['JOB_TITLE'].value_counts()[:11]\n",
    "print('The number of null values in the job title column is: ' + str(df['JOB_TITLE'].isnull().sum()))\n",
    "\n",
    "print('Top values in the Occupation Code field')\n",
    "df['SOC_NAME'].value_counts()[:11]\n",
    "print('The number of null values in the occupation code column is: ' + str(df['SOC_NAME'].isnull().sum()))\n",
    "\n",
    "print('Top values in the Industry Code field')\n",
    "df['NAICS_CODE'].value_counts()[:11]\n",
    "print('The number of null values in the industry code column is: ' + str(df['NAICS_CODE'].isnull().sum()))\n",
    "\n",
    "print('Top values in the Full Time Position field')\n",
    "df['FULL_TIME_POSITION'].value_counts()[:11]\n",
    "print('The number of null values in the full time position column is: ' + str(df['FULL_TIME_POSITION'].isnull().sum()))\n",
    "\n",
    "print('Top values in the Prevailing Wage field')\n",
    "df['PREVAILING_WAGE'].value_counts()[:11]\n",
    "print('The number of null values in the prevailing wage column is: ' + str(df['PREVAILING_WAGE'].isnull().sum()))\n",
    "\n",
    "print('Top values in the PW Unit field')\n",
    "df['PW_UNIT_OF_PAY'].value_counts()[:11]\n",
    "print('The number of null values in the PW unit column is: ' + str(df['PW_UNIT_OF_PAY'].isnull().sum()))\n",
    "\n",
    "print('Top values in the PW Source field')\n",
    "df['PW_SOURCE'].value_counts()[:11]\n",
    "print('The number of null values in the PW source column is: ' + str(df['PW_SOURCE'].isnull().sum()))\n",
    "\n",
    "print('Top values in the PW Source Year field')\n",
    "df['PW_SOURCE_YEAR'].value_counts()\n",
    "print('The number of null values in the PW source year column is: ' + str(df['PW_SOURCE_YEAR'].isnull().sum()))\n",
    "\n",
    "print('Top values in the Maximum Wage Offered field')\n",
    "df['WAGE_RATE_OF_PAY_TO'].value_counts()[:11]\n",
    "print('The number of null values in the maximum wage offered column is: ' + str(df['WAGE_RATE_OF_PAY_TO'].isnull().sum()))\n",
    "\n",
    "print('Top values in the Wage Offered Unit field')\n",
    "df['WAGE_UNIT_OF_PAY'].value_counts()[:11]\n",
    "print('The number of null values in the wage offered unit column is: ' + str(df['WAGE_UNIT_OF_PAY'].isnull().sum()))\n",
    "\n",
    "print('Top values in the H1B Dependent field')\n",
    "df['H1B_DEPENDENT'].value_counts()[:11]\n",
    "print('The number of null values in the H1B dependent column is: ' + str(df['H1B_DEPENDENT'].isnull().sum()))\n",
    "\n",
    "print('Top values in the Willful Violator field')\n",
    "df['WILLFUL_VIOLATOR'].value_counts()[:11]\n",
    "print('The number of null values in the willful violator column is: ' + str(df['WILLFUL_VIOLATOR'].isnull().sum()))\n",
    "\n",
    "print('Top values in the Support H1B field')\n",
    "df['SUPPORT_H1B'].value_counts()[:11]\n",
    "print('The number of null values in the support H1B column is: ' + str(df['SUPPORT_H1B'].isnull().sum()))\n",
    "\n",
    "print('Top values in the Labor Condition Agreement field')\n",
    "df['LABOR_CON_AGREE'].value_counts()[:11]\n",
    "print('The number of null values in the labor condition agreement column is: ' + str(df['LABOR_CON_AGREE'].isnull().sum()))\n",
    "\n",
    "print('Top values in the Worksite City field')\n",
    "df['WORKSITE_CITY'].value_counts()[:11]\n",
    "print('The number of null values in the worksite city column is: ' + str(df['WORKSITE_CITY'].isnull().sum()))\n",
    "\n",
    "print('Top values in the Worksite County field')\n",
    "df['WORKSITE_COUNTY'].value_counts()[:11]\n",
    "print('The number of null values in the worksite county column is: ' + str(df['WORKSITE_COUNTY'].isnull().sum()))\n",
    "\n",
    "print('Top values in the Worksite State field')\n",
    "df['WORKSITE_STATE'].value_counts()[:11]\n",
    "print('The number of null values in the worksite state column is: ' + str(df['WORKSITE_STATE'].isnull().sum()))\n",
    "\n",
    "print('Top values in the Worksite Postal Code field')\n",
    "df['WORKSITE_POSTAL_CODE'].value_counts()[:11]\n",
    "print('The number of null values in the worksite postal code is: ' + str(df['WORKSITE_POSTAL_CODE'].isnull().sum()))\n",
    "\n"
   ]
  },
  {
   "cell_type": "markdown",
   "metadata": {},
   "source": [
    "It is known now how many missing values there are per field.  Now, it must be decided on how to replace these missing values.  If a missing value is a categorical variable, the missing value will be replaced with the string 'None'.  If the missing value is a numerical variable, the missing value will be replaced with an imputed value.  The missing categorical variables will first be replaced with 'None' in the cell below.  "
   ]
  },
  {
   "cell_type": "code",
   "execution_count": 6,
   "metadata": {},
   "outputs": [],
   "source": [
    "df['EMPLOYMENT_START_DATE'].fillna(value='None', inplace=True)\n",
    "df['EMPLOYMENT_END_DATE'].fillna(value='None', inplace=True)\n",
    "df['EMPLOYER_NAME'].fillna(value='None', inplace=True)\n",
    "df['EMPLOYER_ADDRESS'].fillna(value='None', inplace=True)\n",
    "df['EMPLOYER_CITY'].fillna(value='None', inplace=True)\n",
    "df['EMPLOYER_STATE'].fillna(value='None', inplace=True)\n",
    "df['EMPLOYER_POSTAL_CODE'].fillna(value='None', inplace=True)\n",
    "df['EMPLOYER_COUNTRY'].fillna(value='None', inplace=True)\n",
    "df['AGENT_REPRESENTING_EMPLOYER'].fillna(value='None', inplace=True)\n",
    "df['JOB_TITLE'].fillna(value='None', inplace=True)\n",
    "df['SOC_NAME'].fillna(value='None', inplace=True)\n",
    "df['NAICS_CODE'].fillna(value='None', inplace=True)\n",
    "df['FULL_TIME_POSITION'].fillna(value='None', inplace=True)\n",
    "\n",
    "df['PW_UNIT_OF_PAY'].fillna(value='None', inplace=True)\n",
    "df['PW_SOURCE'].fillna(value='None', inplace=True)\n",
    "df['PW_SOURCE_YEAR'].fillna(value='None', inplace=True)\n",
    "\n",
    "df['WAGE_UNIT_OF_PAY'].fillna(value='None', inplace=True)\n",
    "df['H1B_DEPENDENT'].fillna(value='None', inplace=True)\n",
    "df['WILLFUL_VIOLATOR'].fillna(value='None', inplace=True)\n",
    "df['SUPPORT_H1B'].fillna(value='None', inplace=True)\n",
    "df['LABOR_CON_AGREE'].fillna(value='None', inplace=True)\n",
    "df['WORKSITE_CITY'].fillna(value='None', inplace=True)\n",
    "df['WORKSITE_COUNTY'].fillna(value='None', inplace=True)\n",
    "df['WORKSITE_STATE'].fillna(value='None', inplace=True)\n",
    "df['WORKSITE_POSTAL_CODE'].fillna(value='None', inplace=True)"
   ]
  },
  {
   "cell_type": "markdown",
   "metadata": {},
   "source": [
    "In the WAGE_RATE_OF_PAY_TO field, many cells have the value 0.00, 448,992 cells have this value to be exact.  This field represents the maximum wage offered by the employer.  0.00 cannot be replaced with 'None' as this field is a numerical variable that cannot be replaced with a categorical variable value.  Instead, the value 0.00 can be repaced with the value in the wage offered column because the employer did not offer a maximum wage and the maximum wage can be substituted with wage offered.  Many employers may not offer a maximum wage because they do not want wage to have a range of values, therefore the wage offered will be used in the cases where WAGE_RATE_OF_PAY_TO is 0.00 or null.  \n",
    "\n",
    "There is one more field left that is numerical.  It is the prevailing wage field and it only has one entry with a missing value.  The value cannot be replaced with 'None' because the field is a numerical variable.  Therefore, the missing value is replaced with '0.00' because this application was denied and all the other applications that had a prevailing wage of '0.00' the application denied.  By replacing the missing value with '0.00' the application is grouped with other denied applications and maintains its own denied identity.   \n",
    "\n",
    "Two missing value indicator columns were created in the cell below so that it known if the WAGE_RATE_OF_PAY_TO or the PREVAILING_WAGE columns had a missing value before the missing values were replcaced with another value.  \n"
   ]
  },
  {
   "cell_type": "code",
   "execution_count": 7,
   "metadata": {},
   "outputs": [],
   "source": [
    "for index, row in df.iterrows():\n",
    "    if row['WAGE_RATE_OF_PAY_TO']=='0.00':\n",
    "        df.at[index, 'WAGE_RATE_OF_PAY_TO'] = row['WAGE_RATE_OF_PAY_FROM']\n",
    "        \n",
    "df['MAX_WAGE_INDICATOR'] = df['WAGE_RATE_OF_PAY_TO'].isnull().astype(int)    \n",
    "missing_maxwage=df[df['WAGE_RATE_OF_PAY_TO'].isnull()] #The offered wage for the entry with a maximum wage value missing is 63,024.00\n",
    "WAGE_RATE_OF_PAY_FROM='63,024.00'\n",
    "df['WAGE_RATE_OF_PAY_TO'].fillna(value=WAGE_RATE_OF_PAY_FROM, inplace=True)\n",
    "\n",
    "df['PREVAILING_WAGE_INDICATOR']=df['PREVAILING_WAGE'].isnull().astype(int)   \n",
    "df['PREVAILING_WAGE'].fillna(value='0.00', inplace=True)\n",
    " \n",
    "\n",
    "\n"
   ]
  },
  {
   "cell_type": "markdown",
   "metadata": {},
   "source": [
    "Now that the entries with missing values in critical fields have been fixed, values that are irregularities need to be replaced with more understandable notation.  For example in the AGENT_ATTORNEY_NAME field, a comma is in many rows that do not have an attorney name.  The comma can be replaced with the value None so that it is easily identifiable if an application had an attorney or not.  "
   ]
  },
  {
   "cell_type": "code",
   "execution_count": 8,
   "metadata": {},
   "outputs": [],
   "source": [
    "df['AGENT_ATTORNEY_NAME'] = df['AGENT_ATTORNEY_NAME'].map({',': 'None'})"
   ]
  },
  {
   "cell_type": "markdown",
   "metadata": {},
   "source": [
    "Currently, the industry from which the job is in is represented by a NAICS_CODE.  The NAICS code needs to be converted to an industry name.  The following code cell retrieves the corresponding industry name from the 2012_NAICS_Structure.csv and adds codes with titles to a dictionary.  NAICS code values are first replaced in the dataframe with industry names then the codes without an entry in the dictionary are replaced with the string 'None'.  Replacing the numerical codes with industry names is more readable and easy to understand.    "
   ]
  },
  {
   "cell_type": "code",
   "execution_count": 9,
   "metadata": {},
   "outputs": [],
   "source": [
    "NAICS=pd.read_csv('2012_NAICS_Structure.csv')\n",
    "NAICS.drop(['2012 NAICS Structure'], axis=1, inplace=True) \n",
    "NAICS=NAICS.dropna(subset = ['Unnamed: 1', 'Unnamed: 2'])\n",
    "NAICS.columns=['2012 NAICS Code', '2012 NAICS Title']\n",
    "NAICS=NAICS.loc[2:]\n",
    "\n",
    "naics_dict = dict(zip(NAICS['2012 NAICS Code'], NAICS['2012 NAICS Title']))\n",
    "\n",
    "for index, row in df.iterrows():     #Iterate through each row in the dataframe\n",
    "        code=(row['NAICS_CODE'])   #Focus on the NAICS_CODE column\n",
    "        code=str(code)\n",
    "        if code not in naics_dict:  #check if code is in dictionary\n",
    "            df.at[index, 'NAICS_CODE'] = 'None'\n",
    "        else:\n",
    "            df.at[index, 'NAICS_CODE'] = naics_dict[code]\n",
    "            \n"
   ]
  },
  {
   "cell_type": "markdown",
   "metadata": {},
   "source": [
    "Next, the case status column will be examined in order to remove irrelevant rows.  The case status column identifies whether or not the H1B-LCA application was certified, denied, withdrawn, or certified-withdraw.  Because the goal is to predict the likelihood of an applicant receiving a certified status, the rows containing applications that were withdrawn can be removed as they give no insight on whether an application was certified or not.  "
   ]
  },
  {
   "cell_type": "code",
   "execution_count": 10,
   "metadata": {},
   "outputs": [],
   "source": [
    "df = df[df.CASE_STATUS != 'WITHDRAWN']\n",
    "\n"
   ]
  },
  {
   "cell_type": "markdown",
   "metadata": {},
   "source": [
    "A possible reason for the declined H1B-LCA application is the difference between the prevailing wage and the wage offered by the employer.  If the wage difference is large, it may be a reason for the application receiving a rejection because a lower wage than the prevailing wage is considered unfair.  The units for the prevailing wage and the offered wage may be in different units such as monthly, hourly, and yearly.  The following script converts the units and the monetary value of the prevailing wage as well as the wage offered by the employer to a yearly unit and the monetary value corresponding to an annual wage.  \n",
    "\n",
    "Another reason the application could be rejected is that prevailing wage listed is not correctly listed.  By converting all of the salaries to annual salaries, the salaries can be compared to a database with prevailing wage values."
   ]
  },
  {
   "cell_type": "code",
   "execution_count": 12,
   "metadata": {},
   "outputs": [],
   "source": [
    "for index, row in df.iterrows():\n",
    "    row['PREVAILING_WAGE']=str(row['PREVAILING_WAGE']).replace(',','')\n",
    "    row['WAGE_RATE_OF_PAY_FROM']=str(row['WAGE_RATE_OF_PAY_FROM']).replace(',','')\n",
    "    if (row['PW_UNIT_OF_PAY']=='Hour'):\n",
    "        df.at[index, 'PW_UNIT_OF_PAY'] = 'Year'\n",
    "        df.at[index, 'PREVAILING_WAGE'] = float(row['PREVAILING_WAGE'])*(2080)\n",
    "    if (row['WAGE_UNIT_OF_PAY']=='Hour'):\n",
    "        df.at[index, 'WAGE_UNIT_OF_PAY']= 'Year'\n",
    "        df.at[index, 'WAGE_UNIT_OF_PAY'] = float(row['WAGE_RATE_OF_PAY_FROM'])*(2080) \n",
    "    if (row['PW_UNIT_OF_PAY']=='Year'):\n",
    "        pass\n",
    "    if (row['WAGE_UNIT_OF_PAY']=='Year'):\n",
    "        pass\n",
    "    if (row['PW_UNIT_OF_PAY']=='Week'):\n",
    "        df.at[index, 'PW_UNIT_OF_PAY'] = 'Year'\n",
    "        df.at[index, 'PREVAILING_WAGE'] = float(row['PREVAILING_WAGE'])*(2080/40)\n",
    "    if (row['WAGE_UNIT_OF_PAY']=='Week'):\n",
    "        df.at[index, 'WAGE_UNIT_OF_PAY']= 'Year'\n",
    "        df.at[index, 'WAGE_UNIT_OF_PAY'] = float(row['WAGE_RATE_OF_PAY_FROM'])*(2080/40)  \n",
    "    if (row['PW_UNIT_OF_PAY']=='Month'):\n",
    "        df.at[index, 'PW_UNIT_OF_PAY'] = 'Year'\n",
    "        df.at[index, 'PREVAILING_WAGE'] = float(row['PREVAILING_WAGE'])*(12)\n",
    "    if (row['WAGE_UNIT_OF_PAY']=='Month'):\n",
    "        df.at[index, 'WAGE_UNIT_OF_PAY']= 'Year'\n",
    "        df.at[index, 'WAGE_UNIT_OF_PAY'] = float(row['WAGE_RATE_OF_PAY_FROM'])*(12)\n",
    "    if (row['PW_UNIT_OF_PAY']=='Bi-Weekly'):\n",
    "        df.at[index, 'PW_UNIT_OF_PAY'] = 'Year'\n",
    "        df.at[index, 'PREVAILING_WAGE'] = float(row['PREVAILING_WAGE'])*(2080/80)\n",
    "    if (row['WAGE_UNIT_OF_PAY']=='Bi-Weekly'):\n",
    "        df.at[index, 'PW_UNIT_OF_PAY'] = 'Year'\n",
    "        df.at[index, 'PREVAILING_WAGE'] = float(row['WAGE_RATE_OF_PAY_FROM'])*(2080/80)\n",
    "        \n",
    "    "
   ]
  },
  {
   "cell_type": "markdown",
   "metadata": {},
   "source": [
    "In order to see if there is a discrepancy between the prevailing wage and wage given by the employer, a calculated field is created below that represents the difference between the prevailing wage and wage given by the employer.  "
   ]
  },
  {
   "cell_type": "code",
   "execution_count": 13,
   "metadata": {},
   "outputs": [],
   "source": [
    "for index, row in df.iterrows():\n",
    "    df.at[index, 'WAGE_RATE_OF_PAY_FROM'] = float(str(row['WAGE_RATE_OF_PAY_FROM']).replace(',',''))\n",
    "    df.at[index, 'PREVAILING_WAGE']=float(str(row['PREVAILING_WAGE']).replace(',',''))\n",
    "df['WAGE_DIFFERENCE'] = df.WAGE_RATE_OF_PAY_FROM.astype(float)-df.PREVAILING_WAGE.astype(float)"
   ]
  },
  {
   "cell_type": "markdown",
   "metadata": {},
   "source": [
    "Another aspect of data wrangling involves finding the outliers in a field that may lead to faulty analysis later on.  In order to make sure the prevailing wage column and the wage rate offered by the employer contain values that are valid, a scatter plot can be constructed to make sure the salaries fall within a reasonable range.  \n",
    "\n",
    "The lists for graphing wage offered vs. prevailing wage by different units of time are created in the code below.  "
   ]
  },
  {
   "cell_type": "code",
   "execution_count": 14,
   "metadata": {},
   "outputs": [],
   "source": [
    "pw_year=[]\n",
    "wage_year=[]\n",
    "pw_month=[]\n",
    "wage_month=[]\n",
    "pw_week=[]\n",
    "wage_week=[]\n",
    "pw_hour=[]\n",
    "wage_hour=[]\n",
    "pw_biweekly=[]\n",
    "wage_biweekly=[]\n",
    "for index, row in df.iterrows():\n",
    "    if (row['PW_UNIT_OF_PAY']=='Year') & (row['WAGE_UNIT_OF_PAY']=='Year'):   #Wage w/ units Year\n",
    "        pw_year.append(row['PREVAILING_WAGE'])\n",
    "        wage_year.append(row['WAGE_RATE_OF_PAY_FROM'])\n",
    "    if (row['PW_UNIT_OF_PAY']=='Month') & (row['WAGE_UNIT_OF_PAY']=='Month'): #Wage w/ units Month\n",
    "        pw_month.append(row['PREVAILING_WAGE'])\n",
    "        wage_month.append(row['WAGE_RATE_OF_PAY_FROM'])\n",
    "    if (row['PW_UNIT_OF_PAY']=='Week') & (row['WAGE_UNIT_OF_PAY']=='Week'):  #Wage w/ units Week\n",
    "        pw_week.append(row['PREVAILING_WAGE'])\n",
    "        wage_week.append(row['WAGE_RATE_OF_PAY_FROM'])\n",
    "    if (row['PW_UNIT_OF_PAY']=='Hour') & (row['WAGE_UNIT_OF_PAY']=='Hour'):  #Week w/ units Hour\n",
    "        pw_hour.append(row['PREVAILING_WAGE'])\n",
    "        wage_hour.append(row['WAGE_RATE_OF_PAY_FROM'])\n",
    "    if (row['PW_UNIT_OF_PAY']=='Bi-Weekly') & (row['WAGE_UNIT_OF_PAY']=='Bi-Weekly'):  #Week w/ units Bi-Weekly\n",
    "        pw_biweekly.append(row['PREVAILING_WAGE'])\n",
    "        wage_biweekly.append(row['WAGE_RATE_OF_PAY_FROM'])\n",
    "    \n",
    "    \n",
    "    \n",
    "\n",
    "    \n",
    "\n",
    "\n"
   ]
  },
  {
   "cell_type": "markdown",
   "metadata": {},
   "source": [
    "Install plotly graphical visualization tool"
   ]
  },
  {
   "cell_type": "code",
   "execution_count": 15,
   "metadata": {
    "scrolled": true
   },
   "outputs": [
    {
     "name": "stdout",
     "output_type": "stream",
     "text": [
      "Requirement already up-to-date: plotly in /Users/sooryapaturi/anaconda3/lib/python3.6/site-packages (3.1.1)\n",
      "Requirement not upgraded as not directly required: requests in /Users/sooryapaturi/anaconda3/lib/python3.6/site-packages (from plotly) (2.18.4)\n",
      "Requirement not upgraded as not directly required: retrying>=1.3.3 in /Users/sooryapaturi/anaconda3/lib/python3.6/site-packages (from plotly) (1.3.3)\n",
      "Requirement not upgraded as not directly required: pytz in /Users/sooryapaturi/anaconda3/lib/python3.6/site-packages (from plotly) (2018.4)\n",
      "Requirement not upgraded as not directly required: six in /Users/sooryapaturi/anaconda3/lib/python3.6/site-packages (from plotly) (1.11.0)\n",
      "Requirement not upgraded as not directly required: nbformat>=4.2 in /Users/sooryapaturi/anaconda3/lib/python3.6/site-packages (from plotly) (4.4.0)\n",
      "Requirement not upgraded as not directly required: decorator>=4.0.6 in /Users/sooryapaturi/anaconda3/lib/python3.6/site-packages (from plotly) (4.3.0)\n",
      "Requirement not upgraded as not directly required: chardet<3.1.0,>=3.0.2 in /Users/sooryapaturi/anaconda3/lib/python3.6/site-packages (from requests->plotly) (3.0.4)\n",
      "Requirement not upgraded as not directly required: idna<2.7,>=2.5 in /Users/sooryapaturi/anaconda3/lib/python3.6/site-packages (from requests->plotly) (2.6)\n",
      "Requirement not upgraded as not directly required: urllib3<1.23,>=1.21.1 in /Users/sooryapaturi/anaconda3/lib/python3.6/site-packages (from requests->plotly) (1.22)\n",
      "Requirement not upgraded as not directly required: certifi>=2017.4.17 in /Users/sooryapaturi/anaconda3/lib/python3.6/site-packages (from requests->plotly) (2018.4.16)\n",
      "Requirement not upgraded as not directly required: ipython_genutils in /Users/sooryapaturi/anaconda3/lib/python3.6/site-packages (from nbformat>=4.2->plotly) (0.2.0)\n",
      "Requirement not upgraded as not directly required: traitlets>=4.1 in /Users/sooryapaturi/anaconda3/lib/python3.6/site-packages (from nbformat>=4.2->plotly) (4.3.2)\n",
      "Requirement not upgraded as not directly required: jsonschema!=2.5.0,>=2.4 in /Users/sooryapaturi/anaconda3/lib/python3.6/site-packages (from nbformat>=4.2->plotly) (2.6.0)\n",
      "Requirement not upgraded as not directly required: jupyter_core in /Users/sooryapaturi/anaconda3/lib/python3.6/site-packages (from nbformat>=4.2->plotly) (4.4.0)\n",
      "\u001b[33mYou are using pip version 10.0.1, however version 18.0 is available.\n",
      "You should consider upgrading via the 'pip install --upgrade pip' command.\u001b[0m\n"
     ]
    }
   ],
   "source": [
    "!pip install plotly --upgrade"
   ]
  },
  {
   "cell_type": "markdown",
   "metadata": {},
   "source": [
    "The following code creates a scatter plot showing the relationship between the wage offered by the employer to the prevailing wage for the position.  Any wages that seem unreasonable will have the rows they are contained in removed.  "
   ]
  },
  {
   "cell_type": "code",
   "execution_count": 21,
   "metadata": {},
   "outputs": [
    {
     "data": {
      "image/png": "[encoded data removed]",
      "text/plain": [
       "<IPython.core.display.Image object>"
      ]
     },
     "execution_count": 21,
     "metadata": {},
     "output_type": "execute_result"
    }
   ],
   "source": [
    "import plotly.plotly as py\n",
    "import plotly.graph_objs as go\n",
    "import numpy as np\n",
    "from key import key\n",
    "import plotly\n",
    "from IPython.display import Image\n",
    "from IPython.display import display\n",
    "\n",
    "plotly.tools.set_credentials_file(username='spaturi', api_key=key)\n",
    "\n",
    "trace = go.Scattergl(\n",
    "    x = np.array(pw_year),    #Graph the prevailing wage with units year\n",
    "    y = np.array(wage_year),  #Graph the wage offered with units year\n",
    "    mode = 'markers',\n",
    "    marker = dict(\n",
    "        color = '#FFBAD2',\n",
    "        line = dict(width = 1)\n",
    "    )\n",
    ")\n",
    "layout = go.Layout(\n",
    "    title='Annual Wage Offered by Employer vs. Annual Prevailing Wage',\n",
    "    xaxis=dict(\n",
    "        title='Prevailing Wage in Dollars',\n",
    "        titlefont=dict(\n",
    "            family='Courier New, monospace',\n",
    "            size=18,\n",
    "            color='#7f7f7f'\n",
    "        )\n",
    "    ),\n",
    "    yaxis=dict(\n",
    "        title='Wage Offered by Employer in Dollars',\n",
    "        titlefont=dict(\n",
    "            family='Courier New, monospace',\n",
    "            size=18,\n",
    "            color='#7f7f7f'\n",
    "        )\n",
    "    )\n",
    ")\n",
    "fig = go.Figure(data=[trace], layout=layout)\n",
    "\n",
    "#py.iplot(fig)\n",
    "Image(\"Annual_Wage_Graph.png\")"
   ]
  },
  {
   "cell_type": "markdown",
   "metadata": {},
   "source": [
    "It is clear from the graph above that there are outlier values in the prevailing wage axis.  There are some entries with a prevailing wage greater than 50 million.  These are not correct prevailing wages and should be removed from the data set.  However, when looking at the case status of these applications with a prevailing wage greater than 50 million below, it is seen that all the application are denied.  It can be hypothesized that an unrealistic prevailing wage listed can lead to an application denial.  Removing these rows would remove rows that recieved a denial status and make the data set even more unbalanced towards the certified entries.  Therefore, the outliers are kept because prevailing wage may be a large factor in the application case status.\n"
   ]
  },
  {
   "cell_type": "code",
   "execution_count": 17,
   "metadata": {},
   "outputs": [
    {
     "name": "stdout",
     "output_type": "stream",
     "text": [
      "152678240.0 SENIOR PROGRAMMER ANALYST DENIED\n",
      "181319840.0 ASSURANCE MANAGER DENIED\n",
      "111404800.0 TEST ENGINEER DENIED\n",
      "56286880.0 REHAB COUNSELOR (DIRECT CARE PROFESSIONAL) DENIED\n",
      "195813280.0 SR. QUALITY ASSURANCE ANALYST DENIED\n",
      "144501760.0 PROGRAMMER ANALYST / SOFTWARE DEVELOPER DENIED\n",
      "165008480.0 ORACLE DATABASE DEVELOPER DENIED\n",
      "146059680.0 SOFTWARE ENGINEER/DEVELOPER DENIED\n",
      "160249440.0 TECHNICAL WRITER DENIED\n",
      "157048320.0 DATABASE ADMINISTRATOR DENIED\n",
      "138357440.0 PROGRAMMER ANALYST(UI) DENIED\n",
      "172839680.0 PROGRAMMER ANALYST DENIED\n",
      "134811040.0 PROGRAMMER ANALYST DENIED\n",
      "211604640.0 PR DIRECTOR DENIED\n",
      "162067360.0 SENIOR SOFTWARE ENGINEER DENIED\n",
      "170849120.0 SENIOR ANALYST DENIED\n",
      "108636320.0 PROGRAMMER ANALYST DENIED\n",
      "103417600.0 INSTRUCTOR DENIED\n",
      "80903680.0 ARCHITECTURAL DESIGNER DENIED\n",
      "143074880.0 AUTONOMOUS VEHICLE SYSTEMS ENGINEER DENIED\n",
      "134205760.0 PROJECT MANAGER DENIED\n",
      "93882880.0 COMPUTER PROGRAMMER DENIED\n",
      "108288960.0 PRODUCT ANALYST DENIED\n",
      "201622735.0 CONSULTANT LEVEL 3 DENIED\n",
      "106645760.0 NETWORK ENGINEER DENIED\n",
      "103746240.0 ASSOCIATE SOFTWARE ENGINEER DENIED\n",
      "110656000.0 PROJECT MANAGER DENIED\n",
      "128406720.0 NETWORK ENGINEER DENIED\n",
      "97084000.0 AUDIENCE DEVELOPMENT ANALYST DENIED\n",
      "127023520.0 TEXTILE ENGINEER DENIED\n",
      "119104960.0 FINANCIAL ANALYST DENIED\n",
      "104137280.0 INDUSTRIAL ENGINEER DENIED\n",
      "80991040.0 INTERNAL MEDICINE RESIDENT DENIED\n",
      "143074880.0 ELECTRICAL ENGINEER DENIED\n",
      "104000000.0 PROGRAMMER ANALYST DENIED\n",
      "93882880.0 PROGRAMMER ANALYST DENIED\n",
      "117721760.0 ELECTRICAL ENGINEER DENIED\n",
      "131522560.0 SYSTEMS SCIENTIST DENIED\n",
      "123475040.0 FIELD ENGINEER DENIED\n",
      "92888640.0 SUPPLY CHAIN SPECIALIST DENIED\n",
      "98729280.0 ESTIMATOR DENIED\n",
      "104655200.0 POSTDOCTORAL RESEARCHER DENIED\n",
      "75712000.0 LANDSCAPE ARCHITECT DENIED\n",
      "108505280.0 FULL STACK DEVELOPER DENIED\n",
      "108852640.0 DATABASE ADMINISTRATOR DENIED\n",
      "123475040.0 FIELD ENGINEER DENIED\n",
      "116292800.0 PROGRAMMER ANALYST DENIED\n",
      "119668640.0 SYSTEMS ANALYST DENIED\n",
      "114736960.0 PROGRAMMER ANALYST DENIED\n",
      "114736960.0 PROGRAMMER ANALYST DENIED\n",
      "118456000.0 PROGRAMMER ANALYST DENIED\n",
      "157048320.0 JAVA UI DEVELOPER DENIED\n",
      "117807040.0 PROGRAMMER ANALYST DENIED\n",
      "78956800.0 JUNIOR DESIGNER DENIED\n",
      "168209600.0 SOFTWARE DEVELOPER DENIED\n",
      "128406720.0 NETWORK ENGINEER DENIED\n",
      "120966560.0 RESEARCH FELLOW DENIED\n",
      "105391520.0 MEDICAL PHYSICS RESIDENT, RADIATION ONCOLOGY PHYSICIST DENIED\n",
      "132431520.0 DATABASE ADMINISTRATOR DENIED\n",
      "297785280.0 MEDICAL PHYSICIST DENIED\n",
      "115211200.0 PROGRAMMER ANALYST DENIED\n",
      "157957280.0 SOFTWARE ENGINEER DENIED\n",
      "152721920.0 NETWORK ENGINEER DENIED\n",
      "127845120.0 LEAD ENGINEER DENIED\n",
      "168080640.0 COMPUTER PROGRAMMER ANALYST DENIED\n",
      "130917280.0 SYSTEMS ANALYST DENIED\n",
      "196634880.0 ENGINEERING GROUP LEAD (EGL) DENIED\n",
      "151424000.0 PROGRAMMER ANALYST DENIED\n",
      "136021600.0 SOFTWARE QA DENIED\n",
      "247557440.0 ENGAGEMENT MANAGER - IM DENIED\n",
      "136021600.0 SOFTWARE QA DENIED\n",
      "113308000.0 NON-INVASIVE CARDIOLOGY FELLOW DENIED\n",
      "117505440.0 MECHANICAL ENGINEER DENIED\n",
      "401360960.0 HOSPITALIST DENIED\n",
      "183655680.0 ORACLE DATABASE ADMINISTRATOR DENIED\n"
     ]
    }
   ],
   "source": [
    "for index, row in df.iterrows():\n",
    "    if row['PW_UNIT_OF_PAY']=='Year':\n",
    "        if float(row['PREVAILING_WAGE'])>50000000:\n",
    "            print(row['PREVAILING_WAGE'], row['JOB_TITLE'], row['CASE_STATUS'])\n",
    "    \n"
   ]
  },
  {
   "cell_type": "markdown",
   "metadata": {},
   "source": [
    "The following code cell displays the final dataframe after the data wrangling steps have concluded.  "
   ]
  },
  {
   "cell_type": "code",
   "execution_count": 19,
   "metadata": {
    "scrolled": true
   },
   "outputs": [
    {
     "data": {
      "text/html": [
       "<div>\n",
       "<style scoped>\n",
       "    .dataframe tbody tr th:only-of-type {\n",
       "        vertical-align: middle;\n",
       "    }\n",
       "\n",
       "    .dataframe tbody tr th {\n",
       "        vertical-align: top;\n",
       "    }\n",
       "\n",
       "    .dataframe thead th {\n",
       "        text-align: right;\n",
       "    }\n",
       "</style>\n",
       "<table border=\"1\" class=\"dataframe\">\n",
       "  <thead>\n",
       "    <tr style=\"text-align: right;\">\n",
       "      <th></th>\n",
       "      <th>CASE_STATUS</th>\n",
       "      <th>CASE_SUBMITTED</th>\n",
       "      <th>VISA_CLASS</th>\n",
       "      <th>EMPLOYMENT_START_DATE</th>\n",
       "      <th>EMPLOYMENT_END_DATE</th>\n",
       "      <th>EMPLOYER_NAME</th>\n",
       "      <th>EMPLOYER_ADDRESS</th>\n",
       "      <th>EMPLOYER_CITY</th>\n",
       "      <th>EMPLOYER_STATE</th>\n",
       "      <th>EMPLOYER_POSTAL_CODE</th>\n",
       "      <th>EMPLOYER_COUNTRY</th>\n",
       "      <th>AGENT_REPRESENTING_EMPLOYER</th>\n",
       "      <th>AGENT_ATTORNEY_NAME</th>\n",
       "      <th>JOB_TITLE</th>\n",
       "      <th>SOC_CODE</th>\n",
       "      <th>SOC_NAME</th>\n",
       "      <th>NAICS_CODE</th>\n",
       "      <th>TOTAL_WORKERS</th>\n",
       "      <th>NEW_EMPLOYMENT</th>\n",
       "      <th>CONTINUED_EMPLOYMENT</th>\n",
       "      <th>CHANGE_PREVIOUS_EMPLOYMENT</th>\n",
       "      <th>NEW_CONCURRENT_EMPLOYMENT</th>\n",
       "      <th>CHANGE_EMPLOYER</th>\n",
       "      <th>AMENDED_PETITION</th>\n",
       "      <th>FULL_TIME_POSITION</th>\n",
       "      <th>PREVAILING_WAGE</th>\n",
       "      <th>PW_UNIT_OF_PAY</th>\n",
       "      <th>PW_SOURCE</th>\n",
       "      <th>PW_SOURCE_YEAR</th>\n",
       "      <th>WAGE_RATE_OF_PAY_FROM</th>\n",
       "      <th>WAGE_RATE_OF_PAY_TO</th>\n",
       "      <th>WAGE_UNIT_OF_PAY</th>\n",
       "      <th>H1B_DEPENDENT</th>\n",
       "      <th>WILLFUL_VIOLATOR</th>\n",
       "      <th>SUPPORT_H1B</th>\n",
       "      <th>LABOR_CON_AGREE</th>\n",
       "      <th>WORKSITE_CITY</th>\n",
       "      <th>WORKSITE_COUNTY</th>\n",
       "      <th>WORKSITE_STATE</th>\n",
       "      <th>WORKSITE_POSTAL_CODE</th>\n",
       "      <th>MAX_WAGE_INDICATOR</th>\n",
       "      <th>PREVAILING_WAGE_INDICATOR</th>\n",
       "      <th>WAGE_DIFFERENCE</th>\n",
       "    </tr>\n",
       "  </thead>\n",
       "  <tbody>\n",
       "    <tr>\n",
       "      <th>0</th>\n",
       "      <td>CERTIFIED-WITHDRAWN</td>\n",
       "      <td>2/24/2016</td>\n",
       "      <td>H-1B</td>\n",
       "      <td>8/10/2016</td>\n",
       "      <td>8/10/2019</td>\n",
       "      <td>DISCOVER PRODUCTS INC.</td>\n",
       "      <td>2500 LAKE COOK ROAD</td>\n",
       "      <td>RIVERWOODS</td>\n",
       "      <td>IL</td>\n",
       "      <td>60015</td>\n",
       "      <td>UNITED STATES OF AMERICA</td>\n",
       "      <td>Y</td>\n",
       "      <td>NaN</td>\n",
       "      <td>ASSOCIATE DATA INTEGRATION</td>\n",
       "      <td>15-1121</td>\n",
       "      <td>COMPUTER SYSTEMS ANALYSTS</td>\n",
       "      <td>Credit Card Issuing</td>\n",
       "      <td>1</td>\n",
       "      <td>1</td>\n",
       "      <td>0</td>\n",
       "      <td>0</td>\n",
       "      <td>0</td>\n",
       "      <td>0</td>\n",
       "      <td>0</td>\n",
       "      <td>Y</td>\n",
       "      <td>59197</td>\n",
       "      <td>Year</td>\n",
       "      <td>OES</td>\n",
       "      <td>2015</td>\n",
       "      <td>65811</td>\n",
       "      <td>67,320.00</td>\n",
       "      <td>Year</td>\n",
       "      <td>N</td>\n",
       "      <td>N</td>\n",
       "      <td>None</td>\n",
       "      <td>Y</td>\n",
       "      <td>RIVERWOODS</td>\n",
       "      <td>LAKE</td>\n",
       "      <td>IL</td>\n",
       "      <td>60015</td>\n",
       "      <td>0</td>\n",
       "      <td>0</td>\n",
       "      <td>6614.0</td>\n",
       "    </tr>\n",
       "    <tr>\n",
       "      <th>1</th>\n",
       "      <td>CERTIFIED-WITHDRAWN</td>\n",
       "      <td>3/4/2016</td>\n",
       "      <td>H-1B</td>\n",
       "      <td>8/16/2016</td>\n",
       "      <td>8/16/2019</td>\n",
       "      <td>DFS SERVICES LLC</td>\n",
       "      <td>2500 LAKE COOK ROAD</td>\n",
       "      <td>RIVERWOODS</td>\n",
       "      <td>IL</td>\n",
       "      <td>60015</td>\n",
       "      <td>UNITED STATES OF AMERICA</td>\n",
       "      <td>Y</td>\n",
       "      <td>NaN</td>\n",
       "      <td>SENIOR ASSOCIATE</td>\n",
       "      <td>15-2031</td>\n",
       "      <td>OPERATIONS RESEARCH ANALYSTS</td>\n",
       "      <td>Credit Card Issuing</td>\n",
       "      <td>1</td>\n",
       "      <td>1</td>\n",
       "      <td>0</td>\n",
       "      <td>0</td>\n",
       "      <td>0</td>\n",
       "      <td>0</td>\n",
       "      <td>0</td>\n",
       "      <td>Y</td>\n",
       "      <td>49800</td>\n",
       "      <td>Year</td>\n",
       "      <td>Other</td>\n",
       "      <td>2015</td>\n",
       "      <td>53000</td>\n",
       "      <td>57,200.00</td>\n",
       "      <td>Year</td>\n",
       "      <td>N</td>\n",
       "      <td>N</td>\n",
       "      <td>None</td>\n",
       "      <td>Y</td>\n",
       "      <td>RIVERWOODS</td>\n",
       "      <td>LAKE</td>\n",
       "      <td>IL</td>\n",
       "      <td>60015</td>\n",
       "      <td>0</td>\n",
       "      <td>0</td>\n",
       "      <td>3200.0</td>\n",
       "    </tr>\n",
       "    <tr>\n",
       "      <th>2</th>\n",
       "      <td>CERTIFIED-WITHDRAWN</td>\n",
       "      <td>3/10/2016</td>\n",
       "      <td>H-1B</td>\n",
       "      <td>9/9/2016</td>\n",
       "      <td>9/9/2019</td>\n",
       "      <td>EASTBANC TECHNOLOGIES LLC</td>\n",
       "      <td>1211 31ST ST. NW</td>\n",
       "      <td>WASHINGTON</td>\n",
       "      <td>DC</td>\n",
       "      <td>20007</td>\n",
       "      <td>UNITED STATES OF AMERICA</td>\n",
       "      <td>Y</td>\n",
       "      <td>NaN</td>\n",
       "      <td>.NET SOFTWARE PROGRAMMER</td>\n",
       "      <td>15-1131</td>\n",
       "      <td>COMPUTER PROGRAMMERS</td>\n",
       "      <td>Custom Computer Programming Services</td>\n",
       "      <td>2</td>\n",
       "      <td>2</td>\n",
       "      <td>0</td>\n",
       "      <td>0</td>\n",
       "      <td>0</td>\n",
       "      <td>0</td>\n",
       "      <td>0</td>\n",
       "      <td>Y</td>\n",
       "      <td>76502</td>\n",
       "      <td>Year</td>\n",
       "      <td>OES</td>\n",
       "      <td>2015</td>\n",
       "      <td>77000</td>\n",
       "      <td>77,000.00</td>\n",
       "      <td>Year</td>\n",
       "      <td>Y</td>\n",
       "      <td>N</td>\n",
       "      <td>Y</td>\n",
       "      <td>None</td>\n",
       "      <td>WASHINGTON</td>\n",
       "      <td>None</td>\n",
       "      <td>DC</td>\n",
       "      <td>20007</td>\n",
       "      <td>0</td>\n",
       "      <td>0</td>\n",
       "      <td>498.0</td>\n",
       "    </tr>\n",
       "    <tr>\n",
       "      <th>4</th>\n",
       "      <td>CERTIFIED-WITHDRAWN</td>\n",
       "      <td>2/22/2015</td>\n",
       "      <td>H-1B</td>\n",
       "      <td>3/1/2015</td>\n",
       "      <td>3/1/2018</td>\n",
       "      <td>BB&amp;T CORPORATION</td>\n",
       "      <td>223 WEST NASH STREET</td>\n",
       "      <td>WILSON</td>\n",
       "      <td>NC</td>\n",
       "      <td>27893</td>\n",
       "      <td>UNITED STATES OF AMERICA</td>\n",
       "      <td>Y</td>\n",
       "      <td>NaN</td>\n",
       "      <td>ASSOCIATE - ESOTERIC ASSET BACKED SECURITIES</td>\n",
       "      <td>13-2041</td>\n",
       "      <td>CREDIT ANALYSTS</td>\n",
       "      <td>Commercial Banking</td>\n",
       "      <td>1</td>\n",
       "      <td>0</td>\n",
       "      <td>0</td>\n",
       "      <td>0</td>\n",
       "      <td>0</td>\n",
       "      <td>1</td>\n",
       "      <td>0</td>\n",
       "      <td>Y</td>\n",
       "      <td>116605</td>\n",
       "      <td>Year</td>\n",
       "      <td>OES</td>\n",
       "      <td>2015</td>\n",
       "      <td>132500</td>\n",
       "      <td>132,500.00</td>\n",
       "      <td>Year</td>\n",
       "      <td>N</td>\n",
       "      <td>N</td>\n",
       "      <td>None</td>\n",
       "      <td>Y</td>\n",
       "      <td>NEW YORK</td>\n",
       "      <td>NEW YORK</td>\n",
       "      <td>NY</td>\n",
       "      <td>10036</td>\n",
       "      <td>0</td>\n",
       "      <td>0</td>\n",
       "      <td>15895.0</td>\n",
       "    </tr>\n",
       "    <tr>\n",
       "      <th>5</th>\n",
       "      <td>CERTIFIED-WITHDRAWN</td>\n",
       "      <td>3/12/2015</td>\n",
       "      <td>H-1B</td>\n",
       "      <td>9/11/2015</td>\n",
       "      <td>9/11/2018</td>\n",
       "      <td>SUNTRUST BANKS, INC.</td>\n",
       "      <td>303 PEACHTREE STREET, NE</td>\n",
       "      <td>ATLANTA</td>\n",
       "      <td>GA</td>\n",
       "      <td>30308</td>\n",
       "      <td>UNITED STATES OF AMERICA</td>\n",
       "      <td>Y</td>\n",
       "      <td>NaN</td>\n",
       "      <td>CREDIT RISK METRICS SPECIALIST</td>\n",
       "      <td>13-2099</td>\n",
       "      <td>FINANCIAL SPECIALISTS, ALL OTHER</td>\n",
       "      <td>Commercial Banking</td>\n",
       "      <td>1</td>\n",
       "      <td>1</td>\n",
       "      <td>0</td>\n",
       "      <td>0</td>\n",
       "      <td>0</td>\n",
       "      <td>0</td>\n",
       "      <td>0</td>\n",
       "      <td>Y</td>\n",
       "      <td>59405</td>\n",
       "      <td>Year</td>\n",
       "      <td>OES</td>\n",
       "      <td>2015</td>\n",
       "      <td>71750</td>\n",
       "      <td>71,750.00</td>\n",
       "      <td>Year</td>\n",
       "      <td>N</td>\n",
       "      <td>N</td>\n",
       "      <td>None</td>\n",
       "      <td>Y</td>\n",
       "      <td>ATLANTA</td>\n",
       "      <td>FULTON</td>\n",
       "      <td>GA</td>\n",
       "      <td>30303</td>\n",
       "      <td>0</td>\n",
       "      <td>0</td>\n",
       "      <td>12345.0</td>\n",
       "    </tr>\n",
       "    <tr>\n",
       "      <th>6</th>\n",
       "      <td>CERTIFIED-WITHDRAWN</td>\n",
       "      <td>2/25/2016</td>\n",
       "      <td>H-1B</td>\n",
       "      <td>8/25/2016</td>\n",
       "      <td>8/24/2019</td>\n",
       "      <td>CITADEL INFORMATION SERVICES INC.</td>\n",
       "      <td>33 WOOD AVENUE SOUTH</td>\n",
       "      <td>ISELIN</td>\n",
       "      <td>NJ</td>\n",
       "      <td>08830</td>\n",
       "      <td>UNITED STATES OF AMERICA</td>\n",
       "      <td>N</td>\n",
       "      <td>None</td>\n",
       "      <td>BUSINESS SYSTEMS ANALYST</td>\n",
       "      <td>13-1111</td>\n",
       "      <td>MANAGEMENT ANALYSTS</td>\n",
       "      <td>Custom Computer Programming Services</td>\n",
       "      <td>1</td>\n",
       "      <td>1</td>\n",
       "      <td>0</td>\n",
       "      <td>0</td>\n",
       "      <td>0</td>\n",
       "      <td>0</td>\n",
       "      <td>0</td>\n",
       "      <td>Y</td>\n",
       "      <td>52915</td>\n",
       "      <td>Year</td>\n",
       "      <td>Other</td>\n",
       "      <td>2015</td>\n",
       "      <td>61000</td>\n",
       "      <td>61,000.00</td>\n",
       "      <td>Year</td>\n",
       "      <td>Y</td>\n",
       "      <td>N</td>\n",
       "      <td>Y</td>\n",
       "      <td>Y</td>\n",
       "      <td>EDISON</td>\n",
       "      <td>MIDDLESEX</td>\n",
       "      <td>NJ</td>\n",
       "      <td>08837</td>\n",
       "      <td>0</td>\n",
       "      <td>0</td>\n",
       "      <td>8085.0</td>\n",
       "    </tr>\n",
       "    <tr>\n",
       "      <th>7</th>\n",
       "      <td>CERTIFIED-WITHDRAWN</td>\n",
       "      <td>2/25/2016</td>\n",
       "      <td>H-1B</td>\n",
       "      <td>8/26/2016</td>\n",
       "      <td>8/25/2019</td>\n",
       "      <td>CITADEL INFORMATION SERVICES INC.</td>\n",
       "      <td>33 WOOD AVENUE SOUTH</td>\n",
       "      <td>ISELIN</td>\n",
       "      <td>NJ</td>\n",
       "      <td>08830</td>\n",
       "      <td>UNITED STATES OF AMERICA</td>\n",
       "      <td>N</td>\n",
       "      <td>None</td>\n",
       "      <td>PROGRAMMER ANALYST</td>\n",
       "      <td>15-1131</td>\n",
       "      <td>COMPUTER PROGRAMMERS</td>\n",
       "      <td>Custom Computer Programming Services</td>\n",
       "      <td>1</td>\n",
       "      <td>1</td>\n",
       "      <td>0</td>\n",
       "      <td>0</td>\n",
       "      <td>0</td>\n",
       "      <td>0</td>\n",
       "      <td>0</td>\n",
       "      <td>Y</td>\n",
       "      <td>51730</td>\n",
       "      <td>Year</td>\n",
       "      <td>Other</td>\n",
       "      <td>2015</td>\n",
       "      <td>60500</td>\n",
       "      <td>60,500.00</td>\n",
       "      <td>Year</td>\n",
       "      <td>Y</td>\n",
       "      <td>N</td>\n",
       "      <td>Y</td>\n",
       "      <td>Y</td>\n",
       "      <td>EDISON</td>\n",
       "      <td>MIDDLESEX</td>\n",
       "      <td>NJ</td>\n",
       "      <td>08837</td>\n",
       "      <td>0</td>\n",
       "      <td>0</td>\n",
       "      <td>8770.0</td>\n",
       "    </tr>\n",
       "    <tr>\n",
       "      <th>8</th>\n",
       "      <td>CERTIFIED-WITHDRAWN</td>\n",
       "      <td>2/27/2016</td>\n",
       "      <td>H-1B</td>\n",
       "      <td>8/26/2016</td>\n",
       "      <td>8/25/2019</td>\n",
       "      <td>CITADEL INFORMATION SERVICES INC.</td>\n",
       "      <td>33 WOOD AVENUE SOUTH</td>\n",
       "      <td>ISELIN</td>\n",
       "      <td>NJ</td>\n",
       "      <td>08830</td>\n",
       "      <td>UNITED STATES OF AMERICA</td>\n",
       "      <td>N</td>\n",
       "      <td>None</td>\n",
       "      <td>PROGRAMMER ANALYST</td>\n",
       "      <td>15-1131</td>\n",
       "      <td>COMPUTER PROGRAMMERS</td>\n",
       "      <td>Custom Computer Programming Services</td>\n",
       "      <td>1</td>\n",
       "      <td>1</td>\n",
       "      <td>0</td>\n",
       "      <td>0</td>\n",
       "      <td>0</td>\n",
       "      <td>0</td>\n",
       "      <td>0</td>\n",
       "      <td>Y</td>\n",
       "      <td>58053</td>\n",
       "      <td>Year</td>\n",
       "      <td>Other</td>\n",
       "      <td>2015</td>\n",
       "      <td>60450</td>\n",
       "      <td>60,450.00</td>\n",
       "      <td>Year</td>\n",
       "      <td>Y</td>\n",
       "      <td>N</td>\n",
       "      <td>Y</td>\n",
       "      <td>Y</td>\n",
       "      <td>NEW YORK</td>\n",
       "      <td>NEW YORK</td>\n",
       "      <td>NY</td>\n",
       "      <td>10005</td>\n",
       "      <td>0</td>\n",
       "      <td>0</td>\n",
       "      <td>2397.0</td>\n",
       "    </tr>\n",
       "    <tr>\n",
       "      <th>9</th>\n",
       "      <td>CERTIFIED-WITHDRAWN</td>\n",
       "      <td>2/28/2016</td>\n",
       "      <td>H-1B</td>\n",
       "      <td>8/29/2016</td>\n",
       "      <td>8/26/2019</td>\n",
       "      <td>CITADEL INFORMATION SERVICES INC.</td>\n",
       "      <td>33 WOOD AVENUE SOUTH</td>\n",
       "      <td>ISELIN</td>\n",
       "      <td>NJ</td>\n",
       "      <td>08830</td>\n",
       "      <td>UNITED STATES OF AMERICA</td>\n",
       "      <td>N</td>\n",
       "      <td>None</td>\n",
       "      <td>MARKET RESEARCH ANALYST</td>\n",
       "      <td>13-1161</td>\n",
       "      <td>MARKET RESEARCH ANALYSTS AND MARKETING SPECIAL...</td>\n",
       "      <td>Custom Computer Programming Services</td>\n",
       "      <td>1</td>\n",
       "      <td>1</td>\n",
       "      <td>0</td>\n",
       "      <td>0</td>\n",
       "      <td>0</td>\n",
       "      <td>0</td>\n",
       "      <td>0</td>\n",
       "      <td>Y</td>\n",
       "      <td>46821</td>\n",
       "      <td>Year</td>\n",
       "      <td>Other</td>\n",
       "      <td>2015</td>\n",
       "      <td>50000</td>\n",
       "      <td>50,000.00</td>\n",
       "      <td>Year</td>\n",
       "      <td>Y</td>\n",
       "      <td>N</td>\n",
       "      <td>Y</td>\n",
       "      <td>Y</td>\n",
       "      <td>ISELIN</td>\n",
       "      <td>MIDDLESEX</td>\n",
       "      <td>NJ</td>\n",
       "      <td>08830</td>\n",
       "      <td>0</td>\n",
       "      <td>0</td>\n",
       "      <td>3179.0</td>\n",
       "    </tr>\n",
       "    <tr>\n",
       "      <th>10</th>\n",
       "      <td>CERTIFIED-WITHDRAWN</td>\n",
       "      <td>2/29/2016</td>\n",
       "      <td>H-1B</td>\n",
       "      <td>8/29/2016</td>\n",
       "      <td>8/29/2019</td>\n",
       "      <td>CITADEL INFORMATION SERVICES INC.</td>\n",
       "      <td>33 WOOD AVENUE SOUTH</td>\n",
       "      <td>ISELIN</td>\n",
       "      <td>NJ</td>\n",
       "      <td>08830</td>\n",
       "      <td>UNITED STATES OF AMERICA</td>\n",
       "      <td>N</td>\n",
       "      <td>None</td>\n",
       "      <td>PROGRAMMER ANALYST</td>\n",
       "      <td>15-1131</td>\n",
       "      <td>COMPUTER PROGRAMMERS</td>\n",
       "      <td>Custom Computer Programming Services</td>\n",
       "      <td>1</td>\n",
       "      <td>1</td>\n",
       "      <td>0</td>\n",
       "      <td>0</td>\n",
       "      <td>0</td>\n",
       "      <td>0</td>\n",
       "      <td>0</td>\n",
       "      <td>Y</td>\n",
       "      <td>58053</td>\n",
       "      <td>Year</td>\n",
       "      <td>Other</td>\n",
       "      <td>2015</td>\n",
       "      <td>60400</td>\n",
       "      <td>60,400.00</td>\n",
       "      <td>Year</td>\n",
       "      <td>Y</td>\n",
       "      <td>N</td>\n",
       "      <td>Y</td>\n",
       "      <td>Y</td>\n",
       "      <td>NEW YORK</td>\n",
       "      <td>NEW YORK</td>\n",
       "      <td>NY</td>\n",
       "      <td>10010</td>\n",
       "      <td>0</td>\n",
       "      <td>0</td>\n",
       "      <td>2347.0</td>\n",
       "    </tr>\n",
       "  </tbody>\n",
       "</table>\n",
       "</div>"
      ],
      "text/plain": [
       "            CASE_STATUS CASE_SUBMITTED VISA_CLASS EMPLOYMENT_START_DATE  \\\n",
       "0   CERTIFIED-WITHDRAWN      2/24/2016       H-1B             8/10/2016   \n",
       "1   CERTIFIED-WITHDRAWN       3/4/2016       H-1B             8/16/2016   \n",
       "2   CERTIFIED-WITHDRAWN      3/10/2016       H-1B              9/9/2016   \n",
       "4   CERTIFIED-WITHDRAWN      2/22/2015       H-1B              3/1/2015   \n",
       "5   CERTIFIED-WITHDRAWN      3/12/2015       H-1B             9/11/2015   \n",
       "6   CERTIFIED-WITHDRAWN      2/25/2016       H-1B             8/25/2016   \n",
       "7   CERTIFIED-WITHDRAWN      2/25/2016       H-1B             8/26/2016   \n",
       "8   CERTIFIED-WITHDRAWN      2/27/2016       H-1B             8/26/2016   \n",
       "9   CERTIFIED-WITHDRAWN      2/28/2016       H-1B             8/29/2016   \n",
       "10  CERTIFIED-WITHDRAWN      2/29/2016       H-1B             8/29/2016   \n",
       "\n",
       "   EMPLOYMENT_END_DATE                      EMPLOYER_NAME  \\\n",
       "0            8/10/2019             DISCOVER PRODUCTS INC.   \n",
       "1            8/16/2019                   DFS SERVICES LLC   \n",
       "2             9/9/2019          EASTBANC TECHNOLOGIES LLC   \n",
       "4             3/1/2018                   BB&T CORPORATION   \n",
       "5            9/11/2018               SUNTRUST BANKS, INC.   \n",
       "6            8/24/2019  CITADEL INFORMATION SERVICES INC.   \n",
       "7            8/25/2019  CITADEL INFORMATION SERVICES INC.   \n",
       "8            8/25/2019  CITADEL INFORMATION SERVICES INC.   \n",
       "9            8/26/2019  CITADEL INFORMATION SERVICES INC.   \n",
       "10           8/29/2019  CITADEL INFORMATION SERVICES INC.   \n",
       "\n",
       "            EMPLOYER_ADDRESS EMPLOYER_CITY EMPLOYER_STATE  \\\n",
       "0        2500 LAKE COOK ROAD    RIVERWOODS             IL   \n",
       "1        2500 LAKE COOK ROAD    RIVERWOODS             IL   \n",
       "2           1211 31ST ST. NW    WASHINGTON             DC   \n",
       "4       223 WEST NASH STREET        WILSON             NC   \n",
       "5   303 PEACHTREE STREET, NE       ATLANTA             GA   \n",
       "6       33 WOOD AVENUE SOUTH        ISELIN             NJ   \n",
       "7       33 WOOD AVENUE SOUTH        ISELIN             NJ   \n",
       "8       33 WOOD AVENUE SOUTH        ISELIN             NJ   \n",
       "9       33 WOOD AVENUE SOUTH        ISELIN             NJ   \n",
       "10      33 WOOD AVENUE SOUTH        ISELIN             NJ   \n",
       "\n",
       "   EMPLOYER_POSTAL_CODE          EMPLOYER_COUNTRY AGENT_REPRESENTING_EMPLOYER  \\\n",
       "0                 60015  UNITED STATES OF AMERICA                           Y   \n",
       "1                 60015  UNITED STATES OF AMERICA                           Y   \n",
       "2                 20007  UNITED STATES OF AMERICA                           Y   \n",
       "4                 27893  UNITED STATES OF AMERICA                           Y   \n",
       "5                 30308  UNITED STATES OF AMERICA                           Y   \n",
       "6                 08830  UNITED STATES OF AMERICA                           N   \n",
       "7                 08830  UNITED STATES OF AMERICA                           N   \n",
       "8                 08830  UNITED STATES OF AMERICA                           N   \n",
       "9                 08830  UNITED STATES OF AMERICA                           N   \n",
       "10                08830  UNITED STATES OF AMERICA                           N   \n",
       "\n",
       "   AGENT_ATTORNEY_NAME                                     JOB_TITLE SOC_CODE  \\\n",
       "0                  NaN                    ASSOCIATE DATA INTEGRATION  15-1121   \n",
       "1                  NaN                              SENIOR ASSOCIATE  15-2031   \n",
       "2                  NaN                      .NET SOFTWARE PROGRAMMER  15-1131   \n",
       "4                  NaN  ASSOCIATE - ESOTERIC ASSET BACKED SECURITIES  13-2041   \n",
       "5                  NaN                CREDIT RISK METRICS SPECIALIST  13-2099   \n",
       "6                 None                      BUSINESS SYSTEMS ANALYST  13-1111   \n",
       "7                 None                            PROGRAMMER ANALYST  15-1131   \n",
       "8                 None                            PROGRAMMER ANALYST  15-1131   \n",
       "9                 None                       MARKET RESEARCH ANALYST  13-1161   \n",
       "10                None                            PROGRAMMER ANALYST  15-1131   \n",
       "\n",
       "                                             SOC_NAME  \\\n",
       "0                           COMPUTER SYSTEMS ANALYSTS   \n",
       "1                        OPERATIONS RESEARCH ANALYSTS   \n",
       "2                                COMPUTER PROGRAMMERS   \n",
       "4                                     CREDIT ANALYSTS   \n",
       "5                    FINANCIAL SPECIALISTS, ALL OTHER   \n",
       "6                                 MANAGEMENT ANALYSTS   \n",
       "7                                COMPUTER PROGRAMMERS   \n",
       "8                                COMPUTER PROGRAMMERS   \n",
       "9   MARKET RESEARCH ANALYSTS AND MARKETING SPECIAL...   \n",
       "10                               COMPUTER PROGRAMMERS   \n",
       "\n",
       "                               NAICS_CODE  TOTAL_WORKERS  NEW_EMPLOYMENT  \\\n",
       "0                    Credit Card Issuing               1               1   \n",
       "1                    Credit Card Issuing               1               1   \n",
       "2   Custom Computer Programming Services               2               2   \n",
       "4                     Commercial Banking               1               0   \n",
       "5                     Commercial Banking               1               1   \n",
       "6   Custom Computer Programming Services               1               1   \n",
       "7   Custom Computer Programming Services               1               1   \n",
       "8   Custom Computer Programming Services               1               1   \n",
       "9   Custom Computer Programming Services               1               1   \n",
       "10  Custom Computer Programming Services               1               1   \n",
       "\n",
       "    CONTINUED_EMPLOYMENT  CHANGE_PREVIOUS_EMPLOYMENT  \\\n",
       "0                      0                           0   \n",
       "1                      0                           0   \n",
       "2                      0                           0   \n",
       "4                      0                           0   \n",
       "5                      0                           0   \n",
       "6                      0                           0   \n",
       "7                      0                           0   \n",
       "8                      0                           0   \n",
       "9                      0                           0   \n",
       "10                     0                           0   \n",
       "\n",
       "    NEW_CONCURRENT_EMPLOYMENT  CHANGE_EMPLOYER  AMENDED_PETITION  \\\n",
       "0                           0                0                 0   \n",
       "1                           0                0                 0   \n",
       "2                           0                0                 0   \n",
       "4                           0                1                 0   \n",
       "5                           0                0                 0   \n",
       "6                           0                0                 0   \n",
       "7                           0                0                 0   \n",
       "8                           0                0                 0   \n",
       "9                           0                0                 0   \n",
       "10                          0                0                 0   \n",
       "\n",
       "   FULL_TIME_POSITION PREVAILING_WAGE PW_UNIT_OF_PAY PW_SOURCE PW_SOURCE_YEAR  \\\n",
       "0                   Y           59197           Year       OES           2015   \n",
       "1                   Y           49800           Year     Other           2015   \n",
       "2                   Y           76502           Year       OES           2015   \n",
       "4                   Y          116605           Year       OES           2015   \n",
       "5                   Y           59405           Year       OES           2015   \n",
       "6                   Y           52915           Year     Other           2015   \n",
       "7                   Y           51730           Year     Other           2015   \n",
       "8                   Y           58053           Year     Other           2015   \n",
       "9                   Y           46821           Year     Other           2015   \n",
       "10                  Y           58053           Year     Other           2015   \n",
       "\n",
       "   WAGE_RATE_OF_PAY_FROM WAGE_RATE_OF_PAY_TO WAGE_UNIT_OF_PAY H1B_DEPENDENT  \\\n",
       "0                  65811           67,320.00             Year             N   \n",
       "1                  53000           57,200.00             Year             N   \n",
       "2                  77000           77,000.00             Year             Y   \n",
       "4                 132500          132,500.00             Year             N   \n",
       "5                  71750           71,750.00             Year             N   \n",
       "6                  61000           61,000.00             Year             Y   \n",
       "7                  60500           60,500.00             Year             Y   \n",
       "8                  60450           60,450.00             Year             Y   \n",
       "9                  50000           50,000.00             Year             Y   \n",
       "10                 60400           60,400.00             Year             Y   \n",
       "\n",
       "   WILLFUL_VIOLATOR SUPPORT_H1B LABOR_CON_AGREE WORKSITE_CITY WORKSITE_COUNTY  \\\n",
       "0                 N        None               Y    RIVERWOODS            LAKE   \n",
       "1                 N        None               Y    RIVERWOODS            LAKE   \n",
       "2                 N           Y            None    WASHINGTON            None   \n",
       "4                 N        None               Y      NEW YORK        NEW YORK   \n",
       "5                 N        None               Y       ATLANTA          FULTON   \n",
       "6                 N           Y               Y        EDISON       MIDDLESEX   \n",
       "7                 N           Y               Y        EDISON       MIDDLESEX   \n",
       "8                 N           Y               Y      NEW YORK        NEW YORK   \n",
       "9                 N           Y               Y        ISELIN       MIDDLESEX   \n",
       "10                N           Y               Y      NEW YORK        NEW YORK   \n",
       "\n",
       "   WORKSITE_STATE WORKSITE_POSTAL_CODE  MAX_WAGE_INDICATOR  \\\n",
       "0              IL                60015                   0   \n",
       "1              IL                60015                   0   \n",
       "2              DC                20007                   0   \n",
       "4              NY                10036                   0   \n",
       "5              GA                30303                   0   \n",
       "6              NJ                08837                   0   \n",
       "7              NJ                08837                   0   \n",
       "8              NY                10005                   0   \n",
       "9              NJ                08830                   0   \n",
       "10             NY                10010                   0   \n",
       "\n",
       "    PREVAILING_WAGE_INDICATOR  WAGE_DIFFERENCE  \n",
       "0                           0           6614.0  \n",
       "1                           0           3200.0  \n",
       "2                           0            498.0  \n",
       "4                           0          15895.0  \n",
       "5                           0          12345.0  \n",
       "6                           0           8085.0  \n",
       "7                           0           8770.0  \n",
       "8                           0           2397.0  \n",
       "9                           0           3179.0  \n",
       "10                          0           2347.0  "
      ]
     },
     "execution_count": 19,
     "metadata": {},
     "output_type": "execute_result"
    }
   ],
   "source": [
    "df.head(10)"
   ]
  },
  {
   "cell_type": "code",
   "execution_count": null,
   "metadata": {},
   "outputs": [],
   "source": []
  }
 ],
 "metadata": {
  "kernelspec": {
   "display_name": "Python 3",
   "language": "python",
   "name": "python3"
  },
  "language_info": {
   "codemirror_mode": {
    "name": "ipython",
    "version": 3
   },
   "file_extension": ".py",
   "mimetype": "text/x-python",
   "name": "python",
   "nbconvert_exporter": "python",
   "pygments_lexer": "ipython3",
   "version": "3.6.5"
  }
 },
 "nbformat": 4,
 "nbformat_minor": 2
}
