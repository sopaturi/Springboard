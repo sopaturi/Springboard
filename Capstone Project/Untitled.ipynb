{
 "cells": [
  {
   "cell_type": "code",
   "execution_count": 1,
   "metadata": {},
   "outputs": [],
   "source": [
    "import pandas as pd\n",
    "\n",
    "\n",
    "df = pd.read_csv('H1B.csv', low_memory=False)"
   ]
  },
  {
   "cell_type": "code",
   "execution_count": 9,
   "metadata": {},
   "outputs": [
    {
     "name": "stdout",
     "output_type": "stream",
     "text": [
      "151335 Year 17181.00 PROGRAMMER ANALYST CERTIFIED\n",
      "286110 Year 17181.00 PROGRAMMER ANALYST CERTIFIED\n",
      "300381 Year 17181.00 PROGRAMMER ANALYST CERTIFIED\n",
      "480122 Year 17181.00 PROGRAMMER ANALYST CERTIFIED\n",
      "551205 Year 17181.00 PROGRAMMER ANALYST CERTIFIED-WITHDRAWN\n",
      "586822 Year 17181.00 PROGRAMMER ANALYST CERTIFIED-WITHDRAWN\n"
     ]
    }
   ],
   "source": [
    "for index, row in df.iterrows():\n",
    "    try:\n",
    "        row['PREVAILING_WAGE']=row['PREVAILING_WAGE'].replace(',','')\n",
    "        if row['PREVAILING_WAGE']=='17181.00':\n",
    "            print(index, row['PW_UNIT_OF_PAY'], row['PREVAILING_WAGE'], row['JOB_TITLE'], row['CASE_STATUS'])\n",
    "    except:\n",
    "        continue\n",
    "      #  if float(row['PREVAILING_WAGE'])==:\n",
    "        if row['JOB_TITLE']=='DATA SCIENTIST':\n",
    "            print(index, row['PW_UNIT_OF_PAY'], row['PREVAILING_WAGE'], row['JOB_TITLE'], row['CASE_STATUS'])"
   ]
  },
  {
   "cell_type": "code",
   "execution_count": null,
   "metadata": {},
   "outputs": [],
   "source": [
    "\n"
   ]
  }
 ],
 "metadata": {
  "kernelspec": {
   "display_name": "Python 3",
   "language": "python",
   "name": "python3"
  },
  "language_info": {
   "codemirror_mode": {
    "name": "ipython",
    "version": 3
   },
   "file_extension": ".py",
   "mimetype": "text/x-python",
   "name": "python",
   "nbconvert_exporter": "python",
   "pygments_lexer": "ipython3",
   "version": "3.6.5"
  }
 },
 "nbformat": 4,
 "nbformat_minor": 2
}
